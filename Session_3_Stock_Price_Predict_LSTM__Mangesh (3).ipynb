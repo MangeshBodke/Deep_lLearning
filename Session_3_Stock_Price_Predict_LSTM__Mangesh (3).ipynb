{
  "cells": [
    {
      "cell_type": "markdown",
      "id": "9b0f40ad",
      "metadata": {
        "id": "9b0f40ad"
      },
      "source": [
        "# Can We Predict the Stock Price Movement in the Future?\n",
        "YOu can read the article explaining how LSTM works [here](https://web.stanford.edu/class/cs379c/archive/2018/class_messages_listing/content/Artificial_Neural_Network_Technology_Tutorials/OlahLSTM-NEURAL-NETWORK-TUTORIAL-15.pdf)\n",
        "\n",
        "## Is the stock a random walk?"
      ]
    },
    {
      "cell_type": "markdown",
      "id": "f10e89e0",
      "metadata": {
        "id": "f10e89e0"
      },
      "source": [
        "## Long Short Term Memory \n",
        "\n"
      ]
    },
    {
      "cell_type": "markdown",
      "id": "4656e33e",
      "metadata": {
        "id": "4656e33e"
      },
      "source": [
        "1. Import the libraries"
      ]
    },
    {
      "cell_type": "code",
      "source": [
        "!pip install --upgrade pandas"
      ],
      "metadata": {
        "colab": {
          "base_uri": "https://localhost:8080/",
          "height": 0
        },
        "id": "bZv2H1OcyWTZ",
        "outputId": "c56bfcd4-2fb2-4acd-d24d-7d93f046401e"
      },
      "id": "bZv2H1OcyWTZ",
      "execution_count": 1,
      "outputs": [
        {
          "output_type": "stream",
          "name": "stdout",
          "text": [
            "Requirement already satisfied: pandas in /usr/local/lib/python3.7/dist-packages (1.3.5)\n",
            "Requirement already satisfied: numpy>=1.17.3 in /usr/local/lib/python3.7/dist-packages (from pandas) (1.21.5)\n",
            "Requirement already satisfied: python-dateutil>=2.7.3 in /usr/local/lib/python3.7/dist-packages (from pandas) (2.8.2)\n",
            "Requirement already satisfied: pytz>=2017.3 in /usr/local/lib/python3.7/dist-packages (from pandas) (2018.9)\n",
            "Requirement already satisfied: six>=1.5 in /usr/local/lib/python3.7/dist-packages (from python-dateutil>=2.7.3->pandas) (1.15.0)\n"
          ]
        }
      ]
    },
    {
      "cell_type": "code",
      "source": [
        "!pip install --upgrade pandas-datareader"
      ],
      "metadata": {
        "colab": {
          "base_uri": "https://localhost:8080/",
          "height": 0
        },
        "id": "vWh6Dct-yUOr",
        "outputId": "25ada352-c636-4f25-c72b-803e1758db8f"
      },
      "id": "vWh6Dct-yUOr",
      "execution_count": 2,
      "outputs": [
        {
          "output_type": "stream",
          "name": "stdout",
          "text": [
            "Requirement already satisfied: pandas-datareader in /usr/local/lib/python3.7/dist-packages (0.10.0)\n",
            "Requirement already satisfied: pandas>=0.23 in /usr/local/lib/python3.7/dist-packages (from pandas-datareader) (1.3.5)\n",
            "Requirement already satisfied: lxml in /usr/local/lib/python3.7/dist-packages (from pandas-datareader) (4.2.6)\n",
            "Requirement already satisfied: requests>=2.19.0 in /usr/local/lib/python3.7/dist-packages (from pandas-datareader) (2.23.0)\n",
            "Requirement already satisfied: pytz>=2017.3 in /usr/local/lib/python3.7/dist-packages (from pandas>=0.23->pandas-datareader) (2018.9)\n",
            "Requirement already satisfied: python-dateutil>=2.7.3 in /usr/local/lib/python3.7/dist-packages (from pandas>=0.23->pandas-datareader) (2.8.2)\n",
            "Requirement already satisfied: numpy>=1.17.3 in /usr/local/lib/python3.7/dist-packages (from pandas>=0.23->pandas-datareader) (1.21.5)\n",
            "Requirement already satisfied: six>=1.5 in /usr/local/lib/python3.7/dist-packages (from python-dateutil>=2.7.3->pandas>=0.23->pandas-datareader) (1.15.0)\n",
            "Requirement already satisfied: certifi>=2017.4.17 in /usr/local/lib/python3.7/dist-packages (from requests>=2.19.0->pandas-datareader) (2021.10.8)\n",
            "Requirement already satisfied: idna<3,>=2.5 in /usr/local/lib/python3.7/dist-packages (from requests>=2.19.0->pandas-datareader) (2.10)\n",
            "Requirement already satisfied: chardet<4,>=3.0.2 in /usr/local/lib/python3.7/dist-packages (from requests>=2.19.0->pandas-datareader) (3.0.4)\n",
            "Requirement already satisfied: urllib3!=1.25.0,!=1.25.1,<1.26,>=1.21.1 in /usr/local/lib/python3.7/dist-packages (from requests>=2.19.0->pandas-datareader) (1.24.3)\n"
          ]
        }
      ]
    },
    {
      "cell_type": "code",
      "execution_count": 3,
      "id": "db4c5bc3",
      "metadata": {
        "id": "db4c5bc3"
      },
      "outputs": [],
      "source": [
        "import numpy as np\n",
        "import pandas as pd\n",
        "import matplotlib.pyplot as plt\n",
        "\n",
        "import math\n",
        "\n",
        "import pandas_datareader as web\n",
        "from sklearn.preprocessing import MinMaxScaler\n",
        "from keras.models import Sequential\n",
        "from keras.layers import Dense, LSTM\n"
      ]
    },
    {
      "cell_type": "markdown",
      "id": "c9e5e775",
      "metadata": {
        "id": "c9e5e775"
      },
      "source": [
        "2. Download the data from yahoo. We use ANZN"
      ]
    },
    {
      "cell_type": "code",
      "execution_count": 4,
      "id": "044f0cb3",
      "metadata": {
        "id": "044f0cb3"
      },
      "outputs": [],
      "source": [
        "# # df=web.DataReader('AMZN', 'yahoo', start='2012-01-01', end='2022-02-10')\n",
        "# df=web.DataReader('AMZN', 'yahoo',start='2012-01-01', end='2022-02-10')\n",
        "# df"
      ]
    },
    {
      "cell_type": "code",
      "source": [
        "stock_ticker = 'AMZN'\n",
        "start = pd.to_datetime(['2012-01-01']).astype(int)[0]//10**9 # convert to unix timestamp.\n",
        "end = pd.to_datetime(['2022-02-10']).astype(int)[0]//10**9 # convert to unix timestamp.\n",
        "url = 'https://query1.finance.yahoo.com/v7/finance/download/' + stock_ticker + '?period1=' + str(start) + '&period2=' + str(end) + '&interval=1d&events=history'\n",
        "df = pd.read_csv(url)"
      ],
      "metadata": {
        "colab": {
          "base_uri": "https://localhost:8080/",
          "height": 0
        },
        "id": "OHXQwYcryNn0",
        "outputId": "f06bf58b-64f0-4474-b2a0-9b8fc189997c"
      },
      "id": "OHXQwYcryNn0",
      "execution_count": 5,
      "outputs": [
        {
          "output_type": "stream",
          "name": "stderr",
          "text": [
            "/usr/local/lib/python3.7/dist-packages/ipykernel_launcher.py:2: FutureWarning: casting datetime64[ns] values to int64 with .astype(...) is deprecated and will raise in a future version. Use .view(...) instead.\n",
            "  \n",
            "/usr/local/lib/python3.7/dist-packages/ipykernel_launcher.py:3: FutureWarning: casting datetime64[ns] values to int64 with .astype(...) is deprecated and will raise in a future version. Use .view(...) instead.\n",
            "  This is separate from the ipykernel package so we can avoid doing imports until\n"
          ]
        }
      ]
    },
    {
      "cell_type": "code",
      "execution_count": 6,
      "id": "43749d68",
      "metadata": {
        "colab": {
          "base_uri": "https://localhost:8080/",
          "height": 0
        },
        "id": "43749d68",
        "outputId": "2ecaa1d0-1d79-4843-8ec4-06596b4eabd3"
      },
      "outputs": [
        {
          "output_type": "execute_result",
          "data": {
            "text/plain": [
              "(2544, 7)"
            ]
          },
          "metadata": {},
          "execution_count": 6
        }
      ],
      "source": [
        "df.shape"
      ]
    },
    {
      "cell_type": "code",
      "source": [
        "df.head()"
      ],
      "metadata": {
        "colab": {
          "base_uri": "https://localhost:8080/",
          "height": 206
        },
        "id": "excbtS3tz2Zj",
        "outputId": "9d3ace00-3c0a-4ac1-a097-93cdead2daf1"
      },
      "id": "excbtS3tz2Zj",
      "execution_count": 7,
      "outputs": [
        {
          "output_type": "execute_result",
          "data": {
            "text/plain": [
              "         Date        Open        High         Low       Close   Adj Close  \\\n",
              "0  2012-01-03  175.889999  179.479996  175.550003  179.029999  179.029999   \n",
              "1  2012-01-04  179.210007  180.500000  176.070007  177.509995  177.509995   \n",
              "2  2012-01-05  175.940002  178.250000  174.050003  177.610001  177.610001   \n",
              "3  2012-01-06  178.070007  184.649994  177.500000  182.610001  182.610001   \n",
              "4  2012-01-09  182.759995  184.369995  177.000000  178.559998  178.559998   \n",
              "\n",
              "    Volume  \n",
              "0  5110800  \n",
              "1  4205200  \n",
              "2  3809100  \n",
              "3  7008400  \n",
              "4  5056900  "
            ],
            "text/html": [
              "\n",
              "  <div id=\"df-0d99ce8d-0c96-4b31-a19e-5cee144d9dc7\">\n",
              "    <div class=\"colab-df-container\">\n",
              "      <div>\n",
              "<style scoped>\n",
              "    .dataframe tbody tr th:only-of-type {\n",
              "        vertical-align: middle;\n",
              "    }\n",
              "\n",
              "    .dataframe tbody tr th {\n",
              "        vertical-align: top;\n",
              "    }\n",
              "\n",
              "    .dataframe thead th {\n",
              "        text-align: right;\n",
              "    }\n",
              "</style>\n",
              "<table border=\"1\" class=\"dataframe\">\n",
              "  <thead>\n",
              "    <tr style=\"text-align: right;\">\n",
              "      <th></th>\n",
              "      <th>Date</th>\n",
              "      <th>Open</th>\n",
              "      <th>High</th>\n",
              "      <th>Low</th>\n",
              "      <th>Close</th>\n",
              "      <th>Adj Close</th>\n",
              "      <th>Volume</th>\n",
              "    </tr>\n",
              "  </thead>\n",
              "  <tbody>\n",
              "    <tr>\n",
              "      <th>0</th>\n",
              "      <td>2012-01-03</td>\n",
              "      <td>175.889999</td>\n",
              "      <td>179.479996</td>\n",
              "      <td>175.550003</td>\n",
              "      <td>179.029999</td>\n",
              "      <td>179.029999</td>\n",
              "      <td>5110800</td>\n",
              "    </tr>\n",
              "    <tr>\n",
              "      <th>1</th>\n",
              "      <td>2012-01-04</td>\n",
              "      <td>179.210007</td>\n",
              "      <td>180.500000</td>\n",
              "      <td>176.070007</td>\n",
              "      <td>177.509995</td>\n",
              "      <td>177.509995</td>\n",
              "      <td>4205200</td>\n",
              "    </tr>\n",
              "    <tr>\n",
              "      <th>2</th>\n",
              "      <td>2012-01-05</td>\n",
              "      <td>175.940002</td>\n",
              "      <td>178.250000</td>\n",
              "      <td>174.050003</td>\n",
              "      <td>177.610001</td>\n",
              "      <td>177.610001</td>\n",
              "      <td>3809100</td>\n",
              "    </tr>\n",
              "    <tr>\n",
              "      <th>3</th>\n",
              "      <td>2012-01-06</td>\n",
              "      <td>178.070007</td>\n",
              "      <td>184.649994</td>\n",
              "      <td>177.500000</td>\n",
              "      <td>182.610001</td>\n",
              "      <td>182.610001</td>\n",
              "      <td>7008400</td>\n",
              "    </tr>\n",
              "    <tr>\n",
              "      <th>4</th>\n",
              "      <td>2012-01-09</td>\n",
              "      <td>182.759995</td>\n",
              "      <td>184.369995</td>\n",
              "      <td>177.000000</td>\n",
              "      <td>178.559998</td>\n",
              "      <td>178.559998</td>\n",
              "      <td>5056900</td>\n",
              "    </tr>\n",
              "  </tbody>\n",
              "</table>\n",
              "</div>\n",
              "      <button class=\"colab-df-convert\" onclick=\"convertToInteractive('df-0d99ce8d-0c96-4b31-a19e-5cee144d9dc7')\"\n",
              "              title=\"Convert this dataframe to an interactive table.\"\n",
              "              style=\"display:none;\">\n",
              "        \n",
              "  <svg xmlns=\"http://www.w3.org/2000/svg\" height=\"24px\"viewBox=\"0 0 24 24\"\n",
              "       width=\"24px\">\n",
              "    <path d=\"M0 0h24v24H0V0z\" fill=\"none\"/>\n",
              "    <path d=\"M18.56 5.44l.94 2.06.94-2.06 2.06-.94-2.06-.94-.94-2.06-.94 2.06-2.06.94zm-11 1L8.5 8.5l.94-2.06 2.06-.94-2.06-.94L8.5 2.5l-.94 2.06-2.06.94zm10 10l.94 2.06.94-2.06 2.06-.94-2.06-.94-.94-2.06-.94 2.06-2.06.94z\"/><path d=\"M17.41 7.96l-1.37-1.37c-.4-.4-.92-.59-1.43-.59-.52 0-1.04.2-1.43.59L10.3 9.45l-7.72 7.72c-.78.78-.78 2.05 0 2.83L4 21.41c.39.39.9.59 1.41.59.51 0 1.02-.2 1.41-.59l7.78-7.78 2.81-2.81c.8-.78.8-2.07 0-2.86zM5.41 20L4 18.59l7.72-7.72 1.47 1.35L5.41 20z\"/>\n",
              "  </svg>\n",
              "      </button>\n",
              "      \n",
              "  <style>\n",
              "    .colab-df-container {\n",
              "      display:flex;\n",
              "      flex-wrap:wrap;\n",
              "      gap: 12px;\n",
              "    }\n",
              "\n",
              "    .colab-df-convert {\n",
              "      background-color: #E8F0FE;\n",
              "      border: none;\n",
              "      border-radius: 50%;\n",
              "      cursor: pointer;\n",
              "      display: none;\n",
              "      fill: #1967D2;\n",
              "      height: 32px;\n",
              "      padding: 0 0 0 0;\n",
              "      width: 32px;\n",
              "    }\n",
              "\n",
              "    .colab-df-convert:hover {\n",
              "      background-color: #E2EBFA;\n",
              "      box-shadow: 0px 1px 2px rgba(60, 64, 67, 0.3), 0px 1px 3px 1px rgba(60, 64, 67, 0.15);\n",
              "      fill: #174EA6;\n",
              "    }\n",
              "\n",
              "    [theme=dark] .colab-df-convert {\n",
              "      background-color: #3B4455;\n",
              "      fill: #D2E3FC;\n",
              "    }\n",
              "\n",
              "    [theme=dark] .colab-df-convert:hover {\n",
              "      background-color: #434B5C;\n",
              "      box-shadow: 0px 1px 3px 1px rgba(0, 0, 0, 0.15);\n",
              "      filter: drop-shadow(0px 1px 2px rgba(0, 0, 0, 0.3));\n",
              "      fill: #FFFFFF;\n",
              "    }\n",
              "  </style>\n",
              "\n",
              "      <script>\n",
              "        const buttonEl =\n",
              "          document.querySelector('#df-0d99ce8d-0c96-4b31-a19e-5cee144d9dc7 button.colab-df-convert');\n",
              "        buttonEl.style.display =\n",
              "          google.colab.kernel.accessAllowed ? 'block' : 'none';\n",
              "\n",
              "        async function convertToInteractive(key) {\n",
              "          const element = document.querySelector('#df-0d99ce8d-0c96-4b31-a19e-5cee144d9dc7');\n",
              "          const dataTable =\n",
              "            await google.colab.kernel.invokeFunction('convertToInteractive',\n",
              "                                                     [key], {});\n",
              "          if (!dataTable) return;\n",
              "\n",
              "          const docLinkHtml = 'Like what you see? Visit the ' +\n",
              "            '<a target=\"_blank\" href=https://colab.research.google.com/notebooks/data_table.ipynb>data table notebook</a>'\n",
              "            + ' to learn more about interactive tables.';\n",
              "          element.innerHTML = '';\n",
              "          dataTable['output_type'] = 'display_data';\n",
              "          await google.colab.output.renderOutput(dataTable, element);\n",
              "          const docLink = document.createElement('div');\n",
              "          docLink.innerHTML = docLinkHtml;\n",
              "          element.appendChild(docLink);\n",
              "        }\n",
              "      </script>\n",
              "    </div>\n",
              "  </div>\n",
              "  "
            ]
          },
          "metadata": {},
          "execution_count": 7
        }
      ]
    },
    {
      "cell_type": "markdown",
      "id": "bacd0dd2",
      "metadata": {
        "id": "bacd0dd2"
      },
      "source": [
        "3. Visualize"
      ]
    },
    {
      "cell_type": "code",
      "execution_count": 8,
      "id": "eae6956a",
      "metadata": {
        "colab": {
          "base_uri": "https://localhost:8080/",
          "height": 530
        },
        "id": "eae6956a",
        "outputId": "ba807356-ec4b-41f4-a043-b3f523dc76d6"
      },
      "outputs": [
        {
          "output_type": "execute_result",
          "data": {
            "text/plain": [
              "Text(0, 0.5, 'Stock Price ($)')"
            ]
          },
          "metadata": {},
          "execution_count": 8
        },
        {
          "output_type": "display_data",
          "data": {
            "text/plain": [
              "<Figure size 864x576 with 1 Axes>"
            ],
            "image/png": "[encoded data removed]"
          },
          "metadata": {
            "needs_background": "light"
          }
        }
      ],
      "source": [
        "plt.figure(figsize=(12,8))\n",
        "plt.title('Close Price History')\n",
        "plt.plot(df['Close'], lw=1)\n",
        "plt.xlabel('Date')\n",
        "plt.ylabel('Stock Price ($)')"
      ]
    },
    {
      "cell_type": "code",
      "execution_count": 9,
      "id": "5a64595a",
      "metadata": {
        "id": "5a64595a"
      },
      "outputs": [],
      "source": [
        "data=df.filter(['Close'])"
      ]
    },
    {
      "cell_type": "markdown",
      "id": "2b36b9d2",
      "metadata": {
        "id": "2b36b9d2"
      },
      "source": [
        "4. Prepare the data"
      ]
    },
    {
      "cell_type": "code",
      "execution_count": 10,
      "id": "33e98ea8",
      "metadata": {
        "id": "33e98ea8"
      },
      "outputs": [],
      "source": [
        "#convert to numpy aarray\n",
        "#We use 80 of the data for training\n",
        "train_pct=0.8  \n",
        "dataset=data.values\n",
        "train_data_len=math.ceil(len(dataset)*train_pct)"
      ]
    },
    {
      "cell_type": "code",
      "execution_count": 11,
      "id": "873eb3d8",
      "metadata": {
        "id": "873eb3d8"
      },
      "outputs": [],
      "source": [
        "#Scale the data\n",
        "scaler = MinMaxScaler(feature_range=(0,1))\n",
        "scaled_data=scaler.fit_transform(dataset)"
      ]
    },
    {
      "cell_type": "markdown",
      "id": "b99e5e8a",
      "metadata": {
        "id": "b99e5e8a"
      },
      "source": [
        "### The window we use is n_period as input"
      ]
    },
    {
      "cell_type": "code",
      "execution_count": 12,
      "id": "b24fd20b",
      "metadata": {
        "id": "b24fd20b"
      },
      "outputs": [],
      "source": [
        "n_period=60\n",
        "#training dataset\n",
        "train_data=scaled_data[0:train_data_len]\n",
        "x_train=[]\n",
        "y_train=[]\n",
        "\n",
        "for i in range(n_period, len(train_data)):\n",
        "    x_train.append(train_data[i-n_period:i,0])\n",
        "    y_train.append(train_data[i,0])\n",
        "    \n"
      ]
    },
    {
      "cell_type": "code",
      "execution_count": 13,
      "id": "4bd0854f",
      "metadata": {
        "colab": {
          "base_uri": "https://localhost:8080/",
          "height": 0
        },
        "id": "4bd0854f",
        "outputId": "06ba5b48-38a9-4628-d887-d6479c4fdaca"
      },
      "outputs": [
        {
          "output_type": "execute_result",
          "data": {
            "text/plain": [
              "[array([0.0008719 , 0.00044439, 0.00047251, 0.00187879, 0.0007397 ,\n",
              "        0.00095908, 0.00083533, 0.        , 0.00070033, 0.0016116 ,\n",
              "        0.00379977, 0.00520886, 0.00421884, 0.00285756, 0.00311351,\n",
              "        0.00333851, 0.00489105, 0.00546762, 0.00456197, 0.00520605,\n",
              "        0.00099284, 0.00162847, 0.00330476, 0.00202786, 0.00232318,\n",
              "        0.002686  , 0.00254537, 0.00270287, 0.00440447, 0.00432291,\n",
              "        0.00240193, 0.00112502, 0.00184785, 0.00178035, 0.00130784,\n",
              "        0.00083252, 0.00090002, 0.00073127, 0.00221349, 0.00105753,\n",
              "        0.00115596, 0.00094784, 0.00121784, 0.00145128, 0.00220505,\n",
              "        0.00329351, 0.00235974, 0.00209817, 0.00243568, 0.00178035,\n",
              "        0.00239068, 0.00256506, 0.00269725, 0.0046126 , 0.00444385,\n",
              "        0.00463229, 0.0053748 , 0.00757704, 0.00829987, 0.00709609]),\n",
              " array([0.00044439, 0.00047251, 0.00187879, 0.0007397 , 0.00095908,\n",
              "        0.00083533, 0.        , 0.00070033, 0.0016116 , 0.00379977,\n",
              "        0.00520886, 0.00421884, 0.00285756, 0.00311351, 0.00333851,\n",
              "        0.00489105, 0.00546762, 0.00456197, 0.00520605, 0.00099284,\n",
              "        0.00162847, 0.00330476, 0.00202786, 0.00232318, 0.002686  ,\n",
              "        0.00254537, 0.00270287, 0.00440447, 0.00432291, 0.00240193,\n",
              "        0.00112502, 0.00184785, 0.00178035, 0.00130784, 0.00083252,\n",
              "        0.00090002, 0.00073127, 0.00221349, 0.00105753, 0.00115596,\n",
              "        0.00094784, 0.00121784, 0.00145128, 0.00220505, 0.00329351,\n",
              "        0.00235974, 0.00209817, 0.00243568, 0.00178035, 0.00239068,\n",
              "        0.00256506, 0.00269725, 0.0046126 , 0.00444385, 0.00463229,\n",
              "        0.0053748 , 0.00757704, 0.00829987, 0.00709609, 0.00806642])]"
            ]
          },
          "metadata": {},
          "execution_count": 13
        }
      ],
      "source": [
        "x_train[0:2]"
      ]
    },
    {
      "cell_type": "code",
      "execution_count": 14,
      "id": "367ff1f8",
      "metadata": {
        "colab": {
          "base_uri": "https://localhost:8080/",
          "height": 0
        },
        "id": "367ff1f8",
        "outputId": "8c1b22f0-f467-49a0-f65e-bee56418e67d"
      },
      "outputs": [
        {
          "output_type": "execute_result",
          "data": {
            "text/plain": [
              "[0.00806642384526994]"
            ]
          },
          "metadata": {},
          "execution_count": 14
        }
      ],
      "source": [
        "y_train[:1]"
      ]
    },
    {
      "cell_type": "code",
      "execution_count": 15,
      "id": "5792e24f",
      "metadata": {
        "id": "5792e24f"
      },
      "outputs": [],
      "source": [
        "#Convert numpy array\n",
        "x_train, y_train=np.array(x_train), np.array(y_train)"
      ]
    },
    {
      "cell_type": "code",
      "execution_count": 16,
      "id": "c7f71888",
      "metadata": {
        "colab": {
          "base_uri": "https://localhost:8080/",
          "height": 0
        },
        "id": "c7f71888",
        "outputId": "96cc8e91-e3ef-4ec2-8b41-aaa0bb90b30f"
      },
      "outputs": [
        {
          "output_type": "execute_result",
          "data": {
            "text/plain": [
              "(1976, 60)"
            ]
          },
          "metadata": {},
          "execution_count": 16
        }
      ],
      "source": [
        "x_train.shape"
      ]
    },
    {
      "cell_type": "code",
      "execution_count": 17,
      "id": "7248d31c",
      "metadata": {
        "colab": {
          "base_uri": "https://localhost:8080/",
          "height": 0
        },
        "id": "7248d31c",
        "outputId": "cbec6dd6-1fb0-4c3a-f3cb-471933836d7a"
      },
      "outputs": [
        {
          "output_type": "execute_result",
          "data": {
            "text/plain": [
              "(1976, 60, 1)"
            ]
          },
          "metadata": {},
          "execution_count": 17
        }
      ],
      "source": [
        "x_train=np.reshape(x_train, (x_train.shape[0], x_train.shape[1],1))\n",
        "x_train.shape"
      ]
    },
    {
      "cell_type": "markdown",
      "id": "036d32be",
      "metadata": {
        "id": "036d32be"
      },
      "source": [
        "5. Train the model\n",
        "Adam optimization is a stochastic gradient descent method that is based on adaptive estimation of first-order and second-order moments.\n",
        "loss function is chosen as mean_squared_error'"
      ]
    },
    {
      "cell_type": "code",
      "execution_count": 18,
      "id": "84704a94",
      "metadata": {
        "id": "84704a94"
      },
      "outputs": [],
      "source": [
        "#Build the LSTM model\n",
        "model=Sequential()\n",
        "model.add(LSTM(50,return_sequences=True, input_shape=(x_train.shape[1],1)))\n",
        "model.add(LSTM(50, return_sequences=False))\n",
        "model.add(Dense(25))\n",
        "model.add(Dense(1))\n",
        "          "
      ]
    },
    {
      "cell_type": "code",
      "execution_count": 19,
      "id": "df48dce3",
      "metadata": {
        "id": "df48dce3"
      },
      "outputs": [],
      "source": [
        "model.compile(optimizer='adam', loss='mean_squared_error')"
      ]
    },
    {
      "cell_type": "code",
      "execution_count": 20,
      "id": "7727d86b",
      "metadata": {
        "colab": {
          "base_uri": "https://localhost:8080/",
          "height": 0
        },
        "id": "7727d86b",
        "outputId": "bf263e09-62bc-4853-b28c-3dc1535868a4"
      },
      "outputs": [
        {
          "output_type": "stream",
          "name": "stdout",
          "text": [
            "1976/1976 [==============================] - 23s 9ms/step - loss: 4.8142e-04\n"
          ]
        },
        {
          "output_type": "execute_result",
          "data": {
            "text/plain": [
              "<keras.callbacks.History at 0x7fe6884ec1d0>"
            ]
          },
          "metadata": {},
          "execution_count": 20
        }
      ],
      "source": [
        "model.fit(x_train,y_train, batch_size=1, epochs=1)"
      ]
    },
    {
      "cell_type": "code",
      "execution_count": 21,
      "id": "fdf309a5",
      "metadata": {
        "id": "fdf309a5"
      },
      "outputs": [],
      "source": [
        "#Test\n",
        "test_data=scaled_data[train_data_len-60:,:]\n",
        "x_test=[]\n",
        "y_test=dataset[train_data_len:,:]\n",
        "\n",
        "for i in range(60, len(test_data)):\n",
        "    x_test.append(test_data[i-60:i,0])\n",
        "    \n",
        "               \n",
        "x_test=np.array(x_test)\n",
        "x_test=np.reshape(x_test, (x_test.shape[0], x_test.shape[1], 1))"
      ]
    },
    {
      "cell_type": "code",
      "execution_count": 22,
      "id": "f19dcf96",
      "metadata": {
        "colab": {
          "base_uri": "https://localhost:8080/",
          "height": 0
        },
        "id": "f19dcf96",
        "outputId": "0d0eccc6-5874-4ed2-fb91-15772f57b899"
      },
      "outputs": [
        {
          "output_type": "execute_result",
          "data": {
            "text/plain": [
              "(508, 60, 1)"
            ]
          },
          "metadata": {},
          "execution_count": 22
        }
      ],
      "source": [
        "x_test.shape"
      ]
    },
    {
      "cell_type": "markdown",
      "id": "0a8c4341",
      "metadata": {
        "id": "0a8c4341"
      },
      "source": [
        "6. Prediction error"
      ]
    },
    {
      "cell_type": "code",
      "execution_count": 23,
      "id": "c8e158a5",
      "metadata": {
        "id": "c8e158a5"
      },
      "outputs": [],
      "source": [
        "predictions=model.predict(x_test)"
      ]
    },
    {
      "cell_type": "code",
      "execution_count": 24,
      "id": "6e106d69",
      "metadata": {
        "id": "6e106d69"
      },
      "outputs": [],
      "source": [
        "predictions=scaler.inverse_transform(predictions)"
      ]
    },
    {
      "cell_type": "code",
      "execution_count": 25,
      "id": "0e231af7",
      "metadata": {
        "colab": {
          "base_uri": "https://localhost:8080/",
          "height": 0
        },
        "id": "0e231af7",
        "outputId": "ee9e2c2d-7708-4ddf-b429-dd9c86335df0"
      },
      "outputs": [
        {
          "output_type": "execute_result",
          "data": {
            "text/plain": [
              "(508, 1)"
            ]
          },
          "metadata": {},
          "execution_count": 25
        }
      ],
      "source": [
        "predictions.shape"
      ]
    },
    {
      "cell_type": "code",
      "execution_count": 26,
      "id": "19766298",
      "metadata": {
        "colab": {
          "base_uri": "https://localhost:8080/",
          "height": 0
        },
        "id": "19766298",
        "outputId": "76fdf4f7-e8f0-43d9-d195-ca48bc07f1c0"
      },
      "outputs": [
        {
          "output_type": "execute_result",
          "data": {
            "text/plain": [
              "66.99360906482222"
            ]
          },
          "metadata": {},
          "execution_count": 26
        }
      ],
      "source": [
        "#RMSE\n",
        "rmse=np.sqrt(np.mean(predictions-y_test)**2)\n",
        "rmse"
      ]
    },
    {
      "cell_type": "code",
      "execution_count": 27,
      "id": "f2fa0949",
      "metadata": {
        "colab": {
          "base_uri": "https://localhost:8080/",
          "height": 513
        },
        "id": "f2fa0949",
        "outputId": "2bbd2367-d4fd-49f2-eaa4-e29e7697700e"
      },
      "outputs": [
        {
          "output_type": "display_data",
          "data": {
            "text/plain": [
              "<Figure size 864x576 with 1 Axes>"
            ],
            "image/png": "[encoded data removed]"
          },
          "metadata": {
            "needs_background": "light"
          }
        }
      ],
      "source": [
        "#plot the result\n",
        "train=data[:train_data_len]\n",
        "valid=data[train_data_len:]\n",
        "valid=valid.assign(Predictions=predictions)\n",
        "plt.figure(figsize=(12,8))\n",
        "plt.title('Model')\n",
        "plt.xlabel('Date')\n",
        "plt.ylabel('Stock Price ($)')\n",
        "plt.plot(train['Close'], lw=1)\n",
        "plt.plot(valid[['Close','Predictions']], lw=1)\n",
        "plt.legend(['Train','Validation', 'Prediction'],loc='lower right')\n",
        "plt.show()"
      ]
    },
    {
      "cell_type": "code",
      "execution_count": 28,
      "id": "5a077d2e",
      "metadata": {
        "colab": {
          "base_uri": "https://localhost:8080/",
          "height": 424
        },
        "id": "5a077d2e",
        "outputId": "e70bc62d-787f-4509-f5bf-4c3174d31c15"
      },
      "outputs": [
        {
          "output_type": "execute_result",
          "data": {
            "text/plain": [
              "            Close  Predictions\n",
              "2036  2050.229980  2028.595703\n",
              "2037  2079.280029  2048.742432\n",
              "2038  2133.909912  2069.128418\n",
              "2039  2150.800049  2092.344238\n",
              "2040  2160.000000  2116.235352\n",
              "...           ...          ...\n",
              "2539  2776.909912  2911.076660\n",
              "2540  3152.790039  2902.097168\n",
              "2541  3158.709961  2917.661377\n",
              "2542  3228.270020  2941.967529\n",
              "2543  3223.790039  2974.367432\n",
              "\n",
              "[508 rows x 2 columns]"
            ],
            "text/html": [
              "\n",
              "  <div id=\"df-4fa8b90a-445b-4b12-99ec-afe6bffb165e\">\n",
              "    <div class=\"colab-df-container\">\n",
              "      <div>\n",
              "<style scoped>\n",
              "    .dataframe tbody tr th:only-of-type {\n",
              "        vertical-align: middle;\n",
              "    }\n",
              "\n",
              "    .dataframe tbody tr th {\n",
              "        vertical-align: top;\n",
              "    }\n",
              "\n",
              "    .dataframe thead th {\n",
              "        text-align: right;\n",
              "    }\n",
              "</style>\n",
              "<table border=\"1\" class=\"dataframe\">\n",
              "  <thead>\n",
              "    <tr style=\"text-align: right;\">\n",
              "      <th></th>\n",
              "      <th>Close</th>\n",
              "      <th>Predictions</th>\n",
              "    </tr>\n",
              "  </thead>\n",
              "  <tbody>\n",
              "    <tr>\n",
              "      <th>2036</th>\n",
              "      <td>2050.229980</td>\n",
              "      <td>2028.595703</td>\n",
              "    </tr>\n",
              "    <tr>\n",
              "      <th>2037</th>\n",
              "      <td>2079.280029</td>\n",
              "      <td>2048.742432</td>\n",
              "    </tr>\n",
              "    <tr>\n",
              "      <th>2038</th>\n",
              "      <td>2133.909912</td>\n",
              "      <td>2069.128418</td>\n",
              "    </tr>\n",
              "    <tr>\n",
              "      <th>2039</th>\n",
              "      <td>2150.800049</td>\n",
              "      <td>2092.344238</td>\n",
              "    </tr>\n",
              "    <tr>\n",
              "      <th>2040</th>\n",
              "      <td>2160.000000</td>\n",
              "      <td>2116.235352</td>\n",
              "    </tr>\n",
              "    <tr>\n",
              "      <th>...</th>\n",
              "      <td>...</td>\n",
              "      <td>...</td>\n",
              "    </tr>\n",
              "    <tr>\n",
              "      <th>2539</th>\n",
              "      <td>2776.909912</td>\n",
              "      <td>2911.076660</td>\n",
              "    </tr>\n",
              "    <tr>\n",
              "      <th>2540</th>\n",
              "      <td>3152.790039</td>\n",
              "      <td>2902.097168</td>\n",
              "    </tr>\n",
              "    <tr>\n",
              "      <th>2541</th>\n",
              "      <td>3158.709961</td>\n",
              "      <td>2917.661377</td>\n",
              "    </tr>\n",
              "    <tr>\n",
              "      <th>2542</th>\n",
              "      <td>3228.270020</td>\n",
              "      <td>2941.967529</td>\n",
              "    </tr>\n",
              "    <tr>\n",
              "      <th>2543</th>\n",
              "      <td>3223.790039</td>\n",
              "      <td>2974.367432</td>\n",
              "    </tr>\n",
              "  </tbody>\n",
              "</table>\n",
              "<p>508 rows × 2 columns</p>\n",
              "</div>\n",
              "      <button class=\"colab-df-convert\" onclick=\"convertToInteractive('df-4fa8b90a-445b-4b12-99ec-afe6bffb165e')\"\n",
              "              title=\"Convert this dataframe to an interactive table.\"\n",
              "              style=\"display:none;\">\n",
              "        \n",
              "  <svg xmlns=\"http://www.w3.org/2000/svg\" height=\"24px\"viewBox=\"0 0 24 24\"\n",
              "       width=\"24px\">\n",
              "    <path d=\"M0 0h24v24H0V0z\" fill=\"none\"/>\n",
              "    <path d=\"M18.56 5.44l.94 2.06.94-2.06 2.06-.94-2.06-.94-.94-2.06-.94 2.06-2.06.94zm-11 1L8.5 8.5l.94-2.06 2.06-.94-2.06-.94L8.5 2.5l-.94 2.06-2.06.94zm10 10l.94 2.06.94-2.06 2.06-.94-2.06-.94-.94-2.06-.94 2.06-2.06.94z\"/><path d=\"M17.41 7.96l-1.37-1.37c-.4-.4-.92-.59-1.43-.59-.52 0-1.04.2-1.43.59L10.3 9.45l-7.72 7.72c-.78.78-.78 2.05 0 2.83L4 21.41c.39.39.9.59 1.41.59.51 0 1.02-.2 1.41-.59l7.78-7.78 2.81-2.81c.8-.78.8-2.07 0-2.86zM5.41 20L4 18.59l7.72-7.72 1.47 1.35L5.41 20z\"/>\n",
              "  </svg>\n",
              "      </button>\n",
              "      \n",
              "  <style>\n",
              "    .colab-df-container {\n",
              "      display:flex;\n",
              "      flex-wrap:wrap;\n",
              "      gap: 12px;\n",
              "    }\n",
              "\n",
              "    .colab-df-convert {\n",
              "      background-color: #E8F0FE;\n",
              "      border: none;\n",
              "      border-radius: 50%;\n",
              "      cursor: pointer;\n",
              "      display: none;\n",
              "      fill: #1967D2;\n",
              "      height: 32px;\n",
              "      padding: 0 0 0 0;\n",
              "      width: 32px;\n",
              "    }\n",
              "\n",
              "    .colab-df-convert:hover {\n",
              "      background-color: #E2EBFA;\n",
              "      box-shadow: 0px 1px 2px rgba(60, 64, 67, 0.3), 0px 1px 3px 1px rgba(60, 64, 67, 0.15);\n",
              "      fill: #174EA6;\n",
              "    }\n",
              "\n",
              "    [theme=dark] .colab-df-convert {\n",
              "      background-color: #3B4455;\n",
              "      fill: #D2E3FC;\n",
              "    }\n",
              "\n",
              "    [theme=dark] .colab-df-convert:hover {\n",
              "      background-color: #434B5C;\n",
              "      box-shadow: 0px 1px 3px 1px rgba(0, 0, 0, 0.15);\n",
              "      filter: drop-shadow(0px 1px 2px rgba(0, 0, 0, 0.3));\n",
              "      fill: #FFFFFF;\n",
              "    }\n",
              "  </style>\n",
              "\n",
              "      <script>\n",
              "        const buttonEl =\n",
              "          document.querySelector('#df-4fa8b90a-445b-4b12-99ec-afe6bffb165e button.colab-df-convert');\n",
              "        buttonEl.style.display =\n",
              "          google.colab.kernel.accessAllowed ? 'block' : 'none';\n",
              "\n",
              "        async function convertToInteractive(key) {\n",
              "          const element = document.querySelector('#df-4fa8b90a-445b-4b12-99ec-afe6bffb165e');\n",
              "          const dataTable =\n",
              "            await google.colab.kernel.invokeFunction('convertToInteractive',\n",
              "                                                     [key], {});\n",
              "          if (!dataTable) return;\n",
              "\n",
              "          const docLinkHtml = 'Like what you see? Visit the ' +\n",
              "            '<a target=\"_blank\" href=https://colab.research.google.com/notebooks/data_table.ipynb>data table notebook</a>'\n",
              "            + ' to learn more about interactive tables.';\n",
              "          element.innerHTML = '';\n",
              "          dataTable['output_type'] = 'display_data';\n",
              "          await google.colab.output.renderOutput(dataTable, element);\n",
              "          const docLink = document.createElement('div');\n",
              "          docLink.innerHTML = docLinkHtml;\n",
              "          element.appendChild(docLink);\n",
              "        }\n",
              "      </script>\n",
              "    </div>\n",
              "  </div>\n",
              "  "
            ]
          },
          "metadata": {},
          "execution_count": 28
        }
      ],
      "source": [
        "valid"
      ]
    },
    {
      "cell_type": "code",
      "execution_count": 29,
      "id": "ea5e2337",
      "metadata": {
        "colab": {
          "base_uri": "https://localhost:8080/",
          "height": 0
        },
        "id": "ea5e2337",
        "outputId": "4f091526-9438-446e-f7fe-3ebdd2149b00"
      },
      "outputs": [
        {
          "output_type": "stream",
          "name": "stderr",
          "text": [
            "/usr/local/lib/python3.7/dist-packages/ipykernel_launcher.py:3: FutureWarning: casting datetime64[ns] values to int64 with .astype(...) is deprecated and will raise in a future version. Use .view(...) instead.\n",
            "  This is separate from the ipykernel package so we can avoid doing imports until\n",
            "/usr/local/lib/python3.7/dist-packages/ipykernel_launcher.py:4: FutureWarning: casting datetime64[ns] values to int64 with .astype(...) is deprecated and will raise in a future version. Use .view(...) instead.\n",
            "  after removing the cwd from sys.path.\n"
          ]
        }
      ],
      "source": [
        "#get the quote\n",
        "stock_ticker = 'AMZN'\n",
        "start = pd.to_datetime(['2012-01-01']).astype(int)[0]//10**9 # convert to unix timestamp.\n",
        "end = pd.to_datetime(['2022-02-10']).astype(int)[0]//10**9 # convert to unix timestamp.\n",
        "url = 'https://query1.finance.yahoo.com/v7/finance/download/' + stock_ticker + '?period1=' + str(start) + '&period2=' + str(end) + '&interval=1d&events=history'\n",
        "quote = pd.read_csv(url)"
      ]
    },
    {
      "cell_type": "code",
      "execution_count": 30,
      "id": "b18c5580",
      "metadata": {
        "colab": {
          "base_uri": "https://localhost:8080/",
          "height": 424
        },
        "id": "b18c5580",
        "outputId": "c02b0316-f408-4db6-9671-87aba36614b5"
      },
      "outputs": [
        {
          "output_type": "execute_result",
          "data": {
            "text/plain": [
              "            Date         Open         High          Low        Close  \\\n",
              "0     2012-01-03   175.889999   179.479996   175.550003   179.029999   \n",
              "1     2012-01-04   179.210007   180.500000   176.070007   177.509995   \n",
              "2     2012-01-05   175.940002   178.250000   174.050003   177.610001   \n",
              "3     2012-01-06   178.070007   184.649994   177.500000   182.610001   \n",
              "4     2012-01-09   182.759995   184.369995   177.000000   178.559998   \n",
              "...          ...          ...          ...          ...          ...   \n",
              "2539  2022-02-03  2834.750000  2884.949951  2766.659912  2776.909912   \n",
              "2540  2022-02-04  3112.129883  3224.000000  3012.159912  3152.790039   \n",
              "2541  2022-02-07  3170.399902  3253.820068  3145.000000  3158.709961   \n",
              "2542  2022-02-08  3135.010010  3235.850098  3111.010010  3228.270020   \n",
              "2543  2022-02-09  3257.469971  3276.689941  3205.000000  3223.790039   \n",
              "\n",
              "        Adj Close    Volume  \n",
              "0      179.029999   5110800  \n",
              "1      177.509995   4205200  \n",
              "2      177.610001   3809100  \n",
              "3      182.610001   7008400  \n",
              "4      178.559998   5056900  \n",
              "...           ...       ...  \n",
              "2539  2776.909912  11276600  \n",
              "2540  3152.790039  12672800  \n",
              "2541  3158.709961   5131200  \n",
              "2542  3228.270020   3802000  \n",
              "2543  3223.790039   3439300  \n",
              "\n",
              "[2544 rows x 7 columns]"
            ],
            "text/html": [
              "\n",
              "  <div id=\"df-1061d94c-6bdc-4d5d-ba94-fe036569041d\">\n",
              "    <div class=\"colab-df-container\">\n",
              "      <div>\n",
              "<style scoped>\n",
              "    .dataframe tbody tr th:only-of-type {\n",
              "        vertical-align: middle;\n",
              "    }\n",
              "\n",
              "    .dataframe tbody tr th {\n",
              "        vertical-align: top;\n",
              "    }\n",
              "\n",
              "    .dataframe thead th {\n",
              "        text-align: right;\n",
              "    }\n",
              "</style>\n",
              "<table border=\"1\" class=\"dataframe\">\n",
              "  <thead>\n",
              "    <tr style=\"text-align: right;\">\n",
              "      <th></th>\n",
              "      <th>Date</th>\n",
              "      <th>Open</th>\n",
              "      <th>High</th>\n",
              "      <th>Low</th>\n",
              "      <th>Close</th>\n",
              "      <th>Adj Close</th>\n",
              "      <th>Volume</th>\n",
              "    </tr>\n",
              "  </thead>\n",
              "  <tbody>\n",
              "    <tr>\n",
              "      <th>0</th>\n",
              "      <td>2012-01-03</td>\n",
              "      <td>175.889999</td>\n",
              "      <td>179.479996</td>\n",
              "      <td>175.550003</td>\n",
              "      <td>179.029999</td>\n",
              "      <td>179.029999</td>\n",
              "      <td>5110800</td>\n",
              "    </tr>\n",
              "    <tr>\n",
              "      <th>1</th>\n",
              "      <td>2012-01-04</td>\n",
              "      <td>179.210007</td>\n",
              "      <td>180.500000</td>\n",
              "      <td>176.070007</td>\n",
              "      <td>177.509995</td>\n",
              "      <td>177.509995</td>\n",
              "      <td>4205200</td>\n",
              "    </tr>\n",
              "    <tr>\n",
              "      <th>2</th>\n",
              "      <td>2012-01-05</td>\n",
              "      <td>175.940002</td>\n",
              "      <td>178.250000</td>\n",
              "      <td>174.050003</td>\n",
              "      <td>177.610001</td>\n",
              "      <td>177.610001</td>\n",
              "      <td>3809100</td>\n",
              "    </tr>\n",
              "    <tr>\n",
              "      <th>3</th>\n",
              "      <td>2012-01-06</td>\n",
              "      <td>178.070007</td>\n",
              "      <td>184.649994</td>\n",
              "      <td>177.500000</td>\n",
              "      <td>182.610001</td>\n",
              "      <td>182.610001</td>\n",
              "      <td>7008400</td>\n",
              "    </tr>\n",
              "    <tr>\n",
              "      <th>4</th>\n",
              "      <td>2012-01-09</td>\n",
              "      <td>182.759995</td>\n",
              "      <td>184.369995</td>\n",
              "      <td>177.000000</td>\n",
              "      <td>178.559998</td>\n",
              "      <td>178.559998</td>\n",
              "      <td>5056900</td>\n",
              "    </tr>\n",
              "    <tr>\n",
              "      <th>...</th>\n",
              "      <td>...</td>\n",
              "      <td>...</td>\n",
              "      <td>...</td>\n",
              "      <td>...</td>\n",
              "      <td>...</td>\n",
              "      <td>...</td>\n",
              "      <td>...</td>\n",
              "    </tr>\n",
              "    <tr>\n",
              "      <th>2539</th>\n",
              "      <td>2022-02-03</td>\n",
              "      <td>2834.750000</td>\n",
              "      <td>2884.949951</td>\n",
              "      <td>2766.659912</td>\n",
              "      <td>2776.909912</td>\n",
              "      <td>2776.909912</td>\n",
              "      <td>11276600</td>\n",
              "    </tr>\n",
              "    <tr>\n",
              "      <th>2540</th>\n",
              "      <td>2022-02-04</td>\n",
              "      <td>3112.129883</td>\n",
              "      <td>3224.000000</td>\n",
              "      <td>3012.159912</td>\n",
              "      <td>3152.790039</td>\n",
              "      <td>3152.790039</td>\n",
              "      <td>12672800</td>\n",
              "    </tr>\n",
              "    <tr>\n",
              "      <th>2541</th>\n",
              "      <td>2022-02-07</td>\n",
              "      <td>3170.399902</td>\n",
              "      <td>3253.820068</td>\n",
              "      <td>3145.000000</td>\n",
              "      <td>3158.709961</td>\n",
              "      <td>3158.709961</td>\n",
              "      <td>5131200</td>\n",
              "    </tr>\n",
              "    <tr>\n",
              "      <th>2542</th>\n",
              "      <td>2022-02-08</td>\n",
              "      <td>3135.010010</td>\n",
              "      <td>3235.850098</td>\n",
              "      <td>3111.010010</td>\n",
              "      <td>3228.270020</td>\n",
              "      <td>3228.270020</td>\n",
              "      <td>3802000</td>\n",
              "    </tr>\n",
              "    <tr>\n",
              "      <th>2543</th>\n",
              "      <td>2022-02-09</td>\n",
              "      <td>3257.469971</td>\n",
              "      <td>3276.689941</td>\n",
              "      <td>3205.000000</td>\n",
              "      <td>3223.790039</td>\n",
              "      <td>3223.790039</td>\n",
              "      <td>3439300</td>\n",
              "    </tr>\n",
              "  </tbody>\n",
              "</table>\n",
              "<p>2544 rows × 7 columns</p>\n",
              "</div>\n",
              "      <button class=\"colab-df-convert\" onclick=\"convertToInteractive('df-1061d94c-6bdc-4d5d-ba94-fe036569041d')\"\n",
              "              title=\"Convert this dataframe to an interactive table.\"\n",
              "              style=\"display:none;\">\n",
              "        \n",
              "  <svg xmlns=\"http://www.w3.org/2000/svg\" height=\"24px\"viewBox=\"0 0 24 24\"\n",
              "       width=\"24px\">\n",
              "    <path d=\"M0 0h24v24H0V0z\" fill=\"none\"/>\n",
              "    <path d=\"M18.56 5.44l.94 2.06.94-2.06 2.06-.94-2.06-.94-.94-2.06-.94 2.06-2.06.94zm-11 1L8.5 8.5l.94-2.06 2.06-.94-2.06-.94L8.5 2.5l-.94 2.06-2.06.94zm10 10l.94 2.06.94-2.06 2.06-.94-2.06-.94-.94-2.06-.94 2.06-2.06.94z\"/><path d=\"M17.41 7.96l-1.37-1.37c-.4-.4-.92-.59-1.43-.59-.52 0-1.04.2-1.43.59L10.3 9.45l-7.72 7.72c-.78.78-.78 2.05 0 2.83L4 21.41c.39.39.9.59 1.41.59.51 0 1.02-.2 1.41-.59l7.78-7.78 2.81-2.81c.8-.78.8-2.07 0-2.86zM5.41 20L4 18.59l7.72-7.72 1.47 1.35L5.41 20z\"/>\n",
              "  </svg>\n",
              "      </button>\n",
              "      \n",
              "  <style>\n",
              "    .colab-df-container {\n",
              "      display:flex;\n",
              "      flex-wrap:wrap;\n",
              "      gap: 12px;\n",
              "    }\n",
              "\n",
              "    .colab-df-convert {\n",
              "      background-color: #E8F0FE;\n",
              "      border: none;\n",
              "      border-radius: 50%;\n",
              "      cursor: pointer;\n",
              "      display: none;\n",
              "      fill: #1967D2;\n",
              "      height: 32px;\n",
              "      padding: 0 0 0 0;\n",
              "      width: 32px;\n",
              "    }\n",
              "\n",
              "    .colab-df-convert:hover {\n",
              "      background-color: #E2EBFA;\n",
              "      box-shadow: 0px 1px 2px rgba(60, 64, 67, 0.3), 0px 1px 3px 1px rgba(60, 64, 67, 0.15);\n",
              "      fill: #174EA6;\n",
              "    }\n",
              "\n",
              "    [theme=dark] .colab-df-convert {\n",
              "      background-color: #3B4455;\n",
              "      fill: #D2E3FC;\n",
              "    }\n",
              "\n",
              "    [theme=dark] .colab-df-convert:hover {\n",
              "      background-color: #434B5C;\n",
              "      box-shadow: 0px 1px 3px 1px rgba(0, 0, 0, 0.15);\n",
              "      filter: drop-shadow(0px 1px 2px rgba(0, 0, 0, 0.3));\n",
              "      fill: #FFFFFF;\n",
              "    }\n",
              "  </style>\n",
              "\n",
              "      <script>\n",
              "        const buttonEl =\n",
              "          document.querySelector('#df-1061d94c-6bdc-4d5d-ba94-fe036569041d button.colab-df-convert');\n",
              "        buttonEl.style.display =\n",
              "          google.colab.kernel.accessAllowed ? 'block' : 'none';\n",
              "\n",
              "        async function convertToInteractive(key) {\n",
              "          const element = document.querySelector('#df-1061d94c-6bdc-4d5d-ba94-fe036569041d');\n",
              "          const dataTable =\n",
              "            await google.colab.kernel.invokeFunction('convertToInteractive',\n",
              "                                                     [key], {});\n",
              "          if (!dataTable) return;\n",
              "\n",
              "          const docLinkHtml = 'Like what you see? Visit the ' +\n",
              "            '<a target=\"_blank\" href=https://colab.research.google.com/notebooks/data_table.ipynb>data table notebook</a>'\n",
              "            + ' to learn more about interactive tables.';\n",
              "          element.innerHTML = '';\n",
              "          dataTable['output_type'] = 'display_data';\n",
              "          await google.colab.output.renderOutput(dataTable, element);\n",
              "          const docLink = document.createElement('div');\n",
              "          docLink.innerHTML = docLinkHtml;\n",
              "          element.appendChild(docLink);\n",
              "        }\n",
              "      </script>\n",
              "    </div>\n",
              "  </div>\n",
              "  "
            ]
          },
          "metadata": {},
          "execution_count": 30
        }
      ],
      "source": [
        "quote"
      ]
    },
    {
      "cell_type": "code",
      "execution_count": 31,
      "id": "b32f507b",
      "metadata": {
        "id": "b32f507b"
      },
      "outputs": [],
      "source": [
        "quote_df=quote.filter(['Close'])"
      ]
    },
    {
      "cell_type": "code",
      "execution_count": 32,
      "id": "6cbe690d",
      "metadata": {
        "colab": {
          "base_uri": "https://localhost:8080/",
          "height": 424
        },
        "id": "6cbe690d",
        "outputId": "29d38aae-5353-49f9-d1e2-3f2809aaf474"
      },
      "outputs": [
        {
          "output_type": "execute_result",
          "data": {
            "text/plain": [
              "            Close\n",
              "0      179.029999\n",
              "1      177.509995\n",
              "2      177.610001\n",
              "3      182.610001\n",
              "4      178.559998\n",
              "...           ...\n",
              "2539  2776.909912\n",
              "2540  3152.790039\n",
              "2541  3158.709961\n",
              "2542  3228.270020\n",
              "2543  3223.790039\n",
              "\n",
              "[2544 rows x 1 columns]"
            ],
            "text/html": [
              "\n",
              "  <div id=\"df-ff459822-6ad7-4240-b51c-03d8fbcfe137\">\n",
              "    <div class=\"colab-df-container\">\n",
              "      <div>\n",
              "<style scoped>\n",
              "    .dataframe tbody tr th:only-of-type {\n",
              "        vertical-align: middle;\n",
              "    }\n",
              "\n",
              "    .dataframe tbody tr th {\n",
              "        vertical-align: top;\n",
              "    }\n",
              "\n",
              "    .dataframe thead th {\n",
              "        text-align: right;\n",
              "    }\n",
              "</style>\n",
              "<table border=\"1\" class=\"dataframe\">\n",
              "  <thead>\n",
              "    <tr style=\"text-align: right;\">\n",
              "      <th></th>\n",
              "      <th>Close</th>\n",
              "    </tr>\n",
              "  </thead>\n",
              "  <tbody>\n",
              "    <tr>\n",
              "      <th>0</th>\n",
              "      <td>179.029999</td>\n",
              "    </tr>\n",
              "    <tr>\n",
              "      <th>1</th>\n",
              "      <td>177.509995</td>\n",
              "    </tr>\n",
              "    <tr>\n",
              "      <th>2</th>\n",
              "      <td>177.610001</td>\n",
              "    </tr>\n",
              "    <tr>\n",
              "      <th>3</th>\n",
              "      <td>182.610001</td>\n",
              "    </tr>\n",
              "    <tr>\n",
              "      <th>4</th>\n",
              "      <td>178.559998</td>\n",
              "    </tr>\n",
              "    <tr>\n",
              "      <th>...</th>\n",
              "      <td>...</td>\n",
              "    </tr>\n",
              "    <tr>\n",
              "      <th>2539</th>\n",
              "      <td>2776.909912</td>\n",
              "    </tr>\n",
              "    <tr>\n",
              "      <th>2540</th>\n",
              "      <td>3152.790039</td>\n",
              "    </tr>\n",
              "    <tr>\n",
              "      <th>2541</th>\n",
              "      <td>3158.709961</td>\n",
              "    </tr>\n",
              "    <tr>\n",
              "      <th>2542</th>\n",
              "      <td>3228.270020</td>\n",
              "    </tr>\n",
              "    <tr>\n",
              "      <th>2543</th>\n",
              "      <td>3223.790039</td>\n",
              "    </tr>\n",
              "  </tbody>\n",
              "</table>\n",
              "<p>2544 rows × 1 columns</p>\n",
              "</div>\n",
              "      <button class=\"colab-df-convert\" onclick=\"convertToInteractive('df-ff459822-6ad7-4240-b51c-03d8fbcfe137')\"\n",
              "              title=\"Convert this dataframe to an interactive table.\"\n",
              "              style=\"display:none;\">\n",
              "        \n",
              "  <svg xmlns=\"http://www.w3.org/2000/svg\" height=\"24px\"viewBox=\"0 0 24 24\"\n",
              "       width=\"24px\">\n",
              "    <path d=\"M0 0h24v24H0V0z\" fill=\"none\"/>\n",
              "    <path d=\"M18.56 5.44l.94 2.06.94-2.06 2.06-.94-2.06-.94-.94-2.06-.94 2.06-2.06.94zm-11 1L8.5 8.5l.94-2.06 2.06-.94-2.06-.94L8.5 2.5l-.94 2.06-2.06.94zm10 10l.94 2.06.94-2.06 2.06-.94-2.06-.94-.94-2.06-.94 2.06-2.06.94z\"/><path d=\"M17.41 7.96l-1.37-1.37c-.4-.4-.92-.59-1.43-.59-.52 0-1.04.2-1.43.59L10.3 9.45l-7.72 7.72c-.78.78-.78 2.05 0 2.83L4 21.41c.39.39.9.59 1.41.59.51 0 1.02-.2 1.41-.59l7.78-7.78 2.81-2.81c.8-.78.8-2.07 0-2.86zM5.41 20L4 18.59l7.72-7.72 1.47 1.35L5.41 20z\"/>\n",
              "  </svg>\n",
              "      </button>\n",
              "      \n",
              "  <style>\n",
              "    .colab-df-container {\n",
              "      display:flex;\n",
              "      flex-wrap:wrap;\n",
              "      gap: 12px;\n",
              "    }\n",
              "\n",
              "    .colab-df-convert {\n",
              "      background-color: #E8F0FE;\n",
              "      border: none;\n",
              "      border-radius: 50%;\n",
              "      cursor: pointer;\n",
              "      display: none;\n",
              "      fill: #1967D2;\n",
              "      height: 32px;\n",
              "      padding: 0 0 0 0;\n",
              "      width: 32px;\n",
              "    }\n",
              "\n",
              "    .colab-df-convert:hover {\n",
              "      background-color: #E2EBFA;\n",
              "      box-shadow: 0px 1px 2px rgba(60, 64, 67, 0.3), 0px 1px 3px 1px rgba(60, 64, 67, 0.15);\n",
              "      fill: #174EA6;\n",
              "    }\n",
              "\n",
              "    [theme=dark] .colab-df-convert {\n",
              "      background-color: #3B4455;\n",
              "      fill: #D2E3FC;\n",
              "    }\n",
              "\n",
              "    [theme=dark] .colab-df-convert:hover {\n",
              "      background-color: #434B5C;\n",
              "      box-shadow: 0px 1px 3px 1px rgba(0, 0, 0, 0.15);\n",
              "      filter: drop-shadow(0px 1px 2px rgba(0, 0, 0, 0.3));\n",
              "      fill: #FFFFFF;\n",
              "    }\n",
              "  </style>\n",
              "\n",
              "      <script>\n",
              "        const buttonEl =\n",
              "          document.querySelector('#df-ff459822-6ad7-4240-b51c-03d8fbcfe137 button.colab-df-convert');\n",
              "        buttonEl.style.display =\n",
              "          google.colab.kernel.accessAllowed ? 'block' : 'none';\n",
              "\n",
              "        async function convertToInteractive(key) {\n",
              "          const element = document.querySelector('#df-ff459822-6ad7-4240-b51c-03d8fbcfe137');\n",
              "          const dataTable =\n",
              "            await google.colab.kernel.invokeFunction('convertToInteractive',\n",
              "                                                     [key], {});\n",
              "          if (!dataTable) return;\n",
              "\n",
              "          const docLinkHtml = 'Like what you see? Visit the ' +\n",
              "            '<a target=\"_blank\" href=https://colab.research.google.com/notebooks/data_table.ipynb>data table notebook</a>'\n",
              "            + ' to learn more about interactive tables.';\n",
              "          element.innerHTML = '';\n",
              "          dataTable['output_type'] = 'display_data';\n",
              "          await google.colab.output.renderOutput(dataTable, element);\n",
              "          const docLink = document.createElement('div');\n",
              "          docLink.innerHTML = docLinkHtml;\n",
              "          element.appendChild(docLink);\n",
              "        }\n",
              "      </script>\n",
              "    </div>\n",
              "  </div>\n",
              "  "
            ]
          },
          "metadata": {},
          "execution_count": 32
        }
      ],
      "source": [
        "quote_df"
      ]
    },
    {
      "cell_type": "code",
      "execution_count": 33,
      "id": "1fbbc183",
      "metadata": {
        "id": "1fbbc183"
      },
      "outputs": [],
      "source": [
        "#last 60 days\n",
        "last_60_days=quote_df[-60:].values\n",
        "last_60_days_scaled=scaler.transform(last_60_days)"
      ]
    },
    {
      "cell_type": "code",
      "execution_count": 34,
      "id": "689a84db",
      "metadata": {
        "colab": {
          "base_uri": "https://localhost:8080/",
          "height": 0
        },
        "id": "689a84db",
        "outputId": "dd985498-bfd6-494c-b9a3-e6b9037f68b8"
      },
      "outputs": [
        {
          "output_type": "stream",
          "name": "stdout",
          "text": [
            "[[3007.066]]\n"
          ]
        }
      ],
      "source": [
        "X_test=[]\n",
        "X_test.append(last_60_days_scaled)\n",
        "X_test=np.array(X_test)\n",
        "X_test=np.reshape(X_test, (X_test.shape[0], X_test.shape[1],1))\n",
        "predicted_price=model.predict(X_test)\n",
        "predicted_prce=scaler.inverse_transform(predicted_price)\n",
        "print(predicted_prce)"
      ]
    },
    {
      "cell_type": "code",
      "execution_count": 89,
      "id": "967572ed",
      "metadata": {
        "colab": {
          "base_uri": "https://localhost:8080/",
          "height": 0
        },
        "id": "967572ed",
        "outputId": "0b11543d-366f-46d3-de80-b3cdfa54ab46"
      },
      "outputs": [
        {
          "output_type": "stream",
          "name": "stderr",
          "text": [
            "/usr/local/lib/python3.7/dist-packages/ipykernel_launcher.py:2: FutureWarning: casting datetime64[ns] values to int64 with .astype(...) is deprecated and will raise in a future version. Use .view(...) instead.\n",
            "  \n",
            "/usr/local/lib/python3.7/dist-packages/ipykernel_launcher.py:3: FutureWarning: casting datetime64[ns] values to int64 with .astype(...) is deprecated and will raise in a future version. Use .view(...) instead.\n",
            "  This is separate from the ipykernel package so we can avoid doing imports until\n"
          ]
        }
      ],
      "source": [
        "stock_ticker = 'AMZN'\n",
        "start = pd.to_datetime(['2012-01-01']).astype(int)[0]//10**9 # convert to unix timestamp.\n",
        "end = pd.to_datetime(['2022-02-10']).astype(int)[0]//10**9 # convert to unix timestamp.\n",
        "url = 'https://query1.finance.yahoo.com/v7/finance/download/' + stock_ticker + '?period1=' + str(start) + '&period2=' + str(end) + '&interval=1d&events=history'\n",
        "df = pd.read_csv(url)"
      ]
    },
    {
      "cell_type": "code",
      "source": [
        "df.shape"
      ],
      "metadata": {
        "colab": {
          "base_uri": "https://localhost:8080/",
          "height": 0
        },
        "id": "GYIESSvA83zH",
        "outputId": "8a038552-154a-483f-850a-c8a6adf8bf5a"
      },
      "id": "GYIESSvA83zH",
      "execution_count": 90,
      "outputs": [
        {
          "output_type": "execute_result",
          "data": {
            "text/plain": [
              "(2544, 7)"
            ]
          },
          "metadata": {},
          "execution_count": 90
        }
      ]
    },
    {
      "cell_type": "markdown",
      "id": "dac861c9",
      "metadata": {
        "id": "dac861c9"
      },
      "source": [
        "### Group Assignment:\n",
        "In the example, we use the last 60 day's price to predict the closing price for next day.  Modify the program to perform the following task:\n",
        "- Use past 60 days price to predict the price in one week (5 days). You can choose any stock.\n",
        "- Use your prediction to generate trading signals for the testing periodd (20% of you dataset):  if the predicted price is higher than the current price (you can specify a threshold) , you should buy one share; if it is lower than the current preice, you can short one share.\n",
        "- Assume that you will always close your position in onw week, caculate your accumaltaed PnL for testing data\n"
      ]
    },
    {
      "cell_type": "code",
      "source": [
        "df[64:69]"
      ],
      "metadata": {
        "colab": {
          "base_uri": "https://localhost:8080/",
          "height": 206
        },
        "id": "RwWewvDS6pzF",
        "outputId": "9d5a1482-d96a-48ff-eda9-2f378928d098"
      },
      "id": "RwWewvDS6pzF",
      "execution_count": 91,
      "outputs": [
        {
          "output_type": "execute_result",
          "data": {
            "text/plain": [
              "          Date        Open        High         Low       Close   Adj Close  \\\n",
              "64  2012-04-04  196.949997  197.679993  192.360001  193.990005  193.990005   \n",
              "65  2012-04-05  193.550003  196.029999  193.550003  194.389999  194.389999   \n",
              "66  2012-04-09  192.020004  194.199997  190.500000  191.869995  191.869995   \n",
              "67  2012-04-10  192.750000  193.520004  186.570007  186.979996  186.979996   \n",
              "68  2012-04-11  189.630005  191.970001  186.789993  187.970001  187.970001   \n",
              "\n",
              "     Volume  \n",
              "64  5456900  \n",
              "65  3217500  \n",
              "66  3135900  \n",
              "67  4455000  \n",
              "68  4337800  "
            ],
            "text/html": [
              "\n",
              "  <div id=\"df-95dbaa4c-f066-4b3a-a28f-1a303b0f4859\">\n",
              "    <div class=\"colab-df-container\">\n",
              "      <div>\n",
              "<style scoped>\n",
              "    .dataframe tbody tr th:only-of-type {\n",
              "        vertical-align: middle;\n",
              "    }\n",
              "\n",
              "    .dataframe tbody tr th {\n",
              "        vertical-align: top;\n",
              "    }\n",
              "\n",
              "    .dataframe thead th {\n",
              "        text-align: right;\n",
              "    }\n",
              "</style>\n",
              "<table border=\"1\" class=\"dataframe\">\n",
              "  <thead>\n",
              "    <tr style=\"text-align: right;\">\n",
              "      <th></th>\n",
              "      <th>Date</th>\n",
              "      <th>Open</th>\n",
              "      <th>High</th>\n",
              "      <th>Low</th>\n",
              "      <th>Close</th>\n",
              "      <th>Adj Close</th>\n",
              "      <th>Volume</th>\n",
              "    </tr>\n",
              "  </thead>\n",
              "  <tbody>\n",
              "    <tr>\n",
              "      <th>64</th>\n",
              "      <td>2012-04-04</td>\n",
              "      <td>196.949997</td>\n",
              "      <td>197.679993</td>\n",
              "      <td>192.360001</td>\n",
              "      <td>193.990005</td>\n",
              "      <td>193.990005</td>\n",
              "      <td>5456900</td>\n",
              "    </tr>\n",
              "    <tr>\n",
              "      <th>65</th>\n",
              "      <td>2012-04-05</td>\n",
              "      <td>193.550003</td>\n",
              "      <td>196.029999</td>\n",
              "      <td>193.550003</td>\n",
              "      <td>194.389999</td>\n",
              "      <td>194.389999</td>\n",
              "      <td>3217500</td>\n",
              "    </tr>\n",
              "    <tr>\n",
              "      <th>66</th>\n",
              "      <td>2012-04-09</td>\n",
              "      <td>192.020004</td>\n",
              "      <td>194.199997</td>\n",
              "      <td>190.500000</td>\n",
              "      <td>191.869995</td>\n",
              "      <td>191.869995</td>\n",
              "      <td>3135900</td>\n",
              "    </tr>\n",
              "    <tr>\n",
              "      <th>67</th>\n",
              "      <td>2012-04-10</td>\n",
              "      <td>192.750000</td>\n",
              "      <td>193.520004</td>\n",
              "      <td>186.570007</td>\n",
              "      <td>186.979996</td>\n",
              "      <td>186.979996</td>\n",
              "      <td>4455000</td>\n",
              "    </tr>\n",
              "    <tr>\n",
              "      <th>68</th>\n",
              "      <td>2012-04-11</td>\n",
              "      <td>189.630005</td>\n",
              "      <td>191.970001</td>\n",
              "      <td>186.789993</td>\n",
              "      <td>187.970001</td>\n",
              "      <td>187.970001</td>\n",
              "      <td>4337800</td>\n",
              "    </tr>\n",
              "  </tbody>\n",
              "</table>\n",
              "</div>\n",
              "      <button class=\"colab-df-convert\" onclick=\"convertToInteractive('df-95dbaa4c-f066-4b3a-a28f-1a303b0f4859')\"\n",
              "              title=\"Convert this dataframe to an interactive table.\"\n",
              "              style=\"display:none;\">\n",
              "        \n",
              "  <svg xmlns=\"http://www.w3.org/2000/svg\" height=\"24px\"viewBox=\"0 0 24 24\"\n",
              "       width=\"24px\">\n",
              "    <path d=\"M0 0h24v24H0V0z\" fill=\"none\"/>\n",
              "    <path d=\"M18.56 5.44l.94 2.06.94-2.06 2.06-.94-2.06-.94-.94-2.06-.94 2.06-2.06.94zm-11 1L8.5 8.5l.94-2.06 2.06-.94-2.06-.94L8.5 2.5l-.94 2.06-2.06.94zm10 10l.94 2.06.94-2.06 2.06-.94-2.06-.94-.94-2.06-.94 2.06-2.06.94z\"/><path d=\"M17.41 7.96l-1.37-1.37c-.4-.4-.92-.59-1.43-.59-.52 0-1.04.2-1.43.59L10.3 9.45l-7.72 7.72c-.78.78-.78 2.05 0 2.83L4 21.41c.39.39.9.59 1.41.59.51 0 1.02-.2 1.41-.59l7.78-7.78 2.81-2.81c.8-.78.8-2.07 0-2.86zM5.41 20L4 18.59l7.72-7.72 1.47 1.35L5.41 20z\"/>\n",
              "  </svg>\n",
              "      </button>\n",
              "      \n",
              "  <style>\n",
              "    .colab-df-container {\n",
              "      display:flex;\n",
              "      flex-wrap:wrap;\n",
              "      gap: 12px;\n",
              "    }\n",
              "\n",
              "    .colab-df-convert {\n",
              "      background-color: #E8F0FE;\n",
              "      border: none;\n",
              "      border-radius: 50%;\n",
              "      cursor: pointer;\n",
              "      display: none;\n",
              "      fill: #1967D2;\n",
              "      height: 32px;\n",
              "      padding: 0 0 0 0;\n",
              "      width: 32px;\n",
              "    }\n",
              "\n",
              "    .colab-df-convert:hover {\n",
              "      background-color: #E2EBFA;\n",
              "      box-shadow: 0px 1px 2px rgba(60, 64, 67, 0.3), 0px 1px 3px 1px rgba(60, 64, 67, 0.15);\n",
              "      fill: #174EA6;\n",
              "    }\n",
              "\n",
              "    [theme=dark] .colab-df-convert {\n",
              "      background-color: #3B4455;\n",
              "      fill: #D2E3FC;\n",
              "    }\n",
              "\n",
              "    [theme=dark] .colab-df-convert:hover {\n",
              "      background-color: #434B5C;\n",
              "      box-shadow: 0px 1px 3px 1px rgba(0, 0, 0, 0.15);\n",
              "      filter: drop-shadow(0px 1px 2px rgba(0, 0, 0, 0.3));\n",
              "      fill: #FFFFFF;\n",
              "    }\n",
              "  </style>\n",
              "\n",
              "      <script>\n",
              "        const buttonEl =\n",
              "          document.querySelector('#df-95dbaa4c-f066-4b3a-a28f-1a303b0f4859 button.colab-df-convert');\n",
              "        buttonEl.style.display =\n",
              "          google.colab.kernel.accessAllowed ? 'block' : 'none';\n",
              "\n",
              "        async function convertToInteractive(key) {\n",
              "          const element = document.querySelector('#df-95dbaa4c-f066-4b3a-a28f-1a303b0f4859');\n",
              "          const dataTable =\n",
              "            await google.colab.kernel.invokeFunction('convertToInteractive',\n",
              "                                                     [key], {});\n",
              "          if (!dataTable) return;\n",
              "\n",
              "          const docLinkHtml = 'Like what you see? Visit the ' +\n",
              "            '<a target=\"_blank\" href=https://colab.research.google.com/notebooks/data_table.ipynb>data table notebook</a>'\n",
              "            + ' to learn more about interactive tables.';\n",
              "          element.innerHTML = '';\n",
              "          dataTable['output_type'] = 'display_data';\n",
              "          await google.colab.output.renderOutput(dataTable, element);\n",
              "          const docLink = document.createElement('div');\n",
              "          docLink.innerHTML = docLinkHtml;\n",
              "          element.appendChild(docLink);\n",
              "        }\n",
              "      </script>\n",
              "    </div>\n",
              "  </div>\n",
              "  "
            ]
          },
          "metadata": {},
          "execution_count": 91
        }
      ]
    },
    {
      "cell_type": "code",
      "source": [
        "df.head()"
      ],
      "metadata": {
        "colab": {
          "base_uri": "https://localhost:8080/",
          "height": 206
        },
        "id": "Mkn-ql_2FijR",
        "outputId": "2e3d1537-41f3-4273-8693-66c784536357"
      },
      "id": "Mkn-ql_2FijR",
      "execution_count": 117,
      "outputs": [
        {
          "output_type": "execute_result",
          "data": {
            "text/plain": [
              "         Date        Open        High         Low       Close   Adj Close  \\\n",
              "0  2012-01-03  175.889999  179.479996  175.550003  179.029999  179.029999   \n",
              "1  2012-01-04  179.210007  180.500000  176.070007  177.509995  177.509995   \n",
              "2  2012-01-05  175.940002  178.250000  174.050003  177.610001  177.610001   \n",
              "3  2012-01-06  178.070007  184.649994  177.500000  182.610001  182.610001   \n",
              "4  2012-01-09  182.759995  184.369995  177.000000  178.559998  178.559998   \n",
              "\n",
              "    Volume  \n",
              "0  5110800  \n",
              "1  4205200  \n",
              "2  3809100  \n",
              "3  7008400  \n",
              "4  5056900  "
            ],
            "text/html": [
              "\n",
              "  <div id=\"df-1b50620c-a63c-4950-8853-bd1a98215c02\">\n",
              "    <div class=\"colab-df-container\">\n",
              "      <div>\n",
              "<style scoped>\n",
              "    .dataframe tbody tr th:only-of-type {\n",
              "        vertical-align: middle;\n",
              "    }\n",
              "\n",
              "    .dataframe tbody tr th {\n",
              "        vertical-align: top;\n",
              "    }\n",
              "\n",
              "    .dataframe thead th {\n",
              "        text-align: right;\n",
              "    }\n",
              "</style>\n",
              "<table border=\"1\" class=\"dataframe\">\n",
              "  <thead>\n",
              "    <tr style=\"text-align: right;\">\n",
              "      <th></th>\n",
              "      <th>Date</th>\n",
              "      <th>Open</th>\n",
              "      <th>High</th>\n",
              "      <th>Low</th>\n",
              "      <th>Close</th>\n",
              "      <th>Adj Close</th>\n",
              "      <th>Volume</th>\n",
              "    </tr>\n",
              "  </thead>\n",
              "  <tbody>\n",
              "    <tr>\n",
              "      <th>0</th>\n",
              "      <td>2012-01-03</td>\n",
              "      <td>175.889999</td>\n",
              "      <td>179.479996</td>\n",
              "      <td>175.550003</td>\n",
              "      <td>179.029999</td>\n",
              "      <td>179.029999</td>\n",
              "      <td>5110800</td>\n",
              "    </tr>\n",
              "    <tr>\n",
              "      <th>1</th>\n",
              "      <td>2012-01-04</td>\n",
              "      <td>179.210007</td>\n",
              "      <td>180.500000</td>\n",
              "      <td>176.070007</td>\n",
              "      <td>177.509995</td>\n",
              "      <td>177.509995</td>\n",
              "      <td>4205200</td>\n",
              "    </tr>\n",
              "    <tr>\n",
              "      <th>2</th>\n",
              "      <td>2012-01-05</td>\n",
              "      <td>175.940002</td>\n",
              "      <td>178.250000</td>\n",
              "      <td>174.050003</td>\n",
              "      <td>177.610001</td>\n",
              "      <td>177.610001</td>\n",
              "      <td>3809100</td>\n",
              "    </tr>\n",
              "    <tr>\n",
              "      <th>3</th>\n",
              "      <td>2012-01-06</td>\n",
              "      <td>178.070007</td>\n",
              "      <td>184.649994</td>\n",
              "      <td>177.500000</td>\n",
              "      <td>182.610001</td>\n",
              "      <td>182.610001</td>\n",
              "      <td>7008400</td>\n",
              "    </tr>\n",
              "    <tr>\n",
              "      <th>4</th>\n",
              "      <td>2012-01-09</td>\n",
              "      <td>182.759995</td>\n",
              "      <td>184.369995</td>\n",
              "      <td>177.000000</td>\n",
              "      <td>178.559998</td>\n",
              "      <td>178.559998</td>\n",
              "      <td>5056900</td>\n",
              "    </tr>\n",
              "  </tbody>\n",
              "</table>\n",
              "</div>\n",
              "      <button class=\"colab-df-convert\" onclick=\"convertToInteractive('df-1b50620c-a63c-4950-8853-bd1a98215c02')\"\n",
              "              title=\"Convert this dataframe to an interactive table.\"\n",
              "              style=\"display:none;\">\n",
              "        \n",
              "  <svg xmlns=\"http://www.w3.org/2000/svg\" height=\"24px\"viewBox=\"0 0 24 24\"\n",
              "       width=\"24px\">\n",
              "    <path d=\"M0 0h24v24H0V0z\" fill=\"none\"/>\n",
              "    <path d=\"M18.56 5.44l.94 2.06.94-2.06 2.06-.94-2.06-.94-.94-2.06-.94 2.06-2.06.94zm-11 1L8.5 8.5l.94-2.06 2.06-.94-2.06-.94L8.5 2.5l-.94 2.06-2.06.94zm10 10l.94 2.06.94-2.06 2.06-.94-2.06-.94-.94-2.06-.94 2.06-2.06.94z\"/><path d=\"M17.41 7.96l-1.37-1.37c-.4-.4-.92-.59-1.43-.59-.52 0-1.04.2-1.43.59L10.3 9.45l-7.72 7.72c-.78.78-.78 2.05 0 2.83L4 21.41c.39.39.9.59 1.41.59.51 0 1.02-.2 1.41-.59l7.78-7.78 2.81-2.81c.8-.78.8-2.07 0-2.86zM5.41 20L4 18.59l7.72-7.72 1.47 1.35L5.41 20z\"/>\n",
              "  </svg>\n",
              "      </button>\n",
              "      \n",
              "  <style>\n",
              "    .colab-df-container {\n",
              "      display:flex;\n",
              "      flex-wrap:wrap;\n",
              "      gap: 12px;\n",
              "    }\n",
              "\n",
              "    .colab-df-convert {\n",
              "      background-color: #E8F0FE;\n",
              "      border: none;\n",
              "      border-radius: 50%;\n",
              "      cursor: pointer;\n",
              "      display: none;\n",
              "      fill: #1967D2;\n",
              "      height: 32px;\n",
              "      padding: 0 0 0 0;\n",
              "      width: 32px;\n",
              "    }\n",
              "\n",
              "    .colab-df-convert:hover {\n",
              "      background-color: #E2EBFA;\n",
              "      box-shadow: 0px 1px 2px rgba(60, 64, 67, 0.3), 0px 1px 3px 1px rgba(60, 64, 67, 0.15);\n",
              "      fill: #174EA6;\n",
              "    }\n",
              "\n",
              "    [theme=dark] .colab-df-convert {\n",
              "      background-color: #3B4455;\n",
              "      fill: #D2E3FC;\n",
              "    }\n",
              "\n",
              "    [theme=dark] .colab-df-convert:hover {\n",
              "      background-color: #434B5C;\n",
              "      box-shadow: 0px 1px 3px 1px rgba(0, 0, 0, 0.15);\n",
              "      filter: drop-shadow(0px 1px 2px rgba(0, 0, 0, 0.3));\n",
              "      fill: #FFFFFF;\n",
              "    }\n",
              "  </style>\n",
              "\n",
              "      <script>\n",
              "        const buttonEl =\n",
              "          document.querySelector('#df-1b50620c-a63c-4950-8853-bd1a98215c02 button.colab-df-convert');\n",
              "        buttonEl.style.display =\n",
              "          google.colab.kernel.accessAllowed ? 'block' : 'none';\n",
              "\n",
              "        async function convertToInteractive(key) {\n",
              "          const element = document.querySelector('#df-1b50620c-a63c-4950-8853-bd1a98215c02');\n",
              "          const dataTable =\n",
              "            await google.colab.kernel.invokeFunction('convertToInteractive',\n",
              "                                                     [key], {});\n",
              "          if (!dataTable) return;\n",
              "\n",
              "          const docLinkHtml = 'Like what you see? Visit the ' +\n",
              "            '<a target=\"_blank\" href=https://colab.research.google.com/notebooks/data_table.ipynb>data table notebook</a>'\n",
              "            + ' to learn more about interactive tables.';\n",
              "          element.innerHTML = '';\n",
              "          dataTable['output_type'] = 'display_data';\n",
              "          await google.colab.output.renderOutput(dataTable, element);\n",
              "          const docLink = document.createElement('div');\n",
              "          docLink.innerHTML = docLinkHtml;\n",
              "          element.appendChild(docLink);\n",
              "        }\n",
              "      </script>\n",
              "    </div>\n",
              "  </div>\n",
              "  "
            ]
          },
          "metadata": {},
          "execution_count": 117
        }
      ]
    },
    {
      "cell_type": "code",
      "source": [
        "df.tail()"
      ],
      "metadata": {
        "colab": {
          "base_uri": "https://localhost:8080/",
          "height": 206
        },
        "id": "bgsJ57fRE3F3",
        "outputId": "6dec4d20-7e0a-4d26-8079-296c5cedd2c2"
      },
      "id": "bgsJ57fRE3F3",
      "execution_count": 116,
      "outputs": [
        {
          "output_type": "execute_result",
          "data": {
            "text/plain": [
              "            Date         Open         High          Low        Close  \\\n",
              "2539  2022-02-03  2834.750000  2884.949951  2766.659912  2776.909912   \n",
              "2540  2022-02-04  3112.129883  3224.000000  3012.159912  3152.790039   \n",
              "2541  2022-02-07  3170.399902  3253.820068  3145.000000  3158.709961   \n",
              "2542  2022-02-08  3135.010010  3235.850098  3111.010010  3228.270020   \n",
              "2543  2022-02-09  3257.469971  3276.689941  3205.000000  3223.790039   \n",
              "\n",
              "        Adj Close    Volume  \n",
              "2539  2776.909912  11276600  \n",
              "2540  3152.790039  12672800  \n",
              "2541  3158.709961   5131200  \n",
              "2542  3228.270020   3802000  \n",
              "2543  3223.790039   3439300  "
            ],
            "text/html": [
              "\n",
              "  <div id=\"df-039aa6ec-59d6-4fa1-9036-5d34ee74b0e2\">\n",
              "    <div class=\"colab-df-container\">\n",
              "      <div>\n",
              "<style scoped>\n",
              "    .dataframe tbody tr th:only-of-type {\n",
              "        vertical-align: middle;\n",
              "    }\n",
              "\n",
              "    .dataframe tbody tr th {\n",
              "        vertical-align: top;\n",
              "    }\n",
              "\n",
              "    .dataframe thead th {\n",
              "        text-align: right;\n",
              "    }\n",
              "</style>\n",
              "<table border=\"1\" class=\"dataframe\">\n",
              "  <thead>\n",
              "    <tr style=\"text-align: right;\">\n",
              "      <th></th>\n",
              "      <th>Date</th>\n",
              "      <th>Open</th>\n",
              "      <th>High</th>\n",
              "      <th>Low</th>\n",
              "      <th>Close</th>\n",
              "      <th>Adj Close</th>\n",
              "      <th>Volume</th>\n",
              "    </tr>\n",
              "  </thead>\n",
              "  <tbody>\n",
              "    <tr>\n",
              "      <th>2539</th>\n",
              "      <td>2022-02-03</td>\n",
              "      <td>2834.750000</td>\n",
              "      <td>2884.949951</td>\n",
              "      <td>2766.659912</td>\n",
              "      <td>2776.909912</td>\n",
              "      <td>2776.909912</td>\n",
              "      <td>11276600</td>\n",
              "    </tr>\n",
              "    <tr>\n",
              "      <th>2540</th>\n",
              "      <td>2022-02-04</td>\n",
              "      <td>3112.129883</td>\n",
              "      <td>3224.000000</td>\n",
              "      <td>3012.159912</td>\n",
              "      <td>3152.790039</td>\n",
              "      <td>3152.790039</td>\n",
              "      <td>12672800</td>\n",
              "    </tr>\n",
              "    <tr>\n",
              "      <th>2541</th>\n",
              "      <td>2022-02-07</td>\n",
              "      <td>3170.399902</td>\n",
              "      <td>3253.820068</td>\n",
              "      <td>3145.000000</td>\n",
              "      <td>3158.709961</td>\n",
              "      <td>3158.709961</td>\n",
              "      <td>5131200</td>\n",
              "    </tr>\n",
              "    <tr>\n",
              "      <th>2542</th>\n",
              "      <td>2022-02-08</td>\n",
              "      <td>3135.010010</td>\n",
              "      <td>3235.850098</td>\n",
              "      <td>3111.010010</td>\n",
              "      <td>3228.270020</td>\n",
              "      <td>3228.270020</td>\n",
              "      <td>3802000</td>\n",
              "    </tr>\n",
              "    <tr>\n",
              "      <th>2543</th>\n",
              "      <td>2022-02-09</td>\n",
              "      <td>3257.469971</td>\n",
              "      <td>3276.689941</td>\n",
              "      <td>3205.000000</td>\n",
              "      <td>3223.790039</td>\n",
              "      <td>3223.790039</td>\n",
              "      <td>3439300</td>\n",
              "    </tr>\n",
              "  </tbody>\n",
              "</table>\n",
              "</div>\n",
              "      <button class=\"colab-df-convert\" onclick=\"convertToInteractive('df-039aa6ec-59d6-4fa1-9036-5d34ee74b0e2')\"\n",
              "              title=\"Convert this dataframe to an interactive table.\"\n",
              "              style=\"display:none;\">\n",
              "        \n",
              "  <svg xmlns=\"http://www.w3.org/2000/svg\" height=\"24px\"viewBox=\"0 0 24 24\"\n",
              "       width=\"24px\">\n",
              "    <path d=\"M0 0h24v24H0V0z\" fill=\"none\"/>\n",
              "    <path d=\"M18.56 5.44l.94 2.06.94-2.06 2.06-.94-2.06-.94-.94-2.06-.94 2.06-2.06.94zm-11 1L8.5 8.5l.94-2.06 2.06-.94-2.06-.94L8.5 2.5l-.94 2.06-2.06.94zm10 10l.94 2.06.94-2.06 2.06-.94-2.06-.94-.94-2.06-.94 2.06-2.06.94z\"/><path d=\"M17.41 7.96l-1.37-1.37c-.4-.4-.92-.59-1.43-.59-.52 0-1.04.2-1.43.59L10.3 9.45l-7.72 7.72c-.78.78-.78 2.05 0 2.83L4 21.41c.39.39.9.59 1.41.59.51 0 1.02-.2 1.41-.59l7.78-7.78 2.81-2.81c.8-.78.8-2.07 0-2.86zM5.41 20L4 18.59l7.72-7.72 1.47 1.35L5.41 20z\"/>\n",
              "  </svg>\n",
              "      </button>\n",
              "      \n",
              "  <style>\n",
              "    .colab-df-container {\n",
              "      display:flex;\n",
              "      flex-wrap:wrap;\n",
              "      gap: 12px;\n",
              "    }\n",
              "\n",
              "    .colab-df-convert {\n",
              "      background-color: #E8F0FE;\n",
              "      border: none;\n",
              "      border-radius: 50%;\n",
              "      cursor: pointer;\n",
              "      display: none;\n",
              "      fill: #1967D2;\n",
              "      height: 32px;\n",
              "      padding: 0 0 0 0;\n",
              "      width: 32px;\n",
              "    }\n",
              "\n",
              "    .colab-df-convert:hover {\n",
              "      background-color: #E2EBFA;\n",
              "      box-shadow: 0px 1px 2px rgba(60, 64, 67, 0.3), 0px 1px 3px 1px rgba(60, 64, 67, 0.15);\n",
              "      fill: #174EA6;\n",
              "    }\n",
              "\n",
              "    [theme=dark] .colab-df-convert {\n",
              "      background-color: #3B4455;\n",
              "      fill: #D2E3FC;\n",
              "    }\n",
              "\n",
              "    [theme=dark] .colab-df-convert:hover {\n",
              "      background-color: #434B5C;\n",
              "      box-shadow: 0px 1px 3px 1px rgba(0, 0, 0, 0.15);\n",
              "      filter: drop-shadow(0px 1px 2px rgba(0, 0, 0, 0.3));\n",
              "      fill: #FFFFFF;\n",
              "    }\n",
              "  </style>\n",
              "\n",
              "      <script>\n",
              "        const buttonEl =\n",
              "          document.querySelector('#df-039aa6ec-59d6-4fa1-9036-5d34ee74b0e2 button.colab-df-convert');\n",
              "        buttonEl.style.display =\n",
              "          google.colab.kernel.accessAllowed ? 'block' : 'none';\n",
              "\n",
              "        async function convertToInteractive(key) {\n",
              "          const element = document.querySelector('#df-039aa6ec-59d6-4fa1-9036-5d34ee74b0e2');\n",
              "          const dataTable =\n",
              "            await google.colab.kernel.invokeFunction('convertToInteractive',\n",
              "                                                     [key], {});\n",
              "          if (!dataTable) return;\n",
              "\n",
              "          const docLinkHtml = 'Like what you see? Visit the ' +\n",
              "            '<a target=\"_blank\" href=https://colab.research.google.com/notebooks/data_table.ipynb>data table notebook</a>'\n",
              "            + ' to learn more about interactive tables.';\n",
              "          element.innerHTML = '';\n",
              "          dataTable['output_type'] = 'display_data';\n",
              "          await google.colab.output.renderOutput(dataTable, element);\n",
              "          const docLink = document.createElement('div');\n",
              "          docLink.innerHTML = docLinkHtml;\n",
              "          element.appendChild(docLink);\n",
              "        }\n",
              "      </script>\n",
              "    </div>\n",
              "  </div>\n",
              "  "
            ]
          },
          "metadata": {},
          "execution_count": 116
        }
      ]
    },
    {
      "cell_type": "code",
      "execution_count": 92,
      "id": "6b759443",
      "metadata": {
        "colab": {
          "base_uri": "https://localhost:8080/",
          "height": 530
        },
        "id": "6b759443",
        "outputId": "f72ea668-47aa-487a-ad5c-e440dab5cedd"
      },
      "outputs": [
        {
          "output_type": "execute_result",
          "data": {
            "text/plain": [
              "Text(0, 0.5, 'Stock Price ($)')"
            ]
          },
          "metadata": {},
          "execution_count": 92
        },
        {
          "output_type": "display_data",
          "data": {
            "text/plain": [
              "<Figure size 864x576 with 1 Axes>"
            ],
            "image/png": "[encoded data removed]"
          },
          "metadata": {
            "needs_background": "light"
          }
        }
      ],
      "source": [
        "plt.figure(figsize=(12,8))\n",
        "plt.title('Close Price History')\n",
        "plt.plot(df['Close'], lw=1)\n",
        "plt.xlabel('Date')\n",
        "plt.ylabel('Stock Price ($)')"
      ]
    },
    {
      "cell_type": "code",
      "source": [
        "data=df.filter(['Close'])"
      ],
      "metadata": {
        "id": "zAK5hG0d2yVb"
      },
      "id": "zAK5hG0d2yVb",
      "execution_count": 93,
      "outputs": []
    },
    {
      "cell_type": "code",
      "source": [
        "#convert to numpy aarray\n",
        "#We use 80 of the data for training\n",
        "train_pct=0.8  \n",
        "dataset=data.values\n",
        "train_data_len=math.ceil(len(dataset)*train_pct)"
      ],
      "metadata": {
        "id": "r0GoOiDh2yeX"
      },
      "id": "r0GoOiDh2yeX",
      "execution_count": 94,
      "outputs": []
    },
    {
      "cell_type": "code",
      "source": [
        ""
      ],
      "metadata": {
        "id": "e4ZU9u5LFsBn"
      },
      "id": "e4ZU9u5LFsBn",
      "execution_count": null,
      "outputs": []
    },
    {
      "cell_type": "code",
      "source": [
        "n_period=60\n",
        "#training dataset\n",
        "train_data=dataset[0:train_data_len]\n",
        "x_train__try=[]\n",
        "y_train_try=[]\n",
        "\n",
        "for i in range(n_period, len(train_data)-4):\n",
        "    x_train__try.append(train_data[i-n_period:i,0])\n",
        "    y_train_try.append(train_data[i+4,0])\n",
        "    \n"
      ],
      "metadata": {
        "id": "B869QflK64IE"
      },
      "id": "B869QflK64IE",
      "execution_count": 95,
      "outputs": []
    },
    {
      "cell_type": "code",
      "source": [
        "y_train_try[:5]"
      ],
      "metadata": {
        "colab": {
          "base_uri": "https://localhost:8080/",
          "height": 0
        },
        "id": "QbDUanDT7IuT",
        "outputId": "630d585f-137a-46c7-d397-d350887ef54b"
      },
      "id": "QbDUanDT7IuT",
      "execution_count": 96,
      "outputs": [
        {
          "output_type": "execute_result",
          "data": {
            "text/plain": [
              "[193.990005, 194.389999, 191.869995, 186.979996, 187.970001]"
            ]
          },
          "metadata": {},
          "execution_count": 96
        }
      ]
    },
    {
      "cell_type": "code",
      "source": [
        "y_train_try[-5:]"
      ],
      "metadata": {
        "colab": {
          "base_uri": "https://localhost:8080/"
        },
        "id": "o5zHVi7oF2Lz",
        "outputId": "929d3923-ccea-49ca-c137-929c232bdcb3"
      },
      "id": "o5zHVi7oF2Lz",
      "execution_count": 118,
      "outputs": [
        {
          "output_type": "execute_result",
          "data": {
            "text/plain": [
              "[1870.680054, 2008.719971, 2004.199951, 2049.669922, 2039.869995]"
            ]
          },
          "metadata": {},
          "execution_count": 118
        }
      ]
    },
    {
      "cell_type": "code",
      "source": [
        "#Scale the data\n",
        "scaler = MinMaxScaler(feature_range=(0,1))\n",
        "scaled_data=scaler.fit_transform(dataset)"
      ],
      "metadata": {
        "id": "m_-U1Amj2yhx"
      },
      "id": "m_-U1Amj2yhx",
      "execution_count": 97,
      "outputs": []
    },
    {
      "cell_type": "code",
      "source": [
        "n_period=60\n",
        "#training dataset\n",
        "train_data=scaled_data[0:train_data_len]\n",
        "x_train=[]\n",
        "y_train=[]\n",
        "\n",
        "for i in range(n_period, len(train_data)-5):\n",
        "    x_train.append(train_data[i-n_period:i,0])\n",
        "    y_train.append(train_data[i+4,0])\n",
        "    \n"
      ],
      "metadata": {
        "id": "esluhM332ykn"
      },
      "id": "esluhM332ykn",
      "execution_count": 98,
      "outputs": []
    },
    {
      "cell_type": "code",
      "source": [
        "x_train[0:2]"
      ],
      "metadata": {
        "colab": {
          "base_uri": "https://localhost:8080/",
          "height": 0
        },
        "id": "_mTI-Xs73H2C",
        "outputId": "14b701bc-daa4-40bf-d00e-d5c5da8b984f"
      },
      "id": "_mTI-Xs73H2C",
      "execution_count": 99,
      "outputs": [
        {
          "output_type": "execute_result",
          "data": {
            "text/plain": [
              "[array([0.0008719 , 0.00044439, 0.00047251, 0.00187879, 0.0007397 ,\n",
              "        0.00095908, 0.00083533, 0.        , 0.00070033, 0.0016116 ,\n",
              "        0.00379977, 0.00520886, 0.00421884, 0.00285756, 0.00311351,\n",
              "        0.00333851, 0.00489105, 0.00546762, 0.00456197, 0.00520605,\n",
              "        0.00099284, 0.00162847, 0.00330476, 0.00202786, 0.00232318,\n",
              "        0.002686  , 0.00254537, 0.00270287, 0.00440447, 0.00432291,\n",
              "        0.00240193, 0.00112502, 0.00184785, 0.00178035, 0.00130784,\n",
              "        0.00083252, 0.00090002, 0.00073127, 0.00221349, 0.00105753,\n",
              "        0.00115596, 0.00094784, 0.00121784, 0.00145128, 0.00220505,\n",
              "        0.00329351, 0.00235974, 0.00209817, 0.00243568, 0.00178035,\n",
              "        0.00239068, 0.00256506, 0.00269725, 0.0046126 , 0.00444385,\n",
              "        0.00463229, 0.0053748 , 0.00757704, 0.00829987, 0.00709609]),\n",
              " array([0.00044439, 0.00047251, 0.00187879, 0.0007397 , 0.00095908,\n",
              "        0.00083533, 0.        , 0.00070033, 0.0016116 , 0.00379977,\n",
              "        0.00520886, 0.00421884, 0.00285756, 0.00311351, 0.00333851,\n",
              "        0.00489105, 0.00546762, 0.00456197, 0.00520605, 0.00099284,\n",
              "        0.00162847, 0.00330476, 0.00202786, 0.00232318, 0.002686  ,\n",
              "        0.00254537, 0.00270287, 0.00440447, 0.00432291, 0.00240193,\n",
              "        0.00112502, 0.00184785, 0.00178035, 0.00130784, 0.00083252,\n",
              "        0.00090002, 0.00073127, 0.00221349, 0.00105753, 0.00115596,\n",
              "        0.00094784, 0.00121784, 0.00145128, 0.00220505, 0.00329351,\n",
              "        0.00235974, 0.00209817, 0.00243568, 0.00178035, 0.00239068,\n",
              "        0.00256506, 0.00269725, 0.0046126 , 0.00444385, 0.00463229,\n",
              "        0.0053748 , 0.00757704, 0.00829987, 0.00709609, 0.00806642])]"
            ]
          },
          "metadata": {},
          "execution_count": 99
        }
      ]
    },
    {
      "cell_type": "code",
      "source": [
        "y_train[:1]"
      ],
      "metadata": {
        "colab": {
          "base_uri": "https://localhost:8080/",
          "height": 0
        },
        "id": "B3AZIV1Q3H4-",
        "outputId": "66cb3358-05be-4346-c20a-2c55446812ba"
      },
      "id": "B3AZIV1Q3H4-",
      "execution_count": 100,
      "outputs": [
        {
          "output_type": "execute_result",
          "data": {
            "text/plain": [
              "[0.005079486429803687]"
            ]
          },
          "metadata": {},
          "execution_count": 100
        }
      ]
    },
    {
      "cell_type": "code",
      "source": [
        "#Convert numpy array\n",
        "x_train, y_train=np.array(x_train), np.array(y_train)"
      ],
      "metadata": {
        "id": "N-sq7ZqT3H8s"
      },
      "id": "N-sq7ZqT3H8s",
      "execution_count": 101,
      "outputs": []
    },
    {
      "cell_type": "code",
      "source": [
        "x_train.shape"
      ],
      "metadata": {
        "colab": {
          "base_uri": "https://localhost:8080/",
          "height": 0
        },
        "id": "G97NKiLj3f6q",
        "outputId": "de4d4b1f-ae9b-4c42-9510-a189678bdfe1"
      },
      "id": "G97NKiLj3f6q",
      "execution_count": 102,
      "outputs": [
        {
          "output_type": "execute_result",
          "data": {
            "text/plain": [
              "(1971, 60)"
            ]
          },
          "metadata": {},
          "execution_count": 102
        }
      ]
    },
    {
      "cell_type": "code",
      "source": [
        "x_train=np.reshape(x_train, (x_train.shape[0], x_train.shape[1],1))\n",
        "x_train.shape"
      ],
      "metadata": {
        "colab": {
          "base_uri": "https://localhost:8080/",
          "height": 0
        },
        "id": "DOwPGI2B3f9e",
        "outputId": "ddf06b71-5a64-48c7-c559-a46fb14280d2"
      },
      "id": "DOwPGI2B3f9e",
      "execution_count": 103,
      "outputs": [
        {
          "output_type": "execute_result",
          "data": {
            "text/plain": [
              "(1971, 60, 1)"
            ]
          },
          "metadata": {},
          "execution_count": 103
        }
      ]
    },
    {
      "cell_type": "code",
      "source": [
        "y_train.shape"
      ],
      "metadata": {
        "colab": {
          "base_uri": "https://localhost:8080/",
          "height": 0
        },
        "id": "zbux2nn58uI1",
        "outputId": "c4c5a34f-fe10-425e-a7cf-75c1f2f3c883"
      },
      "id": "zbux2nn58uI1",
      "execution_count": 104,
      "outputs": [
        {
          "output_type": "execute_result",
          "data": {
            "text/plain": [
              "(1971,)"
            ]
          },
          "metadata": {},
          "execution_count": 104
        }
      ]
    },
    {
      "cell_type": "code",
      "source": [
        "#Build the LSTM model\n",
        "model=Sequential()\n",
        "model.add(LSTM(50,return_sequences=True, input_shape=(x_train.shape[1],1)))\n",
        "model.add(LSTM(50, return_sequences=False))\n",
        "model.add(Dense(25))\n",
        "model.add(Dense(1))\n",
        "          "
      ],
      "metadata": {
        "id": "8RKPhRvb3gA2"
      },
      "id": "8RKPhRvb3gA2",
      "execution_count": 105,
      "outputs": []
    },
    {
      "cell_type": "code",
      "source": [
        "model.compile(optimizer='adam', loss='mean_squared_error')"
      ],
      "metadata": {
        "id": "il5JG0Vr3gDJ"
      },
      "id": "il5JG0Vr3gDJ",
      "execution_count": 106,
      "outputs": []
    },
    {
      "cell_type": "code",
      "source": [
        "model.fit(x_train,y_train, batch_size=1, epochs=3)"
      ],
      "metadata": {
        "colab": {
          "base_uri": "https://localhost:8080/",
          "height": 0
        },
        "id": "RmTN3XYG3lGa",
        "outputId": "f03d08dd-7cc5-4e2e-c927-32b1b714faf8"
      },
      "id": "RmTN3XYG3lGa",
      "execution_count": 107,
      "outputs": [
        {
          "output_type": "stream",
          "name": "stdout",
          "text": [
            "Epoch 1/3\n",
            "1971/1971 [==============================] - 18s 7ms/step - loss: 7.4483e-04\n",
            "Epoch 2/3\n",
            "1971/1971 [==============================] - 14s 7ms/step - loss: 3.9288e-04\n",
            "Epoch 3/3\n",
            "1971/1971 [==============================] - 14s 7ms/step - loss: 3.3444e-04\n"
          ]
        },
        {
          "output_type": "execute_result",
          "data": {
            "text/plain": [
              "<keras.callbacks.History at 0x7fe66e2d2d90>"
            ]
          },
          "metadata": {},
          "execution_count": 107
        }
      ]
    },
    {
      "cell_type": "code",
      "source": [
        "#Test\n",
        "test_data=scaled_data[train_data_len-60:,:]\n",
        "x_test=[]\n",
        "y_test=dataset[train_data_len+4:,:]\n",
        "\n",
        "for i in range(60, len(test_data)-4):\n",
        "    x_test.append(test_data[i-60:i,0])\n",
        "    \n",
        "               \n",
        "x_test=np.array(x_test)\n",
        "x_test=np.reshape(x_test, (x_test.shape[0], x_test.shape[1], 1))"
      ],
      "metadata": {
        "id": "CY4p3vBD3lJu"
      },
      "id": "CY4p3vBD3lJu",
      "execution_count": 108,
      "outputs": []
    },
    {
      "cell_type": "code",
      "source": [
        "x_test.shape"
      ],
      "metadata": {
        "colab": {
          "base_uri": "https://localhost:8080/",
          "height": 0
        },
        "id": "5cU2RpQf3lMm",
        "outputId": "41d7b92a-69c8-49d3-98ad-420944c72186"
      },
      "id": "5cU2RpQf3lMm",
      "execution_count": 109,
      "outputs": [
        {
          "output_type": "execute_result",
          "data": {
            "text/plain": [
              "(504, 60, 1)"
            ]
          },
          "metadata": {},
          "execution_count": 109
        }
      ]
    },
    {
      "cell_type": "code",
      "source": [
        "y_test.shape"
      ],
      "metadata": {
        "colab": {
          "base_uri": "https://localhost:8080/",
          "height": 0
        },
        "id": "Wsw1MdRM6AuC",
        "outputId": "e72d7aac-cdfd-45da-dc1c-6e605cfa8ade"
      },
      "id": "Wsw1MdRM6AuC",
      "execution_count": 110,
      "outputs": [
        {
          "output_type": "execute_result",
          "data": {
            "text/plain": [
              "(504, 1)"
            ]
          },
          "metadata": {},
          "execution_count": 110
        }
      ]
    },
    {
      "cell_type": "code",
      "source": [
        "predictions=model.predict(x_test)"
      ],
      "metadata": {
        "id": "nHQntqre3gHT"
      },
      "id": "nHQntqre3gHT",
      "execution_count": 111,
      "outputs": []
    },
    {
      "cell_type": "code",
      "source": [
        "predictions=scaler.inverse_transform(predictions)"
      ],
      "metadata": {
        "id": "ZIfhQkLA3scS"
      },
      "id": "ZIfhQkLA3scS",
      "execution_count": 112,
      "outputs": []
    },
    {
      "cell_type": "code",
      "source": [
        "predictions.shape"
      ],
      "metadata": {
        "colab": {
          "base_uri": "https://localhost:8080/",
          "height": 0
        },
        "id": "xwKuxE-F3sfV",
        "outputId": "5b4c4bac-af96-4dee-e64a-10cc12401688"
      },
      "id": "xwKuxE-F3sfV",
      "execution_count": 113,
      "outputs": [
        {
          "output_type": "execute_result",
          "data": {
            "text/plain": [
              "(504, 1)"
            ]
          },
          "metadata": {},
          "execution_count": 113
        }
      ]
    },
    {
      "cell_type": "code",
      "source": [
        "#RMSE\n",
        "rmse=np.sqrt(np.mean(predictions-y_test)**2)\n",
        "rmse"
      ],
      "metadata": {
        "colab": {
          "base_uri": "https://localhost:8080/",
          "height": 0
        },
        "id": "EOOiZinD3sil",
        "outputId": "ed02adc1-f509-45f0-a3a5-1678f5a193ec"
      },
      "id": "EOOiZinD3sil",
      "execution_count": 114,
      "outputs": [
        {
          "output_type": "execute_result",
          "data": {
            "text/plain": [
              "64.8407156563275"
            ]
          },
          "metadata": {},
          "execution_count": 114
        }
      ]
    },
    {
      "cell_type": "code",
      "source": [
        "#plot the result\n",
        "train=data[:train_data_len]\n",
        "valid=data[train_data_len+4:]\n",
        "valid=valid.assign(Predictions=predictions)\n",
        "plt.figure(figsize=(12,8))\n",
        "plt.title('Model')\n",
        "plt.xlabel('Date')\n",
        "plt.ylabel('Stock Price ($)')\n",
        "plt.plot(train['Close'], lw=1)\n",
        "plt.plot(valid[['Close','Predictions']], lw=1)\n",
        "plt.legend(['Train','Validation', 'Prediction'],loc='lower right')\n",
        "plt.show()"
      ],
      "metadata": {
        "colab": {
          "base_uri": "https://localhost:8080/",
          "height": 513
        },
        "id": "J-t4R1SY30Ts",
        "outputId": "9a217a9a-a78c-4d4a-bac4-990de53e563b"
      },
      "id": "J-t4R1SY30Ts",
      "execution_count": 61,
      "outputs": [
        {
          "output_type": "display_data",
          "data": {
            "text/plain": [
              "<Figure size 864x576 with 1 Axes>"
            ],
            "image/png": "[encoded data removed]"
          },
          "metadata": {
            "needs_background": "light"
          }
        }
      ]
    },
    {
      "cell_type": "code",
      "source": [
        "valid"
      ],
      "metadata": {
        "colab": {
          "base_uri": "https://localhost:8080/",
          "height": 424
        },
        "id": "BfnuWwf832wi",
        "outputId": "7a32bb1f-c550-4353-9011-d879815ee2bc"
      },
      "id": "BfnuWwf832wi",
      "execution_count": 62,
      "outputs": [
        {
          "output_type": "execute_result",
          "data": {
            "text/plain": [
              "            Close  Predictions\n",
              "2040  2160.000000  1952.062622\n",
              "2041  2149.870117  1971.237671\n",
              "2042  2134.870117  1990.561401\n",
              "2043  2155.669922  2012.545898\n",
              "2044  2170.219971  2035.158325\n",
              "...           ...          ...\n",
              "2539  2776.909912  2808.750977\n",
              "2540  3152.790039  2785.337158\n",
              "2541  3158.709961  2778.350586\n",
              "2542  3228.270020  2782.234131\n",
              "2543  3223.790039  2790.310791\n",
              "\n",
              "[504 rows x 2 columns]"
            ],
            "text/html": [
              "\n",
              "  <div id=\"df-13ddf351-a5dd-4f43-bbd2-d28832a96d33\">\n",
              "    <div class=\"colab-df-container\">\n",
              "      <div>\n",
              "<style scoped>\n",
              "    .dataframe tbody tr th:only-of-type {\n",
              "        vertical-align: middle;\n",
              "    }\n",
              "\n",
              "    .dataframe tbody tr th {\n",
              "        vertical-align: top;\n",
              "    }\n",
              "\n",
              "    .dataframe thead th {\n",
              "        text-align: right;\n",
              "    }\n",
              "</style>\n",
              "<table border=\"1\" class=\"dataframe\">\n",
              "  <thead>\n",
              "    <tr style=\"text-align: right;\">\n",
              "      <th></th>\n",
              "      <th>Close</th>\n",
              "      <th>Predictions</th>\n",
              "    </tr>\n",
              "  </thead>\n",
              "  <tbody>\n",
              "    <tr>\n",
              "      <th>2040</th>\n",
              "      <td>2160.000000</td>\n",
              "      <td>1952.062622</td>\n",
              "    </tr>\n",
              "    <tr>\n",
              "      <th>2041</th>\n",
              "      <td>2149.870117</td>\n",
              "      <td>1971.237671</td>\n",
              "    </tr>\n",
              "    <tr>\n",
              "      <th>2042</th>\n",
              "      <td>2134.870117</td>\n",
              "      <td>1990.561401</td>\n",
              "    </tr>\n",
              "    <tr>\n",
              "      <th>2043</th>\n",
              "      <td>2155.669922</td>\n",
              "      <td>2012.545898</td>\n",
              "    </tr>\n",
              "    <tr>\n",
              "      <th>2044</th>\n",
              "      <td>2170.219971</td>\n",
              "      <td>2035.158325</td>\n",
              "    </tr>\n",
              "    <tr>\n",
              "      <th>...</th>\n",
              "      <td>...</td>\n",
              "      <td>...</td>\n",
              "    </tr>\n",
              "    <tr>\n",
              "      <th>2539</th>\n",
              "      <td>2776.909912</td>\n",
              "      <td>2808.750977</td>\n",
              "    </tr>\n",
              "    <tr>\n",
              "      <th>2540</th>\n",
              "      <td>3152.790039</td>\n",
              "      <td>2785.337158</td>\n",
              "    </tr>\n",
              "    <tr>\n",
              "      <th>2541</th>\n",
              "      <td>3158.709961</td>\n",
              "      <td>2778.350586</td>\n",
              "    </tr>\n",
              "    <tr>\n",
              "      <th>2542</th>\n",
              "      <td>3228.270020</td>\n",
              "      <td>2782.234131</td>\n",
              "    </tr>\n",
              "    <tr>\n",
              "      <th>2543</th>\n",
              "      <td>3223.790039</td>\n",
              "      <td>2790.310791</td>\n",
              "    </tr>\n",
              "  </tbody>\n",
              "</table>\n",
              "<p>504 rows × 2 columns</p>\n",
              "</div>\n",
              "      <button class=\"colab-df-convert\" onclick=\"convertToInteractive('df-13ddf351-a5dd-4f43-bbd2-d28832a96d33')\"\n",
              "              title=\"Convert this dataframe to an interactive table.\"\n",
              "              style=\"display:none;\">\n",
              "        \n",
              "  <svg xmlns=\"http://www.w3.org/2000/svg\" height=\"24px\"viewBox=\"0 0 24 24\"\n",
              "       width=\"24px\">\n",
              "    <path d=\"M0 0h24v24H0V0z\" fill=\"none\"/>\n",
              "    <path d=\"M18.56 5.44l.94 2.06.94-2.06 2.06-.94-2.06-.94-.94-2.06-.94 2.06-2.06.94zm-11 1L8.5 8.5l.94-2.06 2.06-.94-2.06-.94L8.5 2.5l-.94 2.06-2.06.94zm10 10l.94 2.06.94-2.06 2.06-.94-2.06-.94-.94-2.06-.94 2.06-2.06.94z\"/><path d=\"M17.41 7.96l-1.37-1.37c-.4-.4-.92-.59-1.43-.59-.52 0-1.04.2-1.43.59L10.3 9.45l-7.72 7.72c-.78.78-.78 2.05 0 2.83L4 21.41c.39.39.9.59 1.41.59.51 0 1.02-.2 1.41-.59l7.78-7.78 2.81-2.81c.8-.78.8-2.07 0-2.86zM5.41 20L4 18.59l7.72-7.72 1.47 1.35L5.41 20z\"/>\n",
              "  </svg>\n",
              "      </button>\n",
              "      \n",
              "  <style>\n",
              "    .colab-df-container {\n",
              "      display:flex;\n",
              "      flex-wrap:wrap;\n",
              "      gap: 12px;\n",
              "    }\n",
              "\n",
              "    .colab-df-convert {\n",
              "      background-color: #E8F0FE;\n",
              "      border: none;\n",
              "      border-radius: 50%;\n",
              "      cursor: pointer;\n",
              "      display: none;\n",
              "      fill: #1967D2;\n",
              "      height: 32px;\n",
              "      padding: 0 0 0 0;\n",
              "      width: 32px;\n",
              "    }\n",
              "\n",
              "    .colab-df-convert:hover {\n",
              "      background-color: #E2EBFA;\n",
              "      box-shadow: 0px 1px 2px rgba(60, 64, 67, 0.3), 0px 1px 3px 1px rgba(60, 64, 67, 0.15);\n",
              "      fill: #174EA6;\n",
              "    }\n",
              "\n",
              "    [theme=dark] .colab-df-convert {\n",
              "      background-color: #3B4455;\n",
              "      fill: #D2E3FC;\n",
              "    }\n",
              "\n",
              "    [theme=dark] .colab-df-convert:hover {\n",
              "      background-color: #434B5C;\n",
              "      box-shadow: 0px 1px 3px 1px rgba(0, 0, 0, 0.15);\n",
              "      filter: drop-shadow(0px 1px 2px rgba(0, 0, 0, 0.3));\n",
              "      fill: #FFFFFF;\n",
              "    }\n",
              "  </style>\n",
              "\n",
              "      <script>\n",
              "        const buttonEl =\n",
              "          document.querySelector('#df-13ddf351-a5dd-4f43-bbd2-d28832a96d33 button.colab-df-convert');\n",
              "        buttonEl.style.display =\n",
              "          google.colab.kernel.accessAllowed ? 'block' : 'none';\n",
              "\n",
              "        async function convertToInteractive(key) {\n",
              "          const element = document.querySelector('#df-13ddf351-a5dd-4f43-bbd2-d28832a96d33');\n",
              "          const dataTable =\n",
              "            await google.colab.kernel.invokeFunction('convertToInteractive',\n",
              "                                                     [key], {});\n",
              "          if (!dataTable) return;\n",
              "\n",
              "          const docLinkHtml = 'Like what you see? Visit the ' +\n",
              "            '<a target=\"_blank\" href=https://colab.research.google.com/notebooks/data_table.ipynb>data table notebook</a>'\n",
              "            + ' to learn more about interactive tables.';\n",
              "          element.innerHTML = '';\n",
              "          dataTable['output_type'] = 'display_data';\n",
              "          await google.colab.output.renderOutput(dataTable, element);\n",
              "          const docLink = document.createElement('div');\n",
              "          docLink.innerHTML = docLinkHtml;\n",
              "          element.appendChild(docLink);\n",
              "        }\n",
              "      </script>\n",
              "    </div>\n",
              "  </div>\n",
              "  "
            ]
          },
          "metadata": {},
          "execution_count": 62
        }
      ]
    },
    {
      "cell_type": "code",
      "source": [
        "df[:train_data_len]"
      ],
      "metadata": {
        "colab": {
          "base_uri": "https://localhost:8080/",
          "height": 424
        },
        "id": "wut3B12iEbvh",
        "outputId": "5f2d2440-7a81-4954-e17a-19a312972c0a"
      },
      "id": "wut3B12iEbvh",
      "execution_count": 121,
      "outputs": [
        {
          "output_type": "execute_result",
          "data": {
            "text/plain": [
              "            Date         Open         High          Low        Close  \\\n",
              "0     2012-01-03   175.889999   179.479996   175.550003   179.029999   \n",
              "1     2012-01-04   179.210007   180.500000   176.070007   177.509995   \n",
              "2     2012-01-05   175.940002   178.250000   174.050003   177.610001   \n",
              "3     2012-01-06   178.070007   184.649994   177.500000   182.610001   \n",
              "4     2012-01-09   182.759995   184.369995   177.000000   178.559998   \n",
              "...          ...          ...          ...          ...          ...   \n",
              "2031  2020-01-30  1858.000000  1872.869995  1850.609985  1870.680054   \n",
              "2032  2020-01-31  2051.469971  2055.719971  2002.270020  2008.719971   \n",
              "2033  2020-02-03  2010.599976  2048.500000  2000.250000  2004.199951   \n",
              "2034  2020-02-04  2029.880005  2059.800049  2015.369995  2049.669922   \n",
              "2035  2020-02-05  2071.020020  2071.020020  2032.000000  2039.869995   \n",
              "\n",
              "        Adj Close    Volume  \n",
              "0      179.029999   5110800  \n",
              "1      177.509995   4205200  \n",
              "2      177.610001   3809100  \n",
              "3      182.610001   7008400  \n",
              "4      178.559998   5056900  \n",
              "...           ...       ...  \n",
              "2031  1870.680054   6327400  \n",
              "2032  2008.719971  15567300  \n",
              "2033  2004.199951   5891700  \n",
              "2034  2049.669922   5289300  \n",
              "2035  2039.869995   4376200  \n",
              "\n",
              "[2036 rows x 7 columns]"
            ],
            "text/html": [
              "\n",
              "  <div id=\"df-82232964-2f69-4f9e-a7b3-f114ea0b8f5b\">\n",
              "    <div class=\"colab-df-container\">\n",
              "      <div>\n",
              "<style scoped>\n",
              "    .dataframe tbody tr th:only-of-type {\n",
              "        vertical-align: middle;\n",
              "    }\n",
              "\n",
              "    .dataframe tbody tr th {\n",
              "        vertical-align: top;\n",
              "    }\n",
              "\n",
              "    .dataframe thead th {\n",
              "        text-align: right;\n",
              "    }\n",
              "</style>\n",
              "<table border=\"1\" class=\"dataframe\">\n",
              "  <thead>\n",
              "    <tr style=\"text-align: right;\">\n",
              "      <th></th>\n",
              "      <th>Date</th>\n",
              "      <th>Open</th>\n",
              "      <th>High</th>\n",
              "      <th>Low</th>\n",
              "      <th>Close</th>\n",
              "      <th>Adj Close</th>\n",
              "      <th>Volume</th>\n",
              "    </tr>\n",
              "  </thead>\n",
              "  <tbody>\n",
              "    <tr>\n",
              "      <th>0</th>\n",
              "      <td>2012-01-03</td>\n",
              "      <td>175.889999</td>\n",
              "      <td>179.479996</td>\n",
              "      <td>175.550003</td>\n",
              "      <td>179.029999</td>\n",
              "      <td>179.029999</td>\n",
              "      <td>5110800</td>\n",
              "    </tr>\n",
              "    <tr>\n",
              "      <th>1</th>\n",
              "      <td>2012-01-04</td>\n",
              "      <td>179.210007</td>\n",
              "      <td>180.500000</td>\n",
              "      <td>176.070007</td>\n",
              "      <td>177.509995</td>\n",
              "      <td>177.509995</td>\n",
              "      <td>4205200</td>\n",
              "    </tr>\n",
              "    <tr>\n",
              "      <th>2</th>\n",
              "      <td>2012-01-05</td>\n",
              "      <td>175.940002</td>\n",
              "      <td>178.250000</td>\n",
              "      <td>174.050003</td>\n",
              "      <td>177.610001</td>\n",
              "      <td>177.610001</td>\n",
              "      <td>3809100</td>\n",
              "    </tr>\n",
              "    <tr>\n",
              "      <th>3</th>\n",
              "      <td>2012-01-06</td>\n",
              "      <td>178.070007</td>\n",
              "      <td>184.649994</td>\n",
              "      <td>177.500000</td>\n",
              "      <td>182.610001</td>\n",
              "      <td>182.610001</td>\n",
              "      <td>7008400</td>\n",
              "    </tr>\n",
              "    <tr>\n",
              "      <th>4</th>\n",
              "      <td>2012-01-09</td>\n",
              "      <td>182.759995</td>\n",
              "      <td>184.369995</td>\n",
              "      <td>177.000000</td>\n",
              "      <td>178.559998</td>\n",
              "      <td>178.559998</td>\n",
              "      <td>5056900</td>\n",
              "    </tr>\n",
              "    <tr>\n",
              "      <th>...</th>\n",
              "      <td>...</td>\n",
              "      <td>...</td>\n",
              "      <td>...</td>\n",
              "      <td>...</td>\n",
              "      <td>...</td>\n",
              "      <td>...</td>\n",
              "      <td>...</td>\n",
              "    </tr>\n",
              "    <tr>\n",
              "      <th>2031</th>\n",
              "      <td>2020-01-30</td>\n",
              "      <td>1858.000000</td>\n",
              "      <td>1872.869995</td>\n",
              "      <td>1850.609985</td>\n",
              "      <td>1870.680054</td>\n",
              "      <td>1870.680054</td>\n",
              "      <td>6327400</td>\n",
              "    </tr>\n",
              "    <tr>\n",
              "      <th>2032</th>\n",
              "      <td>2020-01-31</td>\n",
              "      <td>2051.469971</td>\n",
              "      <td>2055.719971</td>\n",
              "      <td>2002.270020</td>\n",
              "      <td>2008.719971</td>\n",
              "      <td>2008.719971</td>\n",
              "      <td>15567300</td>\n",
              "    </tr>\n",
              "    <tr>\n",
              "      <th>2033</th>\n",
              "      <td>2020-02-03</td>\n",
              "      <td>2010.599976</td>\n",
              "      <td>2048.500000</td>\n",
              "      <td>2000.250000</td>\n",
              "      <td>2004.199951</td>\n",
              "      <td>2004.199951</td>\n",
              "      <td>5891700</td>\n",
              "    </tr>\n",
              "    <tr>\n",
              "      <th>2034</th>\n",
              "      <td>2020-02-04</td>\n",
              "      <td>2029.880005</td>\n",
              "      <td>2059.800049</td>\n",
              "      <td>2015.369995</td>\n",
              "      <td>2049.669922</td>\n",
              "      <td>2049.669922</td>\n",
              "      <td>5289300</td>\n",
              "    </tr>\n",
              "    <tr>\n",
              "      <th>2035</th>\n",
              "      <td>2020-02-05</td>\n",
              "      <td>2071.020020</td>\n",
              "      <td>2071.020020</td>\n",
              "      <td>2032.000000</td>\n",
              "      <td>2039.869995</td>\n",
              "      <td>2039.869995</td>\n",
              "      <td>4376200</td>\n",
              "    </tr>\n",
              "  </tbody>\n",
              "</table>\n",
              "<p>2036 rows × 7 columns</p>\n",
              "</div>\n",
              "      <button class=\"colab-df-convert\" onclick=\"convertToInteractive('df-82232964-2f69-4f9e-a7b3-f114ea0b8f5b')\"\n",
              "              title=\"Convert this dataframe to an interactive table.\"\n",
              "              style=\"display:none;\">\n",
              "        \n",
              "  <svg xmlns=\"http://www.w3.org/2000/svg\" height=\"24px\"viewBox=\"0 0 24 24\"\n",
              "       width=\"24px\">\n",
              "    <path d=\"M0 0h24v24H0V0z\" fill=\"none\"/>\n",
              "    <path d=\"M18.56 5.44l.94 2.06.94-2.06 2.06-.94-2.06-.94-.94-2.06-.94 2.06-2.06.94zm-11 1L8.5 8.5l.94-2.06 2.06-.94-2.06-.94L8.5 2.5l-.94 2.06-2.06.94zm10 10l.94 2.06.94-2.06 2.06-.94-2.06-.94-.94-2.06-.94 2.06-2.06.94z\"/><path d=\"M17.41 7.96l-1.37-1.37c-.4-.4-.92-.59-1.43-.59-.52 0-1.04.2-1.43.59L10.3 9.45l-7.72 7.72c-.78.78-.78 2.05 0 2.83L4 21.41c.39.39.9.59 1.41.59.51 0 1.02-.2 1.41-.59l7.78-7.78 2.81-2.81c.8-.78.8-2.07 0-2.86zM5.41 20L4 18.59l7.72-7.72 1.47 1.35L5.41 20z\"/>\n",
              "  </svg>\n",
              "      </button>\n",
              "      \n",
              "  <style>\n",
              "    .colab-df-container {\n",
              "      display:flex;\n",
              "      flex-wrap:wrap;\n",
              "      gap: 12px;\n",
              "    }\n",
              "\n",
              "    .colab-df-convert {\n",
              "      background-color: #E8F0FE;\n",
              "      border: none;\n",
              "      border-radius: 50%;\n",
              "      cursor: pointer;\n",
              "      display: none;\n",
              "      fill: #1967D2;\n",
              "      height: 32px;\n",
              "      padding: 0 0 0 0;\n",
              "      width: 32px;\n",
              "    }\n",
              "\n",
              "    .colab-df-convert:hover {\n",
              "      background-color: #E2EBFA;\n",
              "      box-shadow: 0px 1px 2px rgba(60, 64, 67, 0.3), 0px 1px 3px 1px rgba(60, 64, 67, 0.15);\n",
              "      fill: #174EA6;\n",
              "    }\n",
              "\n",
              "    [theme=dark] .colab-df-convert {\n",
              "      background-color: #3B4455;\n",
              "      fill: #D2E3FC;\n",
              "    }\n",
              "\n",
              "    [theme=dark] .colab-df-convert:hover {\n",
              "      background-color: #434B5C;\n",
              "      box-shadow: 0px 1px 3px 1px rgba(0, 0, 0, 0.15);\n",
              "      filter: drop-shadow(0px 1px 2px rgba(0, 0, 0, 0.3));\n",
              "      fill: #FFFFFF;\n",
              "    }\n",
              "  </style>\n",
              "\n",
              "      <script>\n",
              "        const buttonEl =\n",
              "          document.querySelector('#df-82232964-2f69-4f9e-a7b3-f114ea0b8f5b button.colab-df-convert');\n",
              "        buttonEl.style.display =\n",
              "          google.colab.kernel.accessAllowed ? 'block' : 'none';\n",
              "\n",
              "        async function convertToInteractive(key) {\n",
              "          const element = document.querySelector('#df-82232964-2f69-4f9e-a7b3-f114ea0b8f5b');\n",
              "          const dataTable =\n",
              "            await google.colab.kernel.invokeFunction('convertToInteractive',\n",
              "                                                     [key], {});\n",
              "          if (!dataTable) return;\n",
              "\n",
              "          const docLinkHtml = 'Like what you see? Visit the ' +\n",
              "            '<a target=\"_blank\" href=https://colab.research.google.com/notebooks/data_table.ipynb>data table notebook</a>'\n",
              "            + ' to learn more about interactive tables.';\n",
              "          element.innerHTML = '';\n",
              "          dataTable['output_type'] = 'display_data';\n",
              "          await google.colab.output.renderOutput(dataTable, element);\n",
              "          const docLink = document.createElement('div');\n",
              "          docLink.innerHTML = docLinkHtml;\n",
              "          element.appendChild(docLink);\n",
              "        }\n",
              "      </script>\n",
              "    </div>\n",
              "  </div>\n",
              "  "
            ]
          },
          "metadata": {},
          "execution_count": 121
        }
      ]
    },
    {
      "cell_type": "code",
      "source": [
        "valid.index[0]"
      ],
      "metadata": {
        "colab": {
          "base_uri": "https://localhost:8080/"
        },
        "id": "1eAMIXqwEbz-",
        "outputId": "b43664ba-27e6-429f-ebeb-051f56e4f852"
      },
      "id": "1eAMIXqwEbz-",
      "execution_count": 123,
      "outputs": [
        {
          "output_type": "execute_result",
          "data": {
            "text/plain": [
              "2040"
            ]
          },
          "metadata": {},
          "execution_count": 123
        }
      ]
    },
    {
      "cell_type": "code",
      "source": [
        "valid.index[-1]"
      ],
      "metadata": {
        "colab": {
          "base_uri": "https://localhost:8080/"
        },
        "id": "DQKq93ktLd7U",
        "outputId": "19c0cb3b-c4eb-4d1f-9f5b-71f748eb461b"
      },
      "id": "DQKq93ktLd7U",
      "execution_count": 126,
      "outputs": [
        {
          "output_type": "execute_result",
          "data": {
            "text/plain": [
              "2543"
            ]
          },
          "metadata": {},
          "execution_count": 126
        }
      ]
    },
    {
      "cell_type": "code",
      "source": [
        "start = valid.index[0]"
      ],
      "metadata": {
        "id": "sB4qo2PlEb16"
      },
      "id": "sB4qo2PlEb16",
      "execution_count": 132,
      "outputs": []
    },
    {
      "cell_type": "code",
      "source": [
        "profit = []\n",
        "for index in range(start,valid.index[-1]+1):\n",
        "  sum = 0\n",
        "  for _ in range(5):\n",
        "     sum += valid['Predictions'][index] - df['Close'][index-5]\n",
        "   \n",
        "  profit.append(sum)\n",
        "\n",
        "max(profit)\n"
      ],
      "metadata": {
        "colab": {
          "base_uri": "https://localhost:8080/"
        },
        "id": "qWNGy4pxMZnZ",
        "outputId": "982a1f11-735b-4b26-a12e-1d335e59f030"
      },
      "id": "qWNGy4pxMZnZ",
      "execution_count": 140,
      "outputs": [
        {
          "output_type": "execute_result",
          "data": {
            "text/plain": [
              "1101.4984148437497"
            ]
          },
          "metadata": {},
          "execution_count": 140
        }
      ]
    },
    {
      "cell_type": "code",
      "source": [
        "len(profit)"
      ],
      "metadata": {
        "colab": {
          "base_uri": "https://localhost:8080/"
        },
        "id": "3jqJ-ytFMmKW",
        "outputId": "0ceabbae-73ea-4c2f-fcc9-7d86aa4f676c"
      },
      "id": "3jqJ-ytFMmKW",
      "execution_count": 141,
      "outputs": [
        {
          "output_type": "execute_result",
          "data": {
            "text/plain": [
              "504"
            ]
          },
          "metadata": {},
          "execution_count": 141
        }
      ]
    },
    {
      "cell_type": "markdown",
      "source": [
        "# As we can say from above that the maximum profit for a 5 day period is $ 1101."
      ],
      "metadata": {
        "id": "gF42yZhENlmX"
      },
      "id": "gF42yZhENlmX"
    },
    {
      "cell_type": "code",
      "source": [
        ""
      ],
      "metadata": {
        "id": "XrMavh3tNjSc"
      },
      "id": "XrMavh3tNjSc",
      "execution_count": null,
      "outputs": []
    }
  ],
  "metadata": {
    "kernelspec": {
      "display_name": "Python 3 (ipykernel)",
      "language": "python",
      "name": "python3"
    },
    "language_info": {
      "codemirror_mode": {
        "name": "ipython",
        "version": 3
      },
      "file_extension": ".py",
      "mimetype": "text/x-python",
      "name": "python",
      "nbconvert_exporter": "python",
      "pygments_lexer": "ipython3",
      "version": "3.9.7"
    },
    "colab": {
      "name": "Session 3 - Stock Price Predict - LSTM _Mangesh.ipynb",
      "provenance": [],
      "collapsed_sections": [],
      "machine_shape": "hm"
    },
    "accelerator": "GPU"
  },
  "nbformat": 4,
  "nbformat_minor": 5
}