{
 "cells": [
  {
   "cell_type": "code",
   "execution_count": 217,
   "metadata": {
    "executionInfo": {
     "elapsed": 460,
     "status": "ok",
     "timestamp": 1648968654321,
     "user": {
      "displayName": "Shivang Shrivastav",
      "userId": "00987918723260281132"
     },
     "user_tz": -330
    },
    "id": "na_nPwijAdtC"
   },
   "outputs": [],
   "source": []
  },
  {
   "cell_type": "code",
   "execution_count": 218,
   "metadata": {
    "executionInfo": {
     "elapsed": 36,
     "status": "ok",
     "timestamp": 1648968655304,
     "user": {
      "displayName": "Shivang Shrivastav",
      "userId": "00987918723260281132"
     },
     "user_tz": -330
    },
    "id": "BxNlLgkKAzfC"
   },
   "outputs": [],
   "source": [
    "# from google.colab import drive\n",
    "# drive.mount('/content/drive')"
   ]
  },
  {
   "cell_type": "code",
   "execution_count": 219,
   "metadata": {
    "_cell_guid": "b1076dfc-b9ad-4769-8c92-a6c4dae69d19",
    "_uuid": "8f2839f25d086af736a60e9eeb907d3b93b6e0e5",
    "editable": false,
    "executionInfo": {
     "elapsed": 36,
     "status": "ok",
     "timestamp": 1648968655305,
     "user": {
      "displayName": "Shivang Shrivastav",
      "userId": "00987918723260281132"
     },
     "user_tz": -330
    },
    "id": "8MViffySeRuh"
   },
   "outputs": [],
   "source": [
    "\n",
    "import numpy as np # linear algebra\n",
    "import pandas as pd # data processing, CSV file I/O (e.g. pd.read_csv)\n"
   ]
  },
  {
   "cell_type": "code",
   "execution_count": 220,
   "metadata": {
    "editable": false,
    "executionInfo": {
     "elapsed": 36,
     "status": "ok",
     "timestamp": 1648968655306,
     "user": {
      "displayName": "Shivang Shrivastav",
      "userId": "00987918723260281132"
     },
     "user_tz": -330
    },
    "id": "sT79uBqEeRun"
   },
   "outputs": [],
   "source": [
    "import warnings\n",
    "warnings.filterwarnings('ignore')\n",
    "%config Completer.use_jedi = False # if autocompletion doesnot work in kaggle notebook | hit tab"
   ]
  },
  {
   "cell_type": "code",
   "execution_count": 221,
   "metadata": {
    "colab": {
     "base_uri": "https://localhost:8080/",
     "height": 424
    },
    "editable": false,
    "executionInfo": {
     "elapsed": 37,
     "status": "ok",
     "timestamp": 1648968655307,
     "user": {
      "displayName": "Shivang Shrivastav",
      "userId": "00987918723260281132"
     },
     "user_tz": -330
    },
    "id": "WDWIScsFeRuo",
    "outputId": "90ff9d3c-edbb-4cdb-c238-3b0491d12faa"
   },
   "outputs": [
    {
     "data": {
      "text/html": [
       "\n",
       "  <div id=\"df-628ca42e-ff7c-4922-b3b8-a4b4994f772a\">\n",
       "    <div class=\"colab-df-container\">\n",
       "      <div>\n",
       "<style scoped>\n",
       "    .dataframe tbody tr th:only-of-type {\n",
       "        vertical-align: middle;\n",
       "    }\n",
       "\n",
       "    .dataframe tbody tr th {\n",
       "        vertical-align: top;\n",
       "    }\n",
       "\n",
       "    .dataframe thead th {\n",
       "        text-align: right;\n",
       "    }\n",
       "</style>\n",
       "<table border=\"1\" class=\"dataframe\">\n",
       "  <thead>\n",
       "    <tr style=\"text-align: right;\">\n",
       "      <th></th>\n",
       "      <th>id</th>\n",
       "      <th>message</th>\n",
       "      <th>label</th>\n",
       "    </tr>\n",
       "  </thead>\n",
       "  <tbody>\n",
       "    <tr>\n",
       "      <th>0</th>\n",
       "      <td>5396</td>\n",
       "      <td>I made a purchase recently but I have decided ...</td>\n",
       "      <td>request_refund</td>\n",
       "    </tr>\n",
       "    <tr>\n",
       "      <th>1</th>\n",
       "      <td>2202</td>\n",
       "      <td>Cancel my transfer, please.</td>\n",
       "      <td>cancel_transfer</td>\n",
       "    </tr>\n",
       "    <tr>\n",
       "      <th>2</th>\n",
       "      <td>3768</td>\n",
       "      <td>How do I change my last name?</td>\n",
       "      <td>edit_personal_details</td>\n",
       "    </tr>\n",
       "    <tr>\n",
       "      <th>3</th>\n",
       "      <td>4967</td>\n",
       "      <td>A withdraw I tried to make at the ATM was decl...</td>\n",
       "      <td>declined_cash_withdrawal</td>\n",
       "    </tr>\n",
       "    <tr>\n",
       "      <th>4</th>\n",
       "      <td>5622</td>\n",
       "      <td>I tried to buy something online yesterday and ...</td>\n",
       "      <td>declined_transfer</td>\n",
       "    </tr>\n",
       "    <tr>\n",
       "      <th>...</th>\n",
       "      <td>...</td>\n",
       "      <td>...</td>\n",
       "      <td>...</td>\n",
       "    </tr>\n",
       "    <tr>\n",
       "      <th>10461</th>\n",
       "      <td>1982</td>\n",
       "      <td>My top-up hasn't gone through</td>\n",
       "      <td>pending_top_up</td>\n",
       "    </tr>\n",
       "    <tr>\n",
       "      <th>10462</th>\n",
       "      <td>2535</td>\n",
       "      <td>Why are you charging me fees for using my card?</td>\n",
       "      <td>card_payment_fee_charged</td>\n",
       "    </tr>\n",
       "    <tr>\n",
       "      <th>10463</th>\n",
       "      <td>1424</td>\n",
       "      <td>The transactions showing up are strange, I thi...</td>\n",
       "      <td>compromised_card</td>\n",
       "    </tr>\n",
       "    <tr>\n",
       "      <th>10464</th>\n",
       "      <td>987</td>\n",
       "      <td>Where can I pay with my debit or credit card?</td>\n",
       "      <td>card_acceptance</td>\n",
       "    </tr>\n",
       "    <tr>\n",
       "      <th>10465</th>\n",
       "      <td>348</td>\n",
       "      <td>Is there an exchange rate?</td>\n",
       "      <td>exchange_rate</td>\n",
       "    </tr>\n",
       "  </tbody>\n",
       "</table>\n",
       "<p>10466 rows × 3 columns</p>\n",
       "</div>\n",
       "      <button class=\"colab-df-convert\" onclick=\"convertToInteractive('df-628ca42e-ff7c-4922-b3b8-a4b4994f772a')\"\n",
       "              title=\"Convert this dataframe to an interactive table.\"\n",
       "              style=\"display:none;\">\n",
       "        \n",
       "  <svg xmlns=\"http://www.w3.org/2000/svg\" height=\"24px\"viewBox=\"0 0 24 24\"\n",
       "       width=\"24px\">\n",
       "    <path d=\"M0 0h24v24H0V0z\" fill=\"none\"/>\n",
       "    <path d=\"M18.56 5.44l.94 2.06.94-2.06 2.06-.94-2.06-.94-.94-2.06-.94 2.06-2.06.94zm-11 1L8.5 8.5l.94-2.06 2.06-.94-2.06-.94L8.5 2.5l-.94 2.06-2.06.94zm10 10l.94 2.06.94-2.06 2.06-.94-2.06-.94-.94-2.06-.94 2.06-2.06.94z\"/><path d=\"M17.41 7.96l-1.37-1.37c-.4-.4-.92-.59-1.43-.59-.52 0-1.04.2-1.43.59L10.3 9.45l-7.72 7.72c-.78.78-.78 2.05 0 2.83L4 21.41c.39.39.9.59 1.41.59.51 0 1.02-.2 1.41-.59l7.78-7.78 2.81-2.81c.8-.78.8-2.07 0-2.86zM5.41 20L4 18.59l7.72-7.72 1.47 1.35L5.41 20z\"/>\n",
       "  </svg>\n",
       "      </button>\n",
       "      \n",
       "  <style>\n",
       "    .colab-df-container {\n",
       "      display:flex;\n",
       "      flex-wrap:wrap;\n",
       "      gap: 12px;\n",
       "    }\n",
       "\n",
       "    .colab-df-convert {\n",
       "      background-color: #E8F0FE;\n",
       "      border: none;\n",
       "      border-radius: 50%;\n",
       "      cursor: pointer;\n",
       "      display: none;\n",
       "      fill: #1967D2;\n",
       "      height: 32px;\n",
       "      padding: 0 0 0 0;\n",
       "      width: 32px;\n",
       "    }\n",
       "\n",
       "    .colab-df-convert:hover {\n",
       "      background-color: #E2EBFA;\n",
       "      box-shadow: 0px 1px 2px rgba(60, 64, 67, 0.3), 0px 1px 3px 1px rgba(60, 64, 67, 0.15);\n",
       "      fill: #174EA6;\n",
       "    }\n",
       "\n",
       "    [theme=dark] .colab-df-convert {\n",
       "      background-color: #3B4455;\n",
       "      fill: #D2E3FC;\n",
       "    }\n",
       "\n",
       "    [theme=dark] .colab-df-convert:hover {\n",
       "      background-color: #434B5C;\n",
       "      box-shadow: 0px 1px 3px 1px rgba(0, 0, 0, 0.15);\n",
       "      filter: drop-shadow(0px 1px 2px rgba(0, 0, 0, 0.3));\n",
       "      fill: #FFFFFF;\n",
       "    }\n",
       "  </style>\n",
       "\n",
       "      <script>\n",
       "        const buttonEl =\n",
       "          document.querySelector('#df-628ca42e-ff7c-4922-b3b8-a4b4994f772a button.colab-df-convert');\n",
       "        buttonEl.style.display =\n",
       "          google.colab.kernel.accessAllowed ? 'block' : 'none';\n",
       "\n",
       "        async function convertToInteractive(key) {\n",
       "          const element = document.querySelector('#df-628ca42e-ff7c-4922-b3b8-a4b4994f772a');\n",
       "          const dataTable =\n",
       "            await google.colab.kernel.invokeFunction('convertToInteractive',\n",
       "                                                     [key], {});\n",
       "          if (!dataTable) return;\n",
       "\n",
       "          const docLinkHtml = 'Like what you see? Visit the ' +\n",
       "            '<a target=\"_blank\" href=https://colab.research.google.com/notebooks/data_table.ipynb>data table notebook</a>'\n",
       "            + ' to learn more about interactive tables.';\n",
       "          element.innerHTML = '';\n",
       "          dataTable['output_type'] = 'display_data';\n",
       "          await google.colab.output.renderOutput(dataTable, element);\n",
       "          const docLink = document.createElement('div');\n",
       "          docLink.innerHTML = docLinkHtml;\n",
       "          element.appendChild(docLink);\n",
       "        }\n",
       "      </script>\n",
       "    </div>\n",
       "  </div>\n",
       "  "
      ],
      "text/plain": [
       "         id                                            message  \\\n",
       "0      5396  I made a purchase recently but I have decided ...   \n",
       "1      2202                        Cancel my transfer, please.   \n",
       "2      3768                      How do I change my last name?   \n",
       "3      4967  A withdraw I tried to make at the ATM was decl...   \n",
       "4      5622  I tried to buy something online yesterday and ...   \n",
       "...     ...                                                ...   \n",
       "10461  1982                      My top-up hasn't gone through   \n",
       "10462  2535    Why are you charging me fees for using my card?   \n",
       "10463  1424  The transactions showing up are strange, I thi...   \n",
       "10464   987      Where can I pay with my debit or credit card?   \n",
       "10465   348                         Is there an exchange rate?   \n",
       "\n",
       "                          label  \n",
       "0                request_refund  \n",
       "1               cancel_transfer  \n",
       "2         edit_personal_details  \n",
       "3      declined_cash_withdrawal  \n",
       "4             declined_transfer  \n",
       "...                         ...  \n",
       "10461            pending_top_up  \n",
       "10462  card_payment_fee_charged  \n",
       "10463          compromised_card  \n",
       "10464           card_acceptance  \n",
       "10465             exchange_rate  \n",
       "\n",
       "[10466 rows x 3 columns]"
      ]
     },
     "execution_count": 221,
     "metadata": {},
     "output_type": "execute_result"
    }
   ],
   "source": [
    "df_full = pd.read_csv('/content/drive/MyDrive/NLP - Project/April 22/public_data.csv')\n",
    "\n",
    "df_full"
   ]
  },
  {
   "cell_type": "markdown",
   "metadata": {
    "editable": false,
    "id": "FCnvZhTveRup"
   },
   "source": [
    "#### here we are doing some text preprocessing \n",
    "\n"
   ]
  },
  {
   "cell_type": "code",
   "execution_count": 222,
   "metadata": {
    "editable": false,
    "executionInfo": {
     "elapsed": 35,
     "status": "ok",
     "timestamp": 1648968655308,
     "user": {
      "displayName": "Shivang Shrivastav",
      "userId": "00987918723260281132"
     },
     "user_tz": -330
    },
    "id": "ZqJZqV-weRur"
   },
   "outputs": [],
   "source": [
    "df_cleaned = df_full.copy()"
   ]
  },
  {
   "cell_type": "code",
   "execution_count": 223,
   "metadata": {
    "editable": false,
    "executionInfo": {
     "elapsed": 36,
     "status": "ok",
     "timestamp": 1648968655309,
     "user": {
      "displayName": "Shivang Shrivastav",
      "userId": "00987918723260281132"
     },
     "user_tz": -330
    },
    "id": "HuDfLrq9eRus"
   },
   "outputs": [],
   "source": [
    "# changing the data type to the category to encode into codes \n",
    "df_cleaned['Intent'] = df_cleaned.label.astype('category')\n"
   ]
  },
  {
   "cell_type": "code",
   "execution_count": 224,
   "metadata": {
    "colab": {
     "base_uri": "https://localhost:8080/"
    },
    "editable": false,
    "executionInfo": {
     "elapsed": 35,
     "status": "ok",
     "timestamp": 1648968655310,
     "user": {
      "displayName": "Shivang Shrivastav",
      "userId": "00987918723260281132"
     },
     "user_tz": -330
    },
    "id": "GawYv_sxeRus",
    "outputId": "ed63afb2-ee43-475d-a5de-8b2509de45a7"
   },
   "outputs": [
    {
     "data": {
      "text/plain": [
       "0                  request_refund\n",
       "1                 cancel_transfer\n",
       "2           edit_personal_details\n",
       "3        declined_cash_withdrawal\n",
       "4               declined_transfer\n",
       "                   ...           \n",
       "10461              pending_top_up\n",
       "10462    card_payment_fee_charged\n",
       "10463            compromised_card\n",
       "10464             card_acceptance\n",
       "10465               exchange_rate\n",
       "Name: Intent, Length: 10466, dtype: category\n",
       "Categories (77, object): ['Refund_not_showing_up', 'activate_my_card', 'age_limit',\n",
       "                          'apple_pay_or_google_pay', ..., 'visa_or_mastercard', 'why_verify_identity',\n",
       "                          'wrong_amount_of_cash_received', 'wrong_exchange_rate_for_cash_withdrawal']"
      ]
     },
     "execution_count": 224,
     "metadata": {},
     "output_type": "execute_result"
    }
   ],
   "source": [
    "df_cleaned.Intent"
   ]
  },
  {
   "cell_type": "code",
   "execution_count": 225,
   "metadata": {
    "colab": {
     "base_uri": "https://localhost:8080/"
    },
    "editable": false,
    "executionInfo": {
     "elapsed": 31,
     "status": "ok",
     "timestamp": 1648968655310,
     "user": {
      "displayName": "Shivang Shrivastav",
      "userId": "00987918723260281132"
     },
     "user_tz": -330
    },
    "id": "DjrXEYYXeRut",
    "outputId": "4418f270-ac31-4d35-f3a1-24ff88a9950b"
   },
   "outputs": [
    {
     "data": {
      "text/plain": [
       "0        52\n",
       "1         9\n",
       "2        31\n",
       "3        27\n",
       "4        28\n",
       "         ..\n",
       "10461    48\n",
       "10462    16\n",
       "10463    23\n",
       "10464    11\n",
       "10465    33\n",
       "Length: 10466, dtype: int8"
      ]
     },
     "execution_count": 225,
     "metadata": {},
     "output_type": "execute_result"
    }
   ],
   "source": [
    "df_cleaned.Intent.cat.codes"
   ]
  },
  {
   "cell_type": "code",
   "execution_count": 226,
   "metadata": {
    "colab": {
     "base_uri": "https://localhost:8080/"
    },
    "editable": false,
    "executionInfo": {
     "elapsed": 29,
     "status": "ok",
     "timestamp": 1648968655312,
     "user": {
      "displayName": "Shivang Shrivastav",
      "userId": "00987918723260281132"
     },
     "user_tz": -330
    },
    "id": "dWx_-lrJeRut",
    "outputId": "20edcb20-872e-46f7-ca7f-99d1dcbd5693"
   },
   "outputs": [
    {
     "data": {
      "text/plain": [
       "0        52\n",
       "1         9\n",
       "2        31\n",
       "3        27\n",
       "4        28\n",
       "         ..\n",
       "10461    48\n",
       "10462    16\n",
       "10463    23\n",
       "10464    11\n",
       "10465    33\n",
       "Name: Intent, Length: 10466, dtype: int8"
      ]
     },
     "execution_count": 226,
     "metadata": {},
     "output_type": "execute_result"
    }
   ],
   "source": [
    "df_cleaned['Intent']  =  df_cleaned.Intent.cat.codes\n",
    "df_cleaned.Intent"
   ]
  },
  {
   "cell_type": "code",
   "execution_count": 227,
   "metadata": {
    "editable": false,
    "executionInfo": {
     "elapsed": 27,
     "status": "ok",
     "timestamp": 1648968655313,
     "user": {
      "displayName": "Shivang Shrivastav",
      "userId": "00987918723260281132"
     },
     "user_tz": -330
    },
    "id": "3-z6R85LeRut"
   },
   "outputs": [],
   "source": [
    "from sklearn.model_selection import train_test_split\n",
    "data_train,data_test = train_test_split(df_cleaned, test_size = 0.3, random_state = 42, stratify = df_cleaned.Intent)"
   ]
  },
  {
   "cell_type": "code",
   "execution_count": 228,
   "metadata": {
    "colab": {
     "base_uri": "https://localhost:8080/"
    },
    "editable": false,
    "executionInfo": {
     "elapsed": 28,
     "status": "ok",
     "timestamp": 1648968655314,
     "user": {
      "displayName": "Shivang Shrivastav",
      "userId": "00987918723260281132"
     },
     "user_tz": -330
    },
    "id": "6DYplHuKeRuu",
    "outputId": "59a64840-05ff-4b94-9e03-647214428f3a"
   },
   "outputs": [
    {
     "data": {
      "text/plain": [
       "(7326, 4)"
      ]
     },
     "execution_count": 228,
     "metadata": {},
     "output_type": "execute_result"
    }
   ],
   "source": [
    "data_train.shape"
   ]
  },
  {
   "cell_type": "code",
   "execution_count": 229,
   "metadata": {
    "colab": {
     "base_uri": "https://localhost:8080/",
     "height": 80
    },
    "executionInfo": {
     "elapsed": 25,
     "status": "ok",
     "timestamp": 1648968655314,
     "user": {
      "displayName": "Shivang Shrivastav",
      "userId": "00987918723260281132"
     },
     "user_tz": -330
    },
    "id": "ZayAsCTNC-CQ",
    "outputId": "a3a6c77d-858c-4439-8cd7-2fa7f3f1d282"
   },
   "outputs": [
    {
     "data": {
      "text/html": [
       "\n",
       "  <div id=\"df-4e474daf-8b1e-42d6-a3eb-3e012a38106a\">\n",
       "    <div class=\"colab-df-container\">\n",
       "      <div>\n",
       "<style scoped>\n",
       "    .dataframe tbody tr th:only-of-type {\n",
       "        vertical-align: middle;\n",
       "    }\n",
       "\n",
       "    .dataframe tbody tr th {\n",
       "        vertical-align: top;\n",
       "    }\n",
       "\n",
       "    .dataframe thead th {\n",
       "        text-align: right;\n",
       "    }\n",
       "</style>\n",
       "<table border=\"1\" class=\"dataframe\">\n",
       "  <thead>\n",
       "    <tr style=\"text-align: right;\">\n",
       "      <th></th>\n",
       "      <th>id</th>\n",
       "      <th>message</th>\n",
       "      <th>label</th>\n",
       "      <th>Intent</th>\n",
       "    </tr>\n",
       "  </thead>\n",
       "  <tbody>\n",
       "    <tr>\n",
       "      <th>7227</th>\n",
       "      <td>8498</td>\n",
       "      <td>I don't think that my top-up worked.</td>\n",
       "      <td>top_up_failed</td>\n",
       "      <td>59</td>\n",
       "    </tr>\n",
       "  </tbody>\n",
       "</table>\n",
       "</div>\n",
       "      <button class=\"colab-df-convert\" onclick=\"convertToInteractive('df-4e474daf-8b1e-42d6-a3eb-3e012a38106a')\"\n",
       "              title=\"Convert this dataframe to an interactive table.\"\n",
       "              style=\"display:none;\">\n",
       "        \n",
       "  <svg xmlns=\"http://www.w3.org/2000/svg\" height=\"24px\"viewBox=\"0 0 24 24\"\n",
       "       width=\"24px\">\n",
       "    <path d=\"M0 0h24v24H0V0z\" fill=\"none\"/>\n",
       "    <path d=\"M18.56 5.44l.94 2.06.94-2.06 2.06-.94-2.06-.94-.94-2.06-.94 2.06-2.06.94zm-11 1L8.5 8.5l.94-2.06 2.06-.94-2.06-.94L8.5 2.5l-.94 2.06-2.06.94zm10 10l.94 2.06.94-2.06 2.06-.94-2.06-.94-.94-2.06-.94 2.06-2.06.94z\"/><path d=\"M17.41 7.96l-1.37-1.37c-.4-.4-.92-.59-1.43-.59-.52 0-1.04.2-1.43.59L10.3 9.45l-7.72 7.72c-.78.78-.78 2.05 0 2.83L4 21.41c.39.39.9.59 1.41.59.51 0 1.02-.2 1.41-.59l7.78-7.78 2.81-2.81c.8-.78.8-2.07 0-2.86zM5.41 20L4 18.59l7.72-7.72 1.47 1.35L5.41 20z\"/>\n",
       "  </svg>\n",
       "      </button>\n",
       "      \n",
       "  <style>\n",
       "    .colab-df-container {\n",
       "      display:flex;\n",
       "      flex-wrap:wrap;\n",
       "      gap: 12px;\n",
       "    }\n",
       "\n",
       "    .colab-df-convert {\n",
       "      background-color: #E8F0FE;\n",
       "      border: none;\n",
       "      border-radius: 50%;\n",
       "      cursor: pointer;\n",
       "      display: none;\n",
       "      fill: #1967D2;\n",
       "      height: 32px;\n",
       "      padding: 0 0 0 0;\n",
       "      width: 32px;\n",
       "    }\n",
       "\n",
       "    .colab-df-convert:hover {\n",
       "      background-color: #E2EBFA;\n",
       "      box-shadow: 0px 1px 2px rgba(60, 64, 67, 0.3), 0px 1px 3px 1px rgba(60, 64, 67, 0.15);\n",
       "      fill: #174EA6;\n",
       "    }\n",
       "\n",
       "    [theme=dark] .colab-df-convert {\n",
       "      background-color: #3B4455;\n",
       "      fill: #D2E3FC;\n",
       "    }\n",
       "\n",
       "    [theme=dark] .colab-df-convert:hover {\n",
       "      background-color: #434B5C;\n",
       "      box-shadow: 0px 1px 3px 1px rgba(0, 0, 0, 0.15);\n",
       "      filter: drop-shadow(0px 1px 2px rgba(0, 0, 0, 0.3));\n",
       "      fill: #FFFFFF;\n",
       "    }\n",
       "  </style>\n",
       "\n",
       "      <script>\n",
       "        const buttonEl =\n",
       "          document.querySelector('#df-4e474daf-8b1e-42d6-a3eb-3e012a38106a button.colab-df-convert');\n",
       "        buttonEl.style.display =\n",
       "          google.colab.kernel.accessAllowed ? 'block' : 'none';\n",
       "\n",
       "        async function convertToInteractive(key) {\n",
       "          const element = document.querySelector('#df-4e474daf-8b1e-42d6-a3eb-3e012a38106a');\n",
       "          const dataTable =\n",
       "            await google.colab.kernel.invokeFunction('convertToInteractive',\n",
       "                                                     [key], {});\n",
       "          if (!dataTable) return;\n",
       "\n",
       "          const docLinkHtml = 'Like what you see? Visit the ' +\n",
       "            '<a target=\"_blank\" href=https://colab.research.google.com/notebooks/data_table.ipynb>data table notebook</a>'\n",
       "            + ' to learn more about interactive tables.';\n",
       "          element.innerHTML = '';\n",
       "          dataTable['output_type'] = 'display_data';\n",
       "          await google.colab.output.renderOutput(dataTable, element);\n",
       "          const docLink = document.createElement('div');\n",
       "          docLink.innerHTML = docLinkHtml;\n",
       "          element.appendChild(docLink);\n",
       "        }\n",
       "      </script>\n",
       "    </div>\n",
       "  </div>\n",
       "  "
      ],
      "text/plain": [
       "        id                               message          label  Intent\n",
       "7227  8498  I don't think that my top-up worked.  top_up_failed      59"
      ]
     },
     "execution_count": 229,
     "metadata": {},
     "output_type": "execute_result"
    }
   ],
   "source": [
    "data_train.head(1)"
   ]
  },
  {
   "cell_type": "code",
   "execution_count": 230,
   "metadata": {
    "colab": {
     "base_uri": "https://localhost:8080/",
     "height": 80
    },
    "executionInfo": {
     "elapsed": 25,
     "status": "ok",
     "timestamp": 1648968655315,
     "user": {
      "displayName": "Shivang Shrivastav",
      "userId": "00987918723260281132"
     },
     "user_tz": -330
    },
    "id": "KFuYJaoUD1fm",
    "outputId": "d508f461-d51a-4b8d-c940-9e04229fd168"
   },
   "outputs": [
    {
     "data": {
      "text/html": [
       "\n",
       "  <div id=\"df-e3110bef-9f4e-4ab5-8057-7fcee8ae869d\">\n",
       "    <div class=\"colab-df-container\">\n",
       "      <div>\n",
       "<style scoped>\n",
       "    .dataframe tbody tr th:only-of-type {\n",
       "        vertical-align: middle;\n",
       "    }\n",
       "\n",
       "    .dataframe tbody tr th {\n",
       "        vertical-align: top;\n",
       "    }\n",
       "\n",
       "    .dataframe thead th {\n",
       "        text-align: right;\n",
       "    }\n",
       "</style>\n",
       "<table border=\"1\" class=\"dataframe\">\n",
       "  <thead>\n",
       "    <tr style=\"text-align: right;\">\n",
       "      <th></th>\n",
       "      <th>id</th>\n",
       "      <th>message</th>\n",
       "      <th>label</th>\n",
       "      <th>Intent</th>\n",
       "    </tr>\n",
       "  </thead>\n",
       "  <tbody>\n",
       "    <tr>\n",
       "      <th>2924</th>\n",
       "      <td>6941</td>\n",
       "      <td>I really need to know how to change my pin.</td>\n",
       "      <td>change_pin</td>\n",
       "      <td>22</td>\n",
       "    </tr>\n",
       "  </tbody>\n",
       "</table>\n",
       "</div>\n",
       "      <button class=\"colab-df-convert\" onclick=\"convertToInteractive('df-e3110bef-9f4e-4ab5-8057-7fcee8ae869d')\"\n",
       "              title=\"Convert this dataframe to an interactive table.\"\n",
       "              style=\"display:none;\">\n",
       "        \n",
       "  <svg xmlns=\"http://www.w3.org/2000/svg\" height=\"24px\"viewBox=\"0 0 24 24\"\n",
       "       width=\"24px\">\n",
       "    <path d=\"M0 0h24v24H0V0z\" fill=\"none\"/>\n",
       "    <path d=\"M18.56 5.44l.94 2.06.94-2.06 2.06-.94-2.06-.94-.94-2.06-.94 2.06-2.06.94zm-11 1L8.5 8.5l.94-2.06 2.06-.94-2.06-.94L8.5 2.5l-.94 2.06-2.06.94zm10 10l.94 2.06.94-2.06 2.06-.94-2.06-.94-.94-2.06-.94 2.06-2.06.94z\"/><path d=\"M17.41 7.96l-1.37-1.37c-.4-.4-.92-.59-1.43-.59-.52 0-1.04.2-1.43.59L10.3 9.45l-7.72 7.72c-.78.78-.78 2.05 0 2.83L4 21.41c.39.39.9.59 1.41.59.51 0 1.02-.2 1.41-.59l7.78-7.78 2.81-2.81c.8-.78.8-2.07 0-2.86zM5.41 20L4 18.59l7.72-7.72 1.47 1.35L5.41 20z\"/>\n",
       "  </svg>\n",
       "      </button>\n",
       "      \n",
       "  <style>\n",
       "    .colab-df-container {\n",
       "      display:flex;\n",
       "      flex-wrap:wrap;\n",
       "      gap: 12px;\n",
       "    }\n",
       "\n",
       "    .colab-df-convert {\n",
       "      background-color: #E8F0FE;\n",
       "      border: none;\n",
       "      border-radius: 50%;\n",
       "      cursor: pointer;\n",
       "      display: none;\n",
       "      fill: #1967D2;\n",
       "      height: 32px;\n",
       "      padding: 0 0 0 0;\n",
       "      width: 32px;\n",
       "    }\n",
       "\n",
       "    .colab-df-convert:hover {\n",
       "      background-color: #E2EBFA;\n",
       "      box-shadow: 0px 1px 2px rgba(60, 64, 67, 0.3), 0px 1px 3px 1px rgba(60, 64, 67, 0.15);\n",
       "      fill: #174EA6;\n",
       "    }\n",
       "\n",
       "    [theme=dark] .colab-df-convert {\n",
       "      background-color: #3B4455;\n",
       "      fill: #D2E3FC;\n",
       "    }\n",
       "\n",
       "    [theme=dark] .colab-df-convert:hover {\n",
       "      background-color: #434B5C;\n",
       "      box-shadow: 0px 1px 3px 1px rgba(0, 0, 0, 0.15);\n",
       "      filter: drop-shadow(0px 1px 2px rgba(0, 0, 0, 0.3));\n",
       "      fill: #FFFFFF;\n",
       "    }\n",
       "  </style>\n",
       "\n",
       "      <script>\n",
       "        const buttonEl =\n",
       "          document.querySelector('#df-e3110bef-9f4e-4ab5-8057-7fcee8ae869d button.colab-df-convert');\n",
       "        buttonEl.style.display =\n",
       "          google.colab.kernel.accessAllowed ? 'block' : 'none';\n",
       "\n",
       "        async function convertToInteractive(key) {\n",
       "          const element = document.querySelector('#df-e3110bef-9f4e-4ab5-8057-7fcee8ae869d');\n",
       "          const dataTable =\n",
       "            await google.colab.kernel.invokeFunction('convertToInteractive',\n",
       "                                                     [key], {});\n",
       "          if (!dataTable) return;\n",
       "\n",
       "          const docLinkHtml = 'Like what you see? Visit the ' +\n",
       "            '<a target=\"_blank\" href=https://colab.research.google.com/notebooks/data_table.ipynb>data table notebook</a>'\n",
       "            + ' to learn more about interactive tables.';\n",
       "          element.innerHTML = '';\n",
       "          dataTable['output_type'] = 'display_data';\n",
       "          await google.colab.output.renderOutput(dataTable, element);\n",
       "          const docLink = document.createElement('div');\n",
       "          docLink.innerHTML = docLinkHtml;\n",
       "          element.appendChild(docLink);\n",
       "        }\n",
       "      </script>\n",
       "    </div>\n",
       "  </div>\n",
       "  "
      ],
      "text/plain": [
       "        id                                      message       label  Intent\n",
       "2924  6941  I really need to know how to change my pin.  change_pin      22"
      ]
     },
     "execution_count": 230,
     "metadata": {},
     "output_type": "execute_result"
    }
   ],
   "source": [
    "data_test.head(1)"
   ]
  },
  {
   "cell_type": "code",
   "execution_count": 231,
   "metadata": {
    "colab": {
     "base_uri": "https://localhost:8080/"
    },
    "editable": false,
    "executionInfo": {
     "elapsed": 10,
     "status": "ok",
     "timestamp": 1648968655995,
     "user": {
      "displayName": "Shivang Shrivastav",
      "userId": "00987918723260281132"
     },
     "user_tz": -330
    },
    "id": "58hbfm9AeRuu",
    "outputId": "54697824-b31a-41fa-a6e3-bea6b46c2f8d"
   },
   "outputs": [
    {
     "data": {
      "text/plain": [
       "(3140, 4)"
      ]
     },
     "execution_count": 231,
     "metadata": {},
     "output_type": "execute_result"
    }
   ],
   "source": [
    "data_test.shape"
   ]
  },
  {
   "cell_type": "code",
   "execution_count": 232,
   "metadata": {
    "editable": false,
    "executionInfo": {
     "elapsed": 10,
     "status": "ok",
     "timestamp": 1648968655997,
     "user": {
      "displayName": "Shivang Shrivastav",
      "userId": "00987918723260281132"
     },
     "user_tz": -330
    },
    "id": "NHk1KsIneRuu"
   },
   "outputs": [],
   "source": [
    "from tensorflow.keras.utils import to_categorical"
   ]
  },
  {
   "cell_type": "code",
   "execution_count": 233,
   "metadata": {
    "colab": {
     "base_uri": "https://localhost:8080/"
    },
    "editable": false,
    "executionInfo": {
     "elapsed": 12,
     "status": "ok",
     "timestamp": 1648968655999,
     "user": {
      "displayName": "Shivang Shrivastav",
      "userId": "00987918723260281132"
     },
     "user_tz": -330
    },
    "id": "A62E9m1WeRuu",
    "outputId": "33828771-202a-4e99-b56b-1e3b409a9eac"
   },
   "outputs": [
    {
     "data": {
      "text/plain": [
       "array([[0., 0., 0., ..., 0., 0., 0.],\n",
       "       [0., 0., 0., ..., 0., 0., 0.],\n",
       "       [0., 0., 0., ..., 0., 0., 0.],\n",
       "       ...,\n",
       "       [0., 0., 0., ..., 0., 0., 0.],\n",
       "       [0., 0., 0., ..., 0., 0., 0.],\n",
       "       [1., 0., 0., ..., 0., 0., 0.]], dtype=float32)"
      ]
     },
     "execution_count": 233,
     "metadata": {},
     "output_type": "execute_result"
    }
   ],
   "source": [
    "to_categorical(data_train.Intent)"
   ]
  },
  {
   "cell_type": "markdown",
   "metadata": {
    "editable": false,
    "id": "Qprl6yUreRuu"
   },
   "source": [
    "### so far we have cleaned our text data now we need to encode our output in some labels , \n",
    "here we have two method to encode "
   ]
  },
  {
   "cell_type": "markdown",
   "metadata": {
    "editable": false,
    "id": "t7Gdr8NYeRuv"
   },
   "source": [
    "## Now lets load the model "
   ]
  },
  {
   "cell_type": "code",
   "execution_count": 234,
   "metadata": {
    "colab": {
     "base_uri": "https://localhost:8080/"
    },
    "executionInfo": {
     "elapsed": 3062,
     "status": "ok",
     "timestamp": 1648968659052,
     "user": {
      "displayName": "Shivang Shrivastav",
      "userId": "00987918723260281132"
     },
     "user_tz": -330
    },
    "id": "BuvrM5SwjKcD",
    "outputId": "a26bfdad-e067-41f3-de62-2023f1e29600"
   },
   "outputs": [
    {
     "name": "stdout",
     "output_type": "stream",
     "text": [
      "Requirement already satisfied: transformers in /usr/local/lib/python3.7/dist-packages (4.17.0)\n",
      "Requirement already satisfied: filelock in /usr/local/lib/python3.7/dist-packages (from transformers) (3.6.0)\n",
      "Requirement already satisfied: regex!=2019.12.17 in /usr/local/lib/python3.7/dist-packages (from transformers) (2019.12.20)\n",
      "Requirement already satisfied: tokenizers!=0.11.3,>=0.11.1 in /usr/local/lib/python3.7/dist-packages (from transformers) (0.11.6)\n",
      "Requirement already satisfied: pyyaml>=5.1 in /usr/local/lib/python3.7/dist-packages (from transformers) (6.0)\n",
      "Requirement already satisfied: huggingface-hub<1.0,>=0.1.0 in /usr/local/lib/python3.7/dist-packages (from transformers) (0.4.0)\n",
      "Requirement already satisfied: packaging>=20.0 in /usr/local/lib/python3.7/dist-packages (from transformers) (21.3)\n",
      "Requirement already satisfied: numpy>=1.17 in /usr/local/lib/python3.7/dist-packages (from transformers) (1.21.5)\n",
      "Requirement already satisfied: importlib-metadata in /usr/local/lib/python3.7/dist-packages (from transformers) (4.11.3)\n",
      "Requirement already satisfied: requests in /usr/local/lib/python3.7/dist-packages (from transformers) (2.23.0)\n",
      "Requirement already satisfied: tqdm>=4.27 in /usr/local/lib/python3.7/dist-packages (from transformers) (4.63.0)\n",
      "Requirement already satisfied: sacremoses in /usr/local/lib/python3.7/dist-packages (from transformers) (0.0.49)\n",
      "Requirement already satisfied: typing-extensions>=3.7.4.3 in /usr/local/lib/python3.7/dist-packages (from huggingface-hub<1.0,>=0.1.0->transformers) (3.10.0.2)\n",
      "Requirement already satisfied: pyparsing!=3.0.5,>=2.0.2 in /usr/local/lib/python3.7/dist-packages (from packaging>=20.0->transformers) (3.0.7)\n",
      "Requirement already satisfied: zipp>=0.5 in /usr/local/lib/python3.7/dist-packages (from importlib-metadata->transformers) (3.7.0)\n",
      "Requirement already satisfied: urllib3!=1.25.0,!=1.25.1,<1.26,>=1.21.1 in /usr/local/lib/python3.7/dist-packages (from requests->transformers) (1.24.3)\n",
      "Requirement already satisfied: certifi>=2017.4.17 in /usr/local/lib/python3.7/dist-packages (from requests->transformers) (2021.10.8)\n",
      "Requirement already satisfied: idna<3,>=2.5 in /usr/local/lib/python3.7/dist-packages (from requests->transformers) (2.10)\n",
      "Requirement already satisfied: chardet<4,>=3.0.2 in /usr/local/lib/python3.7/dist-packages (from requests->transformers) (3.0.4)\n",
      "Requirement already satisfied: click in /usr/local/lib/python3.7/dist-packages (from sacremoses->transformers) (7.1.2)\n",
      "Requirement already satisfied: joblib in /usr/local/lib/python3.7/dist-packages (from sacremoses->transformers) (1.1.0)\n",
      "Requirement already satisfied: six in /usr/local/lib/python3.7/dist-packages (from sacremoses->transformers) (1.15.0)\n"
     ]
    }
   ],
   "source": [
    "!pip install transformers"
   ]
  },
  {
   "cell_type": "code",
   "execution_count": 235,
   "metadata": {
    "colab": {
     "base_uri": "https://localhost:8080/"
    },
    "editable": false,
    "executionInfo": {
     "elapsed": 2649,
     "status": "ok",
     "timestamp": 1648968661691,
     "user": {
      "displayName": "Shivang Shrivastav",
      "userId": "00987918723260281132"
     },
     "user_tz": -330
    },
    "id": "y-xDb8jdeRuv",
    "outputId": "12876575-9ac2-4d02-9d12-7c252d6e5b6d"
   },
   "outputs": [
    {
     "name": "stderr",
     "output_type": "stream",
     "text": [
      "Some layers from the model checkpoint at bert-base-cased were not used when initializing TFBertModel: ['nsp___cls', 'mlm___cls']\n",
      "- This IS expected if you are initializing TFBertModel from the checkpoint of a model trained on another task or with another architecture (e.g. initializing a BertForSequenceClassification model from a BertForPreTraining model).\n",
      "- This IS NOT expected if you are initializing TFBertModel from the checkpoint of a model that you expect to be exactly identical (initializing a BertForSequenceClassification model from a BertForSequenceClassification model).\n",
      "All the layers of TFBertModel were initialized from the model checkpoint at bert-base-cased.\n",
      "If your task is similar to the task the model of the checkpoint was trained on, you can already use TFBertModel for predictions without further training.\n"
     ]
    }
   ],
   "source": [
    "from transformers import AutoTokenizer,TFBertModel\n",
    "tokenizer = AutoTokenizer.from_pretrained('bert-base-cased')\n",
    "bert = TFBertModel.from_pretrained('bert-base-cased')\n"
   ]
  },
  {
   "cell_type": "code",
   "execution_count": 236,
   "metadata": {
    "editable": false,
    "executionInfo": {
     "elapsed": 714,
     "status": "ok",
     "timestamp": 1648968662399,
     "user": {
      "displayName": "Shivang Shrivastav",
      "userId": "00987918723260281132"
     },
     "user_tz": -330
    },
    "id": "OS5wqX-peRuv"
   },
   "outputs": [],
   "source": [
    "tokenizer.save_pretrained('bert-tokenizer')\n",
    "bert.save_pretrained('bert-model')\n",
    "# for saving model locally and we can load it later on "
   ]
  },
  {
   "cell_type": "code",
   "execution_count": 237,
   "metadata": {
    "colab": {
     "base_uri": "https://localhost:8080/"
    },
    "editable": false,
    "executionInfo": {
     "elapsed": 797,
     "status": "ok",
     "timestamp": 1648968663194,
     "user": {
      "displayName": "Shivang Shrivastav",
      "userId": "00987918723260281132"
     },
     "user_tz": -330
    },
    "id": "G5RAurJMeRuv",
    "outputId": "809e8872-04b2-4150-8321-00457100790e"
   },
   "outputs": [
    {
     "name": "stderr",
     "output_type": "stream",
     "text": [
      "Some layers from the model checkpoint at distilbert-base-uncased were not used when initializing TFDistilBertModel: ['vocab_layer_norm', 'vocab_projector', 'vocab_transform', 'activation_13']\n",
      "- This IS expected if you are initializing TFDistilBertModel from the checkpoint of a model trained on another task or with another architecture (e.g. initializing a BertForSequenceClassification model from a BertForPreTraining model).\n",
      "- This IS NOT expected if you are initializing TFDistilBertModel from the checkpoint of a model that you expect to be exactly identical (initializing a BertForSequenceClassification model from a BertForSequenceClassification model).\n",
      "All the layers of TFDistilBertModel were initialized from the model checkpoint at distilbert-base-uncased.\n",
      "If your task is similar to the task the model of the checkpoint was trained on, you can already use TFDistilBertModel for predictions without further training.\n"
     ]
    }
   ],
   "source": [
    "### we can use distilbert its lighter cheaper and similar performance \n",
    "\n",
    "from transformers import BertTokenizer, TFBertModel, BertConfig,TFDistilBertModel,DistilBertTokenizer,DistilBertConfig\n",
    "dbert_model = TFDistilBertModel.from_pretrained('distilbert-base-uncased')\n"
   ]
  },
  {
   "cell_type": "code",
   "execution_count": 238,
   "metadata": {
    "colab": {
     "base_uri": "https://localhost:8080/"
    },
    "editable": false,
    "executionInfo": {
     "elapsed": 6,
     "status": "ok",
     "timestamp": 1648968663194,
     "user": {
      "displayName": "Shivang Shrivastav",
      "userId": "00987918723260281132"
     },
     "user_tz": -330
    },
    "id": "2plLSJtaeRuw",
    "outputId": "27e3019f-df0c-48e9-b789-d6201c494052"
   },
   "outputs": [
    {
     "data": {
      "text/plain": [
       "{'input_ids': [101, 19082, 1142, 1143, 188, 22268, 2118, 102], 'token_type_ids': [0, 0, 0, 0, 0, 0, 0, 0], 'attention_mask': [1, 1, 1, 1, 1, 1, 1, 1]}"
      ]
     },
     "execution_count": 238,
     "metadata": {},
     "output_type": "execute_result"
    }
   ],
   "source": [
    "tokenizer('hello this me shivang')"
   ]
  },
  {
   "cell_type": "code",
   "execution_count": 239,
   "metadata": {
    "editable": false,
    "executionInfo": {
     "elapsed": 489,
     "status": "ok",
     "timestamp": 1648968663680,
     "user": {
      "displayName": "Shivang Shrivastav",
      "userId": "00987918723260281132"
     },
     "user_tz": -330
    },
    "id": "Ux-7TgRteRux"
   },
   "outputs": [],
   "source": [
    "# Tokenize the input (takes some time) \n",
    "# here tokenizer using from bert-base-cased\n",
    "x_train = tokenizer(\n",
    "    text=data_train.message.tolist(),\n",
    "    add_special_tokens=True,\n",
    "    max_length=28,\n",
    "    truncation=True,\n",
    "    padding=True, \n",
    "    return_tensors='tf',\n",
    "    return_token_type_ids = False,\n",
    "    return_attention_mask = True,\n",
    "    verbose = True)\n",
    "\n",
    "\n",
    "x_test = tokenizer(\n",
    "    text=data_test.message.tolist(),\n",
    "    add_special_tokens=True,\n",
    "    max_length=28,\n",
    "    truncation=True,\n",
    "    padding=True, \n",
    "    return_tensors='tf',\n",
    "    return_token_type_ids = False,\n",
    "    return_attention_mask = True,\n",
    "    verbose = True)\n",
    "\n"
   ]
  },
  {
   "cell_type": "code",
   "execution_count": 240,
   "metadata": {
    "colab": {
     "base_uri": "https://localhost:8080/"
    },
    "editable": false,
    "executionInfo": {
     "elapsed": 29,
     "status": "ok",
     "timestamp": 1648968663681,
     "user": {
      "displayName": "Shivang Shrivastav",
      "userId": "00987918723260281132"
     },
     "user_tz": -330
    },
    "id": "rK4yDrZWeRux",
    "outputId": "5d94db29-9bdb-4a28-cc3b-cc23f877c16e"
   },
   "outputs": [
    {
     "data": {
      "text/plain": [
       "<tf.Tensor: shape=(3140, 28), dtype=int32, numpy=\n",
       "array([[  101,   146,  1541, ...,     0,     0,     0],\n",
       "       [  101,   146,   112, ...,   102,     0,     0],\n",
       "       [  101,  2353,  1499, ...,     0,     0,     0],\n",
       "       ...,\n",
       "       [  101,  1731,  1263, ...,     0,     0,     0],\n",
       "       [  101,  8667,   106, ...,  3908,  9942,   102],\n",
       "       [  101,  1109, 14915, ...,     0,     0,     0]], dtype=int32)>"
      ]
     },
     "execution_count": 240,
     "metadata": {},
     "output_type": "execute_result"
    }
   ],
   "source": [
    "x_test['input_ids']"
   ]
  },
  {
   "cell_type": "code",
   "execution_count": 241,
   "metadata": {
    "colab": {
     "base_uri": "https://localhost:8080/"
    },
    "executionInfo": {
     "elapsed": 27,
     "status": "ok",
     "timestamp": 1648968663681,
     "user": {
      "displayName": "Shivang Shrivastav",
      "userId": "00987918723260281132"
     },
     "user_tz": -330
    },
    "id": "nJHtswolFO3G",
    "outputId": "2dc76ea1-0fbe-4d8a-e875-189eff761105"
   },
   "outputs": [
    {
     "data": {
      "text/plain": [
       "<tf.Tensor: shape=(7326, 28), dtype=int32, numpy=\n",
       "array([[  101,   146,  1274, ...,     0,     0,     0],\n",
       "       [  101,  2009,  1108, ...,     0,     0,     0],\n",
       "       [  101,  2825,   146, ...,     0,     0,     0],\n",
       "       ...,\n",
       "       [  101,  2009,  1110, ...,     0,     0,     0],\n",
       "       [  101,  2009,  1225, ...,     0,     0,     0],\n",
       "       [  101,  5718,  1128, ..., 12017,  1103,   102]], dtype=int32)>"
      ]
     },
     "execution_count": 241,
     "metadata": {},
     "output_type": "execute_result"
    }
   ],
   "source": [
    "x_train['input_ids']"
   ]
  },
  {
   "cell_type": "code",
   "execution_count": 242,
   "metadata": {
    "colab": {
     "base_uri": "https://localhost:8080/"
    },
    "executionInfo": {
     "elapsed": 24,
     "status": "ok",
     "timestamp": 1648968663682,
     "user": {
      "displayName": "Shivang Shrivastav",
      "userId": "00987918723260281132"
     },
     "user_tz": -330
    },
    "id": "IEABEsqZFWx0",
    "outputId": "dd307da1-8485-4f55-8594-a8276f05f00d"
   },
   "outputs": [
    {
     "data": {
      "text/plain": [
       "{'input_ids': <tf.Tensor: shape=(7326, 28), dtype=int32, numpy=\n",
       "array([[  101,   146,  1274, ...,     0,     0,     0],\n",
       "       [  101,  2009,  1108, ...,     0,     0,     0],\n",
       "       [  101,  2825,   146, ...,     0,     0,     0],\n",
       "       ...,\n",
       "       [  101,  2009,  1110, ...,     0,     0,     0],\n",
       "       [  101,  2009,  1225, ...,     0,     0,     0],\n",
       "       [  101,  5718,  1128, ..., 12017,  1103,   102]], dtype=int32)>, 'attention_mask': <tf.Tensor: shape=(7326, 28), dtype=int32, numpy=\n",
       "array([[1, 1, 1, ..., 0, 0, 0],\n",
       "       [1, 1, 1, ..., 0, 0, 0],\n",
       "       [1, 1, 1, ..., 0, 0, 0],\n",
       "       ...,\n",
       "       [1, 1, 1, ..., 0, 0, 0],\n",
       "       [1, 1, 1, ..., 0, 0, 0],\n",
       "       [1, 1, 1, ..., 1, 1, 1]], dtype=int32)>}"
      ]
     },
     "execution_count": 242,
     "metadata": {},
     "output_type": "execute_result"
    }
   ],
   "source": [
    "x_train"
   ]
  },
  {
   "cell_type": "code",
   "execution_count": 243,
   "metadata": {
    "colab": {
     "base_uri": "https://localhost:8080/"
    },
    "editable": false,
    "executionInfo": {
     "elapsed": 22,
     "status": "ok",
     "timestamp": 1648968663683,
     "user": {
      "displayName": "Shivang Shrivastav",
      "userId": "00987918723260281132"
     },
     "user_tz": -330
    },
    "id": "pmyHAsLQeRuy",
    "outputId": "647485a6-9d35-464b-af27-712e96ea6d1b"
   },
   "outputs": [
    {
     "name": "stdout",
     "output_type": "stream",
     "text": [
      "(7326,)\n",
      "(3140,)\n"
     ]
    }
   ],
   "source": [
    "print(data_train.Intent.shape)\n",
    "print(data_test.Intent.shape)"
   ]
  },
  {
   "cell_type": "code",
   "execution_count": 244,
   "metadata": {
    "colab": {
     "base_uri": "https://localhost:8080/"
    },
    "executionInfo": {
     "elapsed": 18,
     "status": "ok",
     "timestamp": 1648968663683,
     "user": {
      "displayName": "Shivang Shrivastav",
      "userId": "00987918723260281132"
     },
     "user_tz": -330
    },
    "id": "WBAaOuN1FgSJ",
    "outputId": "c52ed640-cf50-4936-f19c-25e9811d3764"
   },
   "outputs": [
    {
     "data": {
      "text/plain": [
       "7227    59\n",
       "9595    20\n",
       "1244    73\n",
       "6032    17\n",
       "7962    10\n",
       "        ..\n",
       "7982    75\n",
       "3027     4\n",
       "58      47\n",
       "7859    20\n",
       "6288     0\n",
       "Name: Intent, Length: 7326, dtype: int8"
      ]
     },
     "execution_count": 244,
     "metadata": {},
     "output_type": "execute_result"
    }
   ],
   "source": [
    "data_train.Intent"
   ]
  },
  {
   "cell_type": "markdown",
   "metadata": {
    "editable": false,
    "id": "tZ7SIN21eRuy"
   },
   "source": [
    "### loading some libraries "
   ]
  },
  {
   "cell_type": "code",
   "execution_count": 245,
   "metadata": {
    "editable": false,
    "executionInfo": {
     "elapsed": 16,
     "status": "ok",
     "timestamp": 1648968663684,
     "user": {
      "displayName": "Shivang Shrivastav",
      "userId": "00987918723260281132"
     },
     "user_tz": -330
    },
    "id": "veG4ru0GeRuy"
   },
   "outputs": [],
   "source": [
    "from tensorflow.keras.optimizers import Adam\n",
    "from tensorflow.keras.callbacks import EarlyStopping\n",
    "from tensorflow.keras.initializers import TruncatedNormal\n",
    "from tensorflow.keras.losses import CategoricalCrossentropy\n",
    "from tensorflow.keras.metrics import CategoricalAccuracy\n",
    "from tensorflow.keras.utils import to_categorical"
   ]
  },
  {
   "cell_type": "code",
   "execution_count": 246,
   "metadata": {
    "colab": {
     "base_uri": "https://localhost:8080/"
    },
    "editable": false,
    "executionInfo": {
     "elapsed": 16,
     "status": "ok",
     "timestamp": 1648968663684,
     "user": {
      "displayName": "Shivang Shrivastav",
      "userId": "00987918723260281132"
     },
     "user_tz": -330
    },
    "id": "1TwN9266eRuy",
    "outputId": "433b35e4-10be-4737-f0a7-2b15e84f4fb0"
   },
   "outputs": [
    {
     "data": {
      "text/plain": [
       "[PhysicalDevice(name='/physical_device:GPU:0', device_type='GPU')]"
      ]
     },
     "execution_count": 246,
     "metadata": {},
     "output_type": "execute_result"
    }
   ],
   "source": [
    "import tensorflow as tf\n",
    "tf.config.experimental.list_physical_devices('GPU')"
   ]
  },
  {
   "cell_type": "code",
   "execution_count": 247,
   "metadata": {
    "editable": false,
    "executionInfo": {
     "elapsed": 2738,
     "status": "ok",
     "timestamp": 1648968666410,
     "user": {
      "displayName": "Shivang Shrivastav",
      "userId": "00987918723260281132"
     },
     "user_tz": -330
    },
    "id": "AoNCzqCueRuz"
   },
   "outputs": [],
   "source": [
    "max_len = 28\n",
    "import tensorflow as tf\n",
    "from tensorflow.keras.layers import Input, Dense\n",
    "\n",
    "input_ids = Input(shape=(max_len,), dtype=tf.int32, name=\"input_ids\")\n",
    "input_mask = Input(shape=(max_len,), dtype=tf.int32, name=\"attention_mask\")\n",
    "# embeddings = dbert_model(input_ids,attention_mask = input_mask)[0]\n",
    "\n",
    "\n",
    "embeddings = bert(input_ids,attention_mask = input_mask)[0] #(0 is the last hidden states,1 means pooler_output)\n",
    "out = tf.keras.layers.GlobalMaxPool1D()(embeddings)\n",
    "out = Dense(128, activation='relu')(out)\n",
    "out = tf.keras.layers.Dropout(0.1)(out)\n",
    "out = Dense(32,activation = 'relu')(out)\n",
    "\n",
    "y = Dense(77,activation = 'softmax')(out)\n",
    "    \n",
    "model = tf.keras.Model(inputs=[input_ids, input_mask], outputs=y)\n",
    "model.layers[2].trainable = True\n",
    "# for training bert our lr must be so small"
   ]
  },
  {
   "cell_type": "code",
   "execution_count": 248,
   "metadata": {
    "editable": false,
    "executionInfo": {
     "elapsed": 34,
     "status": "ok",
     "timestamp": 1648968666411,
     "user": {
      "displayName": "Shivang Shrivastav",
      "userId": "00987918723260281132"
     },
     "user_tz": -330
    },
    "id": "tUhqUEKDeRuz"
   },
   "outputs": [],
   "source": [
    "optimizer = Adam(\n",
    "    learning_rate=5e-05, # this learning rate is for bert model , taken from huggingface website \n",
    "    epsilon=1e-08,\n",
    "    decay=0.01,\n",
    "    clipnorm=1.0)\n",
    "\n",
    "# Set loss and metrics\n",
    "loss =CategoricalCrossentropy(from_logits = True)\n",
    "metric = CategoricalAccuracy('balanced_accuracy'),\n",
    "# Compile the model\n",
    "model.compile(\n",
    "    optimizer = optimizer,\n",
    "    loss = loss, \n",
    "    metrics = metric)"
   ]
  },
  {
   "cell_type": "code",
   "execution_count": 248,
   "metadata": {
    "editable": false,
    "executionInfo": {
     "elapsed": 33,
     "status": "ok",
     "timestamp": 1648968666412,
     "user": {
      "displayName": "Shivang Shrivastav",
      "userId": "00987918723260281132"
     },
     "user_tz": -330
    },
    "id": "eYM7Nfg2eRuz"
   },
   "outputs": [],
   "source": []
  },
  {
   "cell_type": "code",
   "execution_count": 249,
   "metadata": {
    "colab": {
     "base_uri": "https://localhost:8080/"
    },
    "editable": false,
    "executionInfo": {
     "elapsed": 33,
     "status": "ok",
     "timestamp": 1648968666413,
     "user": {
      "displayName": "Shivang Shrivastav",
      "userId": "00987918723260281132"
     },
     "user_tz": -330
    },
    "id": "0scBwlmpeRuz",
    "outputId": "fd3f01d7-6385-424d-a4cf-5a68f76c63ea"
   },
   "outputs": [
    {
     "name": "stdout",
     "output_type": "stream",
     "text": [
      "Model: \"model_5\"\n",
      "__________________________________________________________________________________________________\n",
      " Layer (type)                   Output Shape         Param #     Connected to                     \n",
      "==================================================================================================\n",
      " input_ids (InputLayer)         [(None, 28)]         0           []                               \n",
      "                                                                                                  \n",
      " attention_mask (InputLayer)    [(None, 28)]         0           []                               \n",
      "                                                                                                  \n",
      " tf_bert_model_4 (TFBertModel)  TFBaseModelOutputWi  108310272   ['input_ids[0][0]',              \n",
      "                                thPoolingAndCrossAt               'attention_mask[0][0]']         \n",
      "                                tentions(last_hidde                                               \n",
      "                                n_state=(None, 28,                                                \n",
      "                                768),                                                             \n",
      "                                 pooler_output=(Non                                               \n",
      "                                e, 768),                                                          \n",
      "                                 past_key_values=No                                               \n",
      "                                ne, hidden_states=N                                               \n",
      "                                one, attentions=Non                                               \n",
      "                                e, cross_attentions                                               \n",
      "                                =None)                                                            \n",
      "                                                                                                  \n",
      " global_max_pooling1d_5 (Global  (None, 768)         0           ['tf_bert_model_4[0][0]']        \n",
      " MaxPooling1D)                                                                                    \n",
      "                                                                                                  \n",
      " dense_15 (Dense)               (None, 128)          98432       ['global_max_pooling1d_5[0][0]'] \n",
      "                                                                                                  \n",
      " dropout_285 (Dropout)          (None, 128)          0           ['dense_15[0][0]']               \n",
      "                                                                                                  \n",
      " dense_16 (Dense)               (None, 32)           4128        ['dropout_285[0][0]']            \n",
      "                                                                                                  \n",
      " dense_17 (Dense)               (None, 77)           2541        ['dense_16[0][0]']               \n",
      "                                                                                                  \n",
      "==================================================================================================\n",
      "Total params: 108,415,373\n",
      "Trainable params: 108,415,373\n",
      "Non-trainable params: 0\n",
      "__________________________________________________________________________________________________\n"
     ]
    }
   ],
   "source": [
    "model.summary()"
   ]
  },
  {
   "cell_type": "code",
   "execution_count": 250,
   "metadata": {
    "editable": false,
    "executionInfo": {
     "elapsed": 21,
     "status": "ok",
     "timestamp": 1648968666414,
     "user": {
      "displayName": "Shivang Shrivastav",
      "userId": "00987918723260281132"
     },
     "user_tz": -330
    },
    "id": "uwflSy0HeRu0"
   },
   "outputs": [],
   "source": [
    "tf.config.experimental_run_functions_eagerly(False)\n",
    "tf.config.run_functions_eagerly(False)\n"
   ]
  },
  {
   "cell_type": "markdown",
   "metadata": {
    "editable": false,
    "id": "cegigi1BeRu0"
   },
   "source": [
    "#### model fitting and then evaluation"
   ]
  },
  {
   "cell_type": "code",
   "execution_count": 251,
   "metadata": {
    "colab": {
     "base_uri": "https://localhost:8080/"
    },
    "executionInfo": {
     "elapsed": 22,
     "status": "ok",
     "timestamp": 1648968666415,
     "user": {
      "displayName": "Shivang Shrivastav",
      "userId": "00987918723260281132"
     },
     "user_tz": -330
    },
    "id": "fYDrTuXOEE6C",
    "outputId": "f1655329-5c73-47c4-f6f3-d3b6986c666e"
   },
   "outputs": [
    {
     "data": {
      "text/plain": [
       "array([0., 0., 0., 0., 0., 0., 0., 0., 0., 0., 0., 0., 0., 0., 0., 0., 0.,\n",
       "       0., 0., 0., 0., 0., 0., 0., 0., 0., 0., 0., 0., 0., 0., 0., 0., 0.,\n",
       "       0., 0., 0., 0., 0., 0., 0., 0., 0., 0., 0., 0., 0., 0., 0., 0., 0.,\n",
       "       0., 0., 0., 0., 0., 0., 0., 0., 1., 0., 0., 0., 0., 0., 0., 0., 0.,\n",
       "       0., 0., 0., 0., 0., 0., 0., 0., 0.], dtype=float32)"
      ]
     },
     "execution_count": 251,
     "metadata": {},
     "output_type": "execute_result"
    }
   ],
   "source": [
    "m = to_categorical(data_train.Intent)\n",
    "m[0]"
   ]
  },
  {
   "cell_type": "code",
   "execution_count": 252,
   "metadata": {
    "colab": {
     "base_uri": "https://localhost:8080/"
    },
    "executionInfo": {
     "elapsed": 19,
     "status": "ok",
     "timestamp": 1648968666416,
     "user": {
      "displayName": "Shivang Shrivastav",
      "userId": "00987918723260281132"
     },
     "user_tz": -330
    },
    "id": "6k9Aa_BmEMmO",
    "outputId": "5a9ee6c2-7c2a-4c53-d22f-2ffd9956a6bf"
   },
   "outputs": [
    {
     "data": {
      "text/plain": [
       "array([0., 0., 0., 0., 0., 0., 0., 0., 0., 0., 0., 0., 0., 0., 0., 0., 0.,\n",
       "       0., 0., 0., 0., 0., 1., 0., 0., 0., 0., 0., 0., 0., 0., 0., 0., 0.,\n",
       "       0., 0., 0., 0., 0., 0., 0., 0., 0., 0., 0., 0., 0., 0., 0., 0., 0.,\n",
       "       0., 0., 0., 0., 0., 0., 0., 0., 0., 0., 0., 0., 0., 0., 0., 0., 0.,\n",
       "       0., 0., 0., 0., 0., 0., 0., 0., 0.], dtype=float32)"
      ]
     },
     "execution_count": 252,
     "metadata": {},
     "output_type": "execute_result"
    }
   ],
   "source": [
    "n = to_categorical(data_test.Intent)\n",
    "n[0]"
   ]
  },
  {
   "cell_type": "code",
   "execution_count": 253,
   "metadata": {
    "colab": {
     "base_uri": "https://localhost:8080/"
    },
    "editable": false,
    "executionInfo": {
     "elapsed": 348058,
     "status": "ok",
     "timestamp": 1648969014458,
     "user": {
      "displayName": "Shivang Shrivastav",
      "userId": "00987918723260281132"
     },
     "user_tz": -330
    },
    "id": "QPDsmZ61eRu0",
    "outputId": "8d2edba5-80f4-44df-e459-39780ef8c54a"
   },
   "outputs": [
    {
     "name": "stdout",
     "output_type": "stream",
     "text": [
      "Epoch 1/10\n",
      "WARNING:tensorflow:Gradients do not exist for variables ['tf_bert_model_4/bert/pooler/dense/kernel:0', 'tf_bert_model_4/bert/pooler/dense/bias:0'] when minimizing the loss. If you're using `model.compile()`, did you forget to provide a `loss`argument?\n",
      "WARNING:tensorflow:Gradients do not exist for variables ['tf_bert_model_4/bert/pooler/dense/kernel:0', 'tf_bert_model_4/bert/pooler/dense/bias:0'] when minimizing the loss. If you're using `model.compile()`, did you forget to provide a `loss`argument?\n",
      "115/115 [==============================] - 62s 308ms/step - loss: 3.8179 - balanced_accuracy: 0.1275 - val_loss: 2.8163 - val_balanced_accuracy: 0.3818\n",
      "Epoch 2/10\n",
      "115/115 [==============================] - 32s 277ms/step - loss: 2.3191 - balanced_accuracy: 0.5034 - val_loss: 1.6504 - val_balanced_accuracy: 0.7102\n",
      "Epoch 3/10\n",
      "115/115 [==============================] - 32s 276ms/step - loss: 1.4526 - balanced_accuracy: 0.7364 - val_loss: 1.1774 - val_balanced_accuracy: 0.8035\n",
      "Epoch 4/10\n",
      "115/115 [==============================] - 32s 276ms/step - loss: 1.0003 - balanced_accuracy: 0.8363 - val_loss: 0.9381 - val_balanced_accuracy: 0.8452\n",
      "Epoch 5/10\n",
      "115/115 [==============================] - 32s 276ms/step - loss: 0.7671 - balanced_accuracy: 0.8766 - val_loss: 0.8191 - val_balanced_accuracy: 0.8605\n",
      "Epoch 6/10\n",
      "115/115 [==============================] - 32s 280ms/step - loss: 0.6121 - balanced_accuracy: 0.9077 - val_loss: 0.7491 - val_balanced_accuracy: 0.8732\n",
      "Epoch 7/10\n",
      "115/115 [==============================] - 32s 276ms/step - loss: 0.4895 - balanced_accuracy: 0.9247 - val_loss: 0.7019 - val_balanced_accuracy: 0.8732\n",
      "Epoch 8/10\n",
      "115/115 [==============================] - 32s 277ms/step - loss: 0.4277 - balanced_accuracy: 0.9361 - val_loss: 0.6636 - val_balanced_accuracy: 0.8799\n",
      "Epoch 9/10\n",
      "115/115 [==============================] - 32s 276ms/step - loss: 0.3639 - balanced_accuracy: 0.9485 - val_loss: 0.6489 - val_balanced_accuracy: 0.8850\n",
      "Epoch 10/10\n",
      "115/115 [==============================] - 32s 277ms/step - loss: 0.3196 - balanced_accuracy: 0.9571 - val_loss: 0.6267 - val_balanced_accuracy: 0.8863\n"
     ]
    }
   ],
   "source": [
    "train_history = model.fit(\n",
    "    x ={'input_ids':x_train['input_ids'],'attention_mask':x_train['attention_mask']} ,\n",
    "    y = m,\n",
    "    validation_data = (\n",
    "    {'input_ids':x_test['input_ids'],'attention_mask':x_test['attention_mask']}, n\n",
    "    ),\n",
    "  epochs=10,\n",
    "    batch_size=64\n",
    ")"
   ]
  },
  {
   "cell_type": "markdown",
   "metadata": {
    "editable": false,
    "id": "Kcv6ZNbceRu1"
   },
   "source": [
    "lets create a new model and then load the weights "
   ]
  },
  {
   "cell_type": "markdown",
   "metadata": {
    "editable": false,
    "id": "Mb-hjiTseRu1"
   },
   "source": [
    "### Prediction Part"
   ]
  },
  {
   "cell_type": "code",
   "execution_count": 254,
   "metadata": {
    "editable": false,
    "executionInfo": {
     "elapsed": 9513,
     "status": "ok",
     "timestamp": 1648969023948,
     "user": {
      "displayName": "Shivang Shrivastav",
      "userId": "00987918723260281132"
     },
     "user_tz": -330
    },
    "id": "Cc71tc0ceRu1"
   },
   "outputs": [],
   "source": [
    "predicted_raw = model.predict({'input_ids':x_test['input_ids'],'attention_mask':x_test['attention_mask']})"
   ]
  },
  {
   "cell_type": "code",
   "execution_count": 255,
   "metadata": {
    "colab": {
     "base_uri": "https://localhost:8080/"
    },
    "editable": false,
    "executionInfo": {
     "elapsed": 53,
     "status": "ok",
     "timestamp": 1648969023949,
     "user": {
      "displayName": "Shivang Shrivastav",
      "userId": "00987918723260281132"
     },
     "user_tz": -330
    },
    "id": "LsMcT7LLeRu1",
    "outputId": "74401521-ca53-4b4e-d688-c13ebc1795a4"
   },
   "outputs": [
    {
     "data": {
      "text/plain": [
       "array([8.7978238e-05, 8.7173341e-04, 9.2683171e-05, 3.4499494e-04,\n",
       "       1.5152494e-03, 2.3226454e-05, 2.7457133e-06, 3.0462455e-05,\n",
       "       7.6476994e-05, 1.5018518e-04, 8.5577060e-04, 5.7273905e-04,\n",
       "       4.7967628e-06, 4.1331559e-06, 2.4132892e-06, 2.3836774e-06,\n",
       "       1.6977426e-04, 3.5919533e-05, 8.3734139e-06, 5.3711340e-04,\n",
       "       1.9173326e-04, 3.6071087e-05, 9.7760278e-01, 8.8072346e-05,\n",
       "       1.4731320e-06, 7.7338382e-06, 6.0984064e-05, 5.1774987e-04,\n",
       "       3.4294277e-05, 4.5949630e-05, 7.7910026e-06, 1.4608019e-03,\n",
       "       3.5474202e-06, 1.5789080e-04, 4.1925104e-04, 4.5176537e-05,\n",
       "       1.3191280e-05, 5.2120267e-05, 1.3062029e-05, 2.0875174e-03,\n",
       "       6.1293901e-04, 5.8564520e-04, 2.1300202e-03, 2.5010237e-04,\n",
       "       1.3878386e-03, 1.3991485e-04, 1.1145944e-04, 4.1705653e-06,\n",
       "       1.9850022e-06, 1.7137518e-03, 6.6706263e-05, 3.7876675e-06,\n",
       "       2.2395671e-04, 3.2026551e-04, 4.7111124e-04, 1.8051127e-05,\n",
       "       7.3144381e-04, 1.1395804e-05, 2.0311732e-05, 7.9076388e-05,\n",
       "       5.0946262e-05, 1.0365342e-04, 1.8514610e-04, 2.3685841e-05,\n",
       "       2.6175441e-05, 4.1910034e-04, 1.4551505e-04, 1.7686572e-04,\n",
       "       5.2292380e-05, 2.4351622e-04, 1.6847378e-04, 5.0880451e-04,\n",
       "       1.4366067e-05, 1.7616477e-04, 4.2743667e-04, 6.8410896e-05,\n",
       "       8.9041445e-05], dtype=float32)"
      ]
     },
     "execution_count": 255,
     "metadata": {},
     "output_type": "execute_result"
    }
   ],
   "source": [
    "predicted_raw[0]"
   ]
  },
  {
   "cell_type": "code",
   "execution_count": 256,
   "metadata": {
    "editable": false,
    "executionInfo": {
     "elapsed": 52,
     "status": "ok",
     "timestamp": 1648969023951,
     "user": {
      "displayName": "Shivang Shrivastav",
      "userId": "00987918723260281132"
     },
     "user_tz": -330
    },
    "id": "o0fRHB8meRu2"
   },
   "outputs": [],
   "source": [
    "y_predicted = np.argmax(predicted_raw, axis = 1)"
   ]
  },
  {
   "cell_type": "code",
   "execution_count": 257,
   "metadata": {
    "colab": {
     "base_uri": "https://localhost:8080/"
    },
    "editable": false,
    "executionInfo": {
     "elapsed": 53,
     "status": "ok",
     "timestamp": 1648969023952,
     "user": {
      "displayName": "Shivang Shrivastav",
      "userId": "00987918723260281132"
     },
     "user_tz": -330
    },
    "id": "zweZSLL1eRu2",
    "outputId": "e9ac14cf-518a-4b33-9940-87f72d3d55aa"
   },
   "outputs": [
    {
     "data": {
      "text/plain": [
       "2924    22\n",
       "451     26\n",
       "755     48\n",
       "6806    76\n",
       "4508    64\n",
       "        ..\n",
       "1860    75\n",
       "5835    71\n",
       "2928     6\n",
       "4040    16\n",
       "1773     1\n",
       "Name: Intent, Length: 3140, dtype: int8"
      ]
     },
     "execution_count": 257,
     "metadata": {},
     "output_type": "execute_result"
    }
   ],
   "source": [
    "data_test.Intent"
   ]
  },
  {
   "cell_type": "code",
   "execution_count": 258,
   "metadata": {
    "editable": false,
    "executionInfo": {
     "elapsed": 49,
     "status": "ok",
     "timestamp": 1648969023953,
     "user": {
      "displayName": "Shivang Shrivastav",
      "userId": "00987918723260281132"
     },
     "user_tz": -330
    },
    "id": "LzJ-tJaXeRu2"
   },
   "outputs": [],
   "source": [
    "from sklearn.metrics import classification_report\n"
   ]
  },
  {
   "cell_type": "code",
   "execution_count": 259,
   "metadata": {
    "colab": {
     "base_uri": "https://localhost:8080/"
    },
    "editable": false,
    "executionInfo": {
     "elapsed": 50,
     "status": "ok",
     "timestamp": 1648969023954,
     "user": {
      "displayName": "Shivang Shrivastav",
      "userId": "00987918723260281132"
     },
     "user_tz": -330
    },
    "id": "G9mNdp9FeRu2",
    "outputId": "710ef8de-3873-47ba-f162-db095f3e02e1"
   },
   "outputs": [
    {
     "name": "stdout",
     "output_type": "stream",
     "text": [
      "              precision    recall  f1-score   support\n",
      "\n",
      "           0       0.82      0.96      0.89        49\n",
      "           1       0.90      0.90      0.90        48\n",
      "           2       0.97      1.00      0.99        36\n",
      "           3       0.98      1.00      0.99        40\n",
      "           4       0.97      0.90      0.93        31\n",
      "           5       0.97      0.88      0.92        40\n",
      "           6       0.79      0.75      0.77        51\n",
      "           7       0.93      0.98      0.95        53\n",
      "           8       0.95      0.81      0.87        47\n",
      "           9       0.96      0.96      0.96        47\n",
      "          10       0.90      0.95      0.93        40\n",
      "          11       0.95      0.75      0.84        24\n",
      "          12       0.88      0.93      0.91        46\n",
      "          13       0.92      0.89      0.90        37\n",
      "          14       0.95      0.88      0.92        43\n",
      "          15       0.84      0.86      0.85        37\n",
      "          16       0.86      0.93      0.89        54\n",
      "          17       0.80      0.94      0.86        50\n",
      "          18       0.85      0.90      0.87        50\n",
      "          19       0.86      0.75      0.80        24\n",
      "          20       0.89      0.92      0.91        52\n",
      "          21       0.81      0.79      0.80        48\n",
      "          22       0.95      0.97      0.96        39\n",
      "          23       0.79      0.77      0.78        30\n",
      "          24       1.00      0.94      0.97        18\n",
      "          25       0.95      0.93      0.94        40\n",
      "          26       0.83      0.85      0.84        46\n",
      "          27       0.77      0.98      0.86        51\n",
      "          28       0.91      0.71      0.79        41\n",
      "          29       0.88      0.72      0.79        53\n",
      "          30       0.95      0.90      0.92        39\n",
      "          31       0.95      0.97      0.96        39\n",
      "          32       1.00      0.97      0.99        39\n",
      "          33       0.85      0.95      0.90        37\n",
      "          34       1.00      0.92      0.96        38\n",
      "          35       0.90      0.92      0.91        50\n",
      "          36       0.78      0.93      0.85        43\n",
      "          37       0.92      0.88      0.90        40\n",
      "          38       0.86      0.97      0.91        33\n",
      "          39       0.94      0.97      0.96        35\n",
      "          40       0.90      0.93      0.91        40\n",
      "          41       0.97      0.94      0.95        33\n",
      "          42       0.80      0.83      0.81        29\n",
      "          43       0.97      0.92      0.95        39\n",
      "          44       0.82      0.87      0.85        38\n",
      "          45       1.00      0.97      0.99        35\n",
      "          46       0.92      0.98      0.95        48\n",
      "          47       0.92      0.82      0.87        44\n",
      "          48       0.89      0.76      0.82        45\n",
      "          49       0.82      0.80      0.81        45\n",
      "          50       0.94      0.92      0.93        37\n",
      "          51       0.97      0.97      0.97        32\n",
      "          52       0.93      0.84      0.88        50\n",
      "          53       0.88      0.73      0.80        48\n",
      "          54       0.75      0.90      0.82        40\n",
      "          55       1.00      1.00      1.00        35\n",
      "          56       0.91      0.86      0.89        36\n",
      "          57       0.93      1.00      0.96        37\n",
      "          58       0.97      0.92      0.94        37\n",
      "          59       0.79      0.86      0.83        44\n",
      "          60       0.92      1.00      0.96        33\n",
      "          61       0.97      0.82      0.89        45\n",
      "          62       0.65      0.76      0.70        34\n",
      "          63       0.96      0.83      0.89        52\n",
      "          64       1.00      0.88      0.94        51\n",
      "          65       0.91      0.84      0.87        37\n",
      "          66       0.68      0.67      0.67        51\n",
      "          67       0.65      0.97      0.78        40\n",
      "          68       0.81      0.85      0.83        34\n",
      "          69       0.79      0.91      0.85        34\n",
      "          70       0.87      0.89      0.88        37\n",
      "          71       0.93      0.95      0.94        40\n",
      "          72       0.94      0.89      0.92        19\n",
      "          73       0.97      0.93      0.95        42\n",
      "          74       0.86      0.82      0.84        39\n",
      "          75       0.91      0.91      0.91        53\n",
      "          76       0.95      0.78      0.85        49\n",
      "\n",
      "    accuracy                           0.89      3140\n",
      "   macro avg       0.89      0.89      0.89      3140\n",
      "weighted avg       0.89      0.89      0.89      3140\n",
      "\n"
     ]
    }
   ],
   "source": [
    "print(classification_report(data_test.Intent, y_predicted))"
   ]
  }
 ],
 "metadata": {
  "accelerator": "GPU",
  "colab": {
   "collapsed_sections": [
    "Qprl6yUreRuu"
   ],
   "machine_shape": "hm",
   "name": "Multi_Class Classification - BERT.ipynb",
   "provenance": []
  },
  "kernelspec": {
   "display_name": "Python 3 (ipykernel)",
   "language": "python",
   "name": "python3"
  },
  "language_info": {
   "codemirror_mode": {
    "name": "ipython",
    "version": 3
   },
   "file_extension": ".py",
   "mimetype": "text/x-python",
   "name": "python",
   "nbconvert_exporter": "python",
   "pygments_lexer": "ipython3",
   "version": "3.9.7"
  }
 },
 "nbformat": 4,
 "nbformat_minor": 1
}
